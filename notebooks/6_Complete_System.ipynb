{
 "cells": [
  {
   "cell_type": "markdown",
   "metadata": {},
   "source": [
    "# Complete System\n",
    "In this notebook we will be joining the pieces developed in the previous notebooks to create the final pipeline used to obtain the topics of a given publication.\n",
    "\n",
    "Each component has been shown in the following notebooks:\n",
    "* Named Entity Recognition: Notebook 4.\n",
    "* Entity Linking, Topic Extraction: Notebook 6.\n",
    "* Text Preprocessor, Vectorizer, Topic Model: Notebook 3.\n",
    "* Topic Model (automatic labelling of topics): Notebook 5.\n",
    "\n",
    "In this notebook we will be working on the Topic Combination module that will combine the lists of potential topics to output the final list of topics returned by the system with their confidence scores. Once this module is finished, the complete system will be used to obtain the topics of each article in the dataset, and we will save it for later use and inferring topics from new data."
   ]
  },
  {
   "cell_type": "markdown",
   "metadata": {},
   "source": [
    "# Setup"
   ]
  },
  {
   "cell_type": "code",
   "execution_count": 1,
   "metadata": {},
   "outputs": [],
   "source": [
    "%run __init__.py"
   ]
  },
  {
   "cell_type": "code",
   "execution_count": 2,
   "metadata": {},
   "outputs": [],
   "source": [
    "import pandas as pd\n",
    "\n",
    "GIT_FILE_PATH = os.path.join(NOTEBOOK_1_RESULTS_DIR, 'git_dataframe.pkl')\n",
    "\n",
    "git_df = pd.read_pickle(GIT_FILE_PATH)\n",
    "git_repositories = git_df['full_text_cleaned'].values"
   ]
  },
  {
   "cell_type": "markdown",
   "metadata": {},
   "source": [
    "## Loading the model\n",
    "The main two pipelines that retrieve the list of topics from the text will be loaded here:"
   ]
  },
  {
   "cell_type": "code",
   "execution_count": 3,
   "metadata": {},
   "outputs": [],
   "source": [
    "from herc_common.utils import load_object\n",
    "\n",
    "lda_pipe = load_object(os.path.join(NOTEBOOK_3_RESULTS_DIR, 'lda_pipe_with_labels.pkl'))\n",
    "ner_pipe = load_object(os.path.join(NOTEBOOK_5_RESULTS_DIR, 'topic_extraction_from_ner_pipe.pkl'))"
   ]
  },
  {
   "cell_type": "markdown",
   "metadata": {},
   "source": [
    "## Combining topics\n",
    "To join the results of both pipelines we will be making use of the [FeatureUnion](https://scikit-learn.org/stable/modules/generated/sklearn.pipeline.FeatureUnion.html) class from scikit-learn. This class will serve as a single transformer which concatenates the results of the previous pipelines:"
   ]
  },
  {
   "cell_type": "code",
   "execution_count": 4,
   "metadata": {},
   "outputs": [],
   "source": [
    "from sklearn.pipeline import FeatureUnion\n",
    "\n",
    "union = FeatureUnion([(\"ner\", ner_pipe),\n",
    "                      (\"lda\", lda_pipe)])"
   ]
  },
  {
   "cell_type": "markdown",
   "metadata": {},
   "source": [
    "## Building the final pipeline\n",
    "To build our final system, we will make use of a custom class that will combine the topics from the _ner_ and _lda_ pipelines. Once the topics are concatenated by the feature union they will go to the combiner, where a final list of topics will be returned:"
   ]
  },
  {
   "cell_type": "code",
   "execution_count": 5,
   "metadata": {},
   "outputs": [],
   "source": [
    "from sklearn.pipeline import Pipeline\n",
    "\n",
    "from herc_common.topic import TopicCombiner\n",
    "\n",
    "\n",
    "combiner = TopicCombiner()\n",
    "final_pipe = Pipeline([('union', union),\n",
    "                      ('combiner', combiner)])"
   ]
  },
  {
   "cell_type": "code",
   "execution_count": 6,
   "metadata": {},
   "outputs": [
    {
     "data": {
      "text/plain": [
       "<spacy.lang.en.English at 0x10c25f98c48>"
      ]
     },
     "execution_count": 6,
     "metadata": {},
     "output_type": "execute_result"
    }
   ],
   "source": [
    "import string\n",
    "\n",
    "import en_core_sci_lg\n",
    "import en_core_web_md\n",
    "\n",
    "from collections import Counter\n",
    "\n",
    "from tqdm import tqdm\n",
    "\n",
    "en_core_web_md.load()\n",
    "en_core_sci_lg.load()"
   ]
  },
  {
   "cell_type": "code",
   "execution_count": 7,
   "metadata": {},
   "outputs": [
    {
     "data": {
      "application/vnd.jupyter.widget-view+json": {
       "model_id": "b980799522be4679b9e4bd9334676ecd",
       "version_major": 2,
       "version_minor": 0
      },
      "text/plain": [
       "HBox(children=(FloatProgress(value=0.0, max=1.0), HTML(value='')))"
      ]
     },
     "metadata": {},
     "output_type": "display_data"
    },
    {
     "name": "stdout",
     "output_type": "stream",
     "text": [
      "\n"
     ]
    },
    {
     "data": {
      "application/vnd.jupyter.widget-view+json": {
       "model_id": "9724938697eb461c98de2b02c2c3650e",
       "version_major": 2,
       "version_minor": 0
      },
      "text/plain": [
       "HBox(children=(FloatProgress(value=1.0, bar_style='info', max=1.0), HTML(value='')))"
      ]
     },
     "metadata": {},
     "output_type": "display_data"
    },
    {
     "name": "stdout",
     "output_type": "stream",
     "text": [
      "\n"
     ]
    },
    {
     "data": {
      "text/plain": [
       "[[(biology (Q420), 0.1483065953654189),\n",
       "  (mathematics (Q395), 0.14788482047635976),\n",
       "  (geology (Q1069), 0.147849780831655),\n",
       "  (mathematical analysis (Q7754), 0.14594784235761898),\n",
       "  (statistics (Q12483), 0.1456752655538695),\n",
       "  (science (Q336), 0.14472921257103097),\n",
       "  (education (Q8434), 0.14338235294117646)]]"
      ]
     },
     "execution_count": 7,
     "metadata": {},
     "output_type": "execute_result"
    }
   ],
   "source": [
    "final_pipe.transform([git_repositories[-1]])"
   ]
  },
  {
   "cell_type": "markdown",
   "metadata": {},
   "source": [
    "## Predicting the final topics for the dataset\n",
    "Now that we have our final system ready, we will obtain the list of topics for the Agriculture dataset:"
   ]
  },
  {
   "cell_type": "code",
   "execution_count": 8,
   "metadata": {},
   "outputs": [
    {
     "data": {
      "application/vnd.jupyter.widget-view+json": {
       "model_id": "a8270e11e49641b0ac9b92bdbdde1e68",
       "version_major": 2,
       "version_minor": 0
      },
      "text/plain": [
       "HBox(children=(FloatProgress(value=0.0, max=50.0), HTML(value='')))"
      ]
     },
     "metadata": {},
     "output_type": "display_data"
    },
    {
     "name": "stdout",
     "output_type": "stream",
     "text": [
      "\n"
     ]
    },
    {
     "data": {
      "application/vnd.jupyter.widget-view+json": {
       "model_id": "42debc1f4e38428b9b2465eb89c235c5",
       "version_major": 2,
       "version_minor": 0
      },
      "text/plain": [
       "HBox(children=(FloatProgress(value=1.0, bar_style='info', max=1.0), HTML(value='')))"
      ]
     },
     "metadata": {},
     "output_type": "display_data"
    },
    {
     "name": "stdout",
     "output_type": "stream",
     "text": [
      "\n"
     ]
    }
   ],
   "source": [
    "topics = final_pipe.transform(git_repositories)"
   ]
  },
  {
   "cell_type": "code",
   "execution_count": 9,
   "metadata": {},
   "outputs": [
    {
     "name": "stdout",
     "output_type": "stream",
     "text": [
      "[\n",
      "  {\n",
      "    \"@id\": \"http://edma.org/challenge/223627473\",\n",
      "    \"https://persistence.uni-leipzig.org/nlp2rdf/ontologies/nif-core#isString\": [\n",
      "      {\n",
      "        \"@value\": \"Repository which contains various scripts and work with various basketball statistics. Basketball Analytics. This repository and scripts in it will be focusing on the statistics revolving around NBA and basketball in general. All code is written in Python using the Jupyter Notebooks which allow live preview of the images and thus making it nice and easy to analyze and visualize data. Current mini \\\"projects\\\": 2019-20 Season. Shots and assist by Doncic vs Pelicans . Mid-Range heavy Shot chart by DeMar Derozan . 2018-19 Season. Evolution of Brook Lopez, a look at change of Lopez' shot charts through the seasons . Predicting MVP for 2018-19 nba season. . Here is notebook which shows players that excel in the clutch. . Big Luka Dončić analysis, notebook . James Harden analysis, notebook . 2017-18 Season. Assists distribution between each NBA team for 2016/2017 season Crawler which cleans table of assists inside team from basketball-reference site Notebook to visualize assists distribution using heatmaps . Visualization of best 3 point shooters on very tight, tight, open and wide open defense Notebook to compare shooters based on closest defender . Shotcharts from past 2017 Eurobasket comparing Bogdanovics and displaying Markkanen's shooting ability Bojan vs Bogdan comparison on shot charts Lauri Markkanen's amazing first round shot chart . Comparison of clutch vs regular time shooting for top 20 NBA scorers in 2016/2017 season Notebook for FG%, FT%, TS% comparison in regular vs clutch time . Various stats analysis using Kaggle's dataset with NBA stats from 1950 season Notebook which runs through some regular and advanced stats from last season as well as from previous seasons Images which are results of previous notebook . Swarmplot of rookie stats for their first regular game in 2017-18 nba season, as well as comparison of Ben Simmons' and Markelle Fultz' debut with other first round picks Notebook which takes at look at previously described tasks. . Inspired by Aaron Gordon's first 40 point game, I took a look at how other young players his age, or younger, improved during their first 40 point game (only the ones which aren't rookies) Notebook Which visualizes players improvement in points per game during the season in which they scored 40 points or more. . A look at Russell Westbrook's 2016-17 season in which he won MVP award and averaged triple double. Notebook with some charts displaying Westbrook's averages through season. . Radar plots which describe player's style. Notebook with radar plots showing for Russell Westbrook and Kyrie Irving to view how they adapted to newly added teammates (Westbrook) and new team (for Kyrie). Notebook which shows how Stephen Curry changed his scoring coming from 2015-16 MVP season to 2016-17 season and addition of Kevin Durant. . Analysis of Players of the week/month in the NBA Notebook for week two. . James Harden's chase for three point heights Notebook where I show the pace of James Harden's three point shooting. . Stephen Curry's chase for three point record Notebook where Stephen Curry's progress in total three pointers made through career games in comparison with other top shooters . Free throw improvement for some centers Here is notebook where improvements for some of the players like Clint Capela and Andre Drummond can be seen in comparison to last season . Most improved three point shooters I analyzed which were the most improved three point shooters up to this point in season in this notebook . Fourth quarter scoring thus far LeBron James has by far the most points thus far in current season, that can be seen here . youngest to 40 HOU ATL BKN BOS CHA CHI CLE DAL DEN DET GSW IND LAC LAL MEM MIA MIL MIN NOP NYK OKC ORL PHI PHX POR SAC SAS TOR UTA WAS basket image basket image color mvp votings mvp votings old player shots open defense player shots tight defense player shots very tight defense player shots wide open defense player three points shots total clutch stats clutch stats advanced regular stats regular stats advanced Players Seasons Stats rookie debuts since 1983 rookies data Jamal Crawford Jason Terry Kyle Korver Paul Pierce Ray Allen Reggie Miller Stephen Curry Vince Carter harden 2017 18 steph 2015 16 steph 2016 17 westbrook 2016 17 README Bojan Bogdanovic infographic brook lopez brook lopez shotchart Clutch Stats doncic analysis doncic assists assists distance assists distribution best clutch 2018 19 doncic jump shots ranking doncic play ranking doncic shotchart doncic shotchart clutch doncic shotchart step back points per situation chart rookies clutch ppg rookies clutch total step backs all rookies advanced stats rookies stats all time scorers advanced harden analysis houston pbp data assist charts ast unast 2018 19 ast unast fg3 2018 19 ast unast fg3 since 00 ast unast fgm since 00 dribbles points dribbles points bubble efficiency 2018 19 efficiency top scorers efficiency top scorers no reg harden step back other houston players scoring raw step scoring type scoring type harden only scoring type long scoring type wide shotchart step shotchart swarmplot violinplot top 100 3pt era usg 2018 19 improved shooters Predicting MVP advanced cls data frame log all features log best features log best features poly log cls log cls mrr log cls poly 2 log cls poly 2 all log cls poly 3 log cls poly 3 all log final features normal log final features poly 2 log final features poly 2 all log final features poly 3 log final features scaler normal log final features scaler poly 2 log final features scaler poly 2 all log final features scaler poly 3 log min max scaler log no scale log no scale poly log no scale poly 2 no inter log no scale poly 3 log reduced features log reduced features all at 5 log reduced features at 5 log reduced features at 5 2 log reduced features poly 2 log reduced features poly 2 all log reduced features poly 2 all at 1 log reduced features poly 2 all at 5 log reduced features poly 2 at 1 log reduced features poly 2 at 5 log reduced features poly 3 log reduced features poly 3 all at 5 log reduced features scaler log reduced features scaler poly log reduced features scaler poly 2 log reg normal log reg poly 2 log reg poly 2 all log reg poly 3 log reg scaler log reg scaler poly 2 log reg scaler poly 2 all log reg scaler poly 3 log regular features reg results sorted reg results sorted top 1 reg results sorted top 5 player per g reg results mse sorted temp test data top players averages season three point era evolution Offense top scorers warriors on off derozan doncic shots asists first trip double assist Crawler visualize assists closest defenders percentage Bogdanovic vs Bogdanovic Lauri Markkanen shotchart best scorers late free throw centers Nba clutch time and regular time shooting comparison Nba players nba comparison nba win shares rebounds three barchart three total barchart usage oladipo cousins week2 Players comparison Radar plot chris paul rockets Rookies swarm first first picks crawler Assist chart Shot Chart three point improvement Harden comparison curry record game log parser utah jazz analysis visualization Westbrook triple double chase comparison of young players season\"\n",
      "      }\n",
      "    ],\n",
      "    \"https://persistence.uni-leipzig.org/nlp2rdf/ontologies/nif-core#predominantLanguage\": [\n",
      "      {\n",
      "        \"@value\": \"en\"\n",
      "      }\n",
      "    ],\n",
      "    \"https://persistence.uni-leipzig.org/nlp2rdf/ontologies/nif-core#sourceURL\": [\n",
      "      {\n",
      "        \"@id\": \"https://github.com/pauldevos/BasketballAnalytics\"\n",
      "      }\n",
      "    ],\n",
      "    \"https://persistence.uni-leipzig.org/nlp2rdf/ontologies/nif-core#topic\": [\n",
      "      {\n",
      "        \"@id\": \"http://edma.org/challenge/mathematical_analysis\"\n",
      "      },\n",
      "      {\n",
      "        \"@id\": \"http://edma.org/challenge/education\"\n",
      "      },\n",
      "      {\n",
      "        \"@id\": \"http://edma.org/challenge/science\"\n",
      "      },\n",
      "      {\n",
      "        \"@id\": \"http://edma.org/challenge/statistics\"\n",
      "      },\n",
      "      {\n",
      "        \"@id\": \"http://edma.org/challenge/geology\"\n",
      "      },\n",
      "      {\n",
      "        \"@id\": \"http://edma.org/challenge/mathematics\"\n",
      "      },\n",
      "      {\n",
      "        \"@id\": \"http://edma.org/challenge/biology\"\n",
      "      }\n",
      "    ]\n",
      "  },\n",
      "  {\n",
      "    \"@id\": \"http://edma.org/challenge/science\",\n",
      "    \"@type\": [\n",
      "      \"https://persistence.uni-leipzig.org/nlp2rdf/ontologies/nif-core#annotation\"\n",
      "    ],\n",
      "    \"http://www.w3.org/2000/01/rdf-schema#label\": [\n",
      "      {\n",
      "        \"@language\": \"es\",\n",
      "        \"@value\": \"\"\n",
      "      },\n",
      "      {\n",
      "        \"@language\": \"en\",\n",
      "        \"@value\": \"science\"\n",
      "      }\n",
      "    ],\n",
      "    \"http://www.w3.org/2005/11/its/rdf#taIdentRef\": [\n",
      "      {\n",
      "        \"@id\": \"https://www.wikidata.org/w/Q336\"\n",
      "      },\n",
      "      {\n",
      "        \"@id\": \"https://www.jstor.org/topic/empirical-science\"\n",
      "      },\n",
      "      {\n",
      "        \"@id\": \"https://meshb.nlm.nih.gov/record/ui?ui=D012586\"\n",
      "      },\n",
      "      {\n",
      "        \"@id\": \"https://id.ndl.go.jp/auth/ndlsh/00571322\"\n",
      "      },\n",
      "      {\n",
      "        \"@id\": \"https://freebase.toolforge.org//m/06mq7\"\n",
      "      },\n",
      "      {\n",
      "        \"@id\": \"http://id.nlm.nih.gov/mesh/H01.770\"\n",
      "      }\n",
      "    ],\n",
      "    \"https://persistence.uni-leipzig.org/nlp2rdf/ontologies/nif-core#confidence\": [\n",
      "      {\n",
      "        \"@value\": 0.14472921257103097\n",
      "      }\n",
      "    ]\n",
      "  },\n",
      "  {\n",
      "    \"@id\": \"http://edma.org/challenge/mathematical_analysis\",\n",
      "    \"@type\": [\n",
      "      \"https://persistence.uni-leipzig.org/nlp2rdf/ontologies/nif-core#annotation\"\n",
      "    ],\n",
      "    \"http://www.w3.org/2000/01/rdf-schema#label\": [\n",
      "      {\n",
      "        \"@language\": \"es\",\n",
      "        \"@value\": \"\"\n",
      "      },\n",
      "      {\n",
      "        \"@language\": \"en\",\n",
      "        \"@value\": \"mathematical analysis\"\n",
      "      }\n",
      "    ],\n",
      "    \"http://www.w3.org/2005/11/its/rdf#taIdentRef\": [\n",
      "      {\n",
      "        \"@id\": \"https://academic.microsoft.com/v2/detail2910683785\"\n",
      "      },\n",
      "      {\n",
      "        \"@id\": \"https://id.ndl.go.jp/auth/ndlsh/00564620\"\n",
      "      },\n",
      "      {\n",
      "        \"@id\": \"https://www.jstor.org/topic/mathematical-analysis\"\n",
      "      },\n",
      "      {\n",
      "        \"@id\": \"https://www.wikidata.org/w/Q7754\"\n",
      "      },\n",
      "      {\n",
      "        \"@id\": \"https://freebase.toolforge.org//m/0cywj\"\n",
      "      },\n",
      "      {\n",
      "        \"@id\": \"http://vocabularies.unesco.org/thesaurus/concept2246\"\n",
      "      },\n",
      "      {\n",
      "        \"@id\": \"https://academic.microsoft.com/v2/detail134306372\"\n",
      "      }\n",
      "    ],\n",
      "    \"https://persistence.uni-leipzig.org/nlp2rdf/ontologies/nif-core#confidence\": [\n",
      "      {\n",
      "        \"@value\": 0.14594784235761898\n",
      "      }\n",
      "    ]\n",
      "  },\n",
      "  {\n",
      "    \"@id\": \"http://edma.org/challenge/education\",\n",
      "    \"@type\": [\n",
      "      \"https://persistence.uni-leipzig.org/nlp2rdf/ontologies/nif-core#annotation\"\n",
      "    ],\n",
      "    \"http://www.w3.org/2000/01/rdf-schema#label\": [\n",
      "      {\n",
      "        \"@language\": \"en\",\n",
      "        \"@value\": \"education\"\n",
      "      },\n",
      "      {\n",
      "        \"@language\": \"es\",\n",
      "        \"@value\": \"\"\n",
      "      }\n",
      "    ],\n",
      "    \"http://www.w3.org/2005/11/its/rdf#taIdentRef\": [\n",
      "      {\n",
      "        \"@id\": \"https://www.jstor.org/topic/education\"\n",
      "      },\n",
      "      {\n",
      "        \"@id\": \"https://www.jstor.org/topic/educators\"\n",
      "      },\n",
      "      {\n",
      "        \"@id\": \"http://id.nlm.nih.gov/mesh/I02\"\n",
      "      },\n",
      "      {\n",
      "        \"@id\": \"https://www.wikidata.org/w/Q8434\"\n",
      "      },\n",
      "      {\n",
      "        \"@id\": \"https://www.jstor.org/topic/teaching\"\n",
      "      },\n",
      "      {\n",
      "        \"@id\": \"https://academic.microsoft.com/v2/detail106432739\"\n",
      "      },\n",
      "      {\n",
      "        \"@id\": \"http://vocabularies.unesco.org/thesaurus/concept2\"\n",
      "      },\n",
      "      {\n",
      "        \"@id\": \"https://id.ndl.go.jp/auth/ndlsh/00567137\"\n",
      "      },\n",
      "      {\n",
      "        \"@id\": \"https://meshb.nlm.nih.gov/record/ui?ui=D004493\"\n",
      "      },\n",
      "      {\n",
      "        \"@id\": \"https://freebase.toolforge.org//m/02jfc\"\n",
      "      }\n",
      "    ],\n",
      "    \"https://persistence.uni-leipzig.org/nlp2rdf/ontologies/nif-core#confidence\": [\n",
      "      {\n",
      "        \"@value\": 0.14338235294117646\n",
      "      }\n",
      "    ]\n",
      "  },\n",
      "  {\n",
      "    \"@id\": \"http://edma.org/challenge/mathematics\",\n",
      "    \"@type\": [\n",
      "      \"https://persistence.uni-leipzig.org/nlp2rdf/ontologies/nif-core#annotation\"\n",
      "    ],\n",
      "    \"http://www.w3.org/2000/01/rdf-schema#label\": [\n",
      "      {\n",
      "        \"@language\": \"en\",\n",
      "        \"@value\": \"mathematics\"\n",
      "      },\n",
      "      {\n",
      "        \"@language\": \"es\",\n",
      "        \"@value\": \"\"\n",
      "      }\n",
      "    ],\n",
      "    \"http://www.w3.org/2005/11/its/rdf#taIdentRef\": [\n",
      "      {\n",
      "        \"@id\": \"http://id.nlm.nih.gov/mesh/H01.548\"\n",
      "      },\n",
      "      {\n",
      "        \"@id\": \"http://uri.gbv.de/terminology/bk/31\"\n",
      "      },\n",
      "      {\n",
      "        \"@id\": \"https://id.ndl.go.jp/auth/ndlsh/00571521\"\n",
      "      },\n",
      "      {\n",
      "        \"@id\": \"https://meshb.nlm.nih.gov/record/ui?ui=D008433\"\n",
      "      },\n",
      "      {\n",
      "        \"@id\": \"http://vocabularies.unesco.org/thesaurus/concept118\"\n",
      "      },\n",
      "      {\n",
      "        \"@id\": \"https://www.wikidata.org/w/Q395\"\n",
      "      },\n",
      "      {\n",
      "        \"@id\": \"https://freebase.toolforge.org//m/04rjg\"\n",
      "      },\n",
      "      {\n",
      "        \"@id\": \"https://academic.microsoft.com/v2/detail33923547\"\n",
      "      },\n",
      "      {\n",
      "        \"@id\": \"https://www.jstor.org/topic/mathematics\"\n",
      "      }\n",
      "    ],\n",
      "    \"https://persistence.uni-leipzig.org/nlp2rdf/ontologies/nif-core#confidence\": [\n",
      "      {\n",
      "        \"@value\": 0.14788482047635976\n",
      "      }\n",
      "    ]\n",
      "  },\n",
      "  {\n",
      "    \"@id\": \"http://edma.org/challenge/geology\",\n",
      "    \"@type\": [\n",
      "      \"https://persistence.uni-leipzig.org/nlp2rdf/ontologies/nif-core#annotation\"\n",
      "    ],\n",
      "    \"http://www.w3.org/2000/01/rdf-schema#label\": [\n",
      "      {\n",
      "        \"@language\": \"en\",\n",
      "        \"@value\": \"geology\"\n",
      "      },\n",
      "      {\n",
      "        \"@language\": \"es\",\n",
      "        \"@value\": \"\"\n",
      "      }\n",
      "    ],\n",
      "    \"http://www.w3.org/2005/11/its/rdf#taIdentRef\": [\n",
      "      {\n",
      "        \"@id\": \"https://id.ndl.go.jp/auth/ndlsh/00573090\"\n",
      "      },\n",
      "      {\n",
      "        \"@id\": \"https://www.jstor.org/topic/geology\"\n",
      "      },\n",
      "      {\n",
      "        \"@id\": \"http://vocabularies.unesco.org/thesaurus/concept159\"\n",
      "      },\n",
      "      {\n",
      "        \"@id\": \"http://id.nlm.nih.gov/mesh/H01.277.562\"\n",
      "      },\n",
      "      {\n",
      "        \"@id\": \"https://www.wikidata.org/w/Q1069\"\n",
      "      },\n",
      "      {\n",
      "        \"@id\": \"https://academic.microsoft.com/v2/detail127313418\"\n",
      "      },\n",
      "      {\n",
      "        \"@id\": \"https://meshb.nlm.nih.gov/record/ui?ui=D005844\"\n",
      "      },\n",
      "      {\n",
      "        \"@id\": \"https://freebase.toolforge.org//m/036hv\"\n",
      "      }\n",
      "    ],\n",
      "    \"https://persistence.uni-leipzig.org/nlp2rdf/ontologies/nif-core#confidence\": [\n",
      "      {\n",
      "        \"@value\": 0.147849780831655\n",
      "      }\n",
      "    ]\n",
      "  },\n",
      "  {\n",
      "    \"@id\": \"http://edma.org/challenge/biology\",\n",
      "    \"@type\": [\n",
      "      \"https://persistence.uni-leipzig.org/nlp2rdf/ontologies/nif-core#annotation\"\n",
      "    ],\n",
      "    \"http://www.w3.org/2000/01/rdf-schema#label\": [\n",
      "      {\n",
      "        \"@language\": \"es\",\n",
      "        \"@value\": \"\"\n",
      "      },\n",
      "      {\n",
      "        \"@language\": \"en\",\n",
      "        \"@value\": \"biology\"\n",
      "      }\n",
      "    ],\n",
      "    \"http://www.w3.org/2005/11/its/rdf#taIdentRef\": [\n",
      "      {\n",
      "        \"@id\": \"https://www.jstor.org/topic/biological-sciences\"\n",
      "      },\n",
      "      {\n",
      "        \"@id\": \"https://id.ndl.go.jp/auth/ndlsh/00570263\"\n",
      "      },\n",
      "      {\n",
      "        \"@id\": \"http://vocabularies.unesco.org/thesaurus/concept219\"\n",
      "      },\n",
      "      {\n",
      "        \"@id\": \"https://academic.microsoft.com/v2/detail86803240\"\n",
      "      },\n",
      "      {\n",
      "        \"@id\": \"https://freebase.toolforge.org//m/01540\"\n",
      "      },\n",
      "      {\n",
      "        \"@id\": \"https://www.wikidata.org/w/Q420\"\n",
      "      },\n",
      "      {\n",
      "        \"@id\": \"http://id.nlm.nih.gov/mesh/H01.158.273\"\n",
      "      },\n",
      "      {\n",
      "        \"@id\": \"http://uri.gbv.de/terminology/bk/42\"\n",
      "      },\n",
      "      {\n",
      "        \"@id\": \"https://meshb.nlm.nih.gov/record/ui?ui=D001695\"\n",
      "      },\n",
      "      {\n",
      "        \"@id\": \"https://www.jstor.org/topic/biology\"\n",
      "      }\n",
      "    ],\n",
      "    \"https://persistence.uni-leipzig.org/nlp2rdf/ontologies/nif-core#confidence\": [\n",
      "      {\n",
      "        \"@value\": 0.1483065953654189\n",
      "      }\n",
      "    ]\n",
      "  },\n",
      "  {\n",
      "    \"@id\": \"http://edma.org/challenge/statistics\",\n",
      "    \"@type\": [\n",
      "      \"https://persistence.uni-leipzig.org/nlp2rdf/ontologies/nif-core#annotation\"\n",
      "    ],\n",
      "    \"http://www.w3.org/2000/01/rdf-schema#label\": [\n",
      "      {\n",
      "        \"@language\": \"es\",\n",
      "        \"@value\": \"\"\n",
      "      },\n",
      "      {\n",
      "        \"@language\": \"en\",\n",
      "        \"@value\": \"statistics\"\n",
      "      }\n",
      "    ],\n",
      "    \"http://www.w3.org/2005/11/its/rdf#taIdentRef\": [\n",
      "      {\n",
      "        \"@id\": \"https://meshb.nlm.nih.gov/record/ui?ui=D020500\"\n",
      "      },\n",
      "      {\n",
      "        \"@id\": \"http://id.nlm.nih.gov/mesh/N05.715.360.750\"\n",
      "      },\n",
      "      {\n",
      "        \"@id\": \"http://vocabularies.unesco.org/thesaurus/concept2238\"\n",
      "      },\n",
      "      {\n",
      "        \"@id\": \"https://www.wikidata.org/w/Q12483\"\n",
      "      },\n",
      "      {\n",
      "        \"@id\": \"http://id.nlm.nih.gov/mesh/E05.318.740\"\n",
      "      },\n",
      "      {\n",
      "        \"@id\": \"http://id.nlm.nih.gov/mesh/N06.850.520.830\"\n",
      "      },\n",
      "      {\n",
      "        \"@id\": \"http://id.nlm.nih.gov/mesh/H01.548.832\"\n",
      "      },\n",
      "      {\n",
      "        \"@id\": \"https://www.jstor.org/topic/statistics\"\n",
      "      },\n",
      "      {\n",
      "        \"@id\": \"https://meshb.nlm.nih.gov/record/ui?ui=D013223\"\n",
      "      },\n",
      "      {\n",
      "        \"@id\": \"https://id.ndl.go.jp/auth/ndlsh/00573173\"\n",
      "      },\n",
      "      {\n",
      "        \"@id\": \"https://freebase.toolforge.org//m/06mnr\"\n",
      "      },\n",
      "      {\n",
      "        \"@id\": \"https://academic.microsoft.com/v2/detail105795698\"\n",
      "      },\n",
      "      {\n",
      "        \"@id\": \"http://vocabularies.unesco.org/thesaurus/concept119\"\n",
      "      },\n",
      "      {\n",
      "        \"@id\": \"http://id.nlm.nih.gov/mesh/V02.925\"\n",
      "      }\n",
      "    ],\n",
      "    \"https://persistence.uni-leipzig.org/nlp2rdf/ontologies/nif-core#confidence\": [\n",
      "      {\n",
      "        \"@value\": 0.1456752655538695\n",
      "      }\n",
      "    ]\n",
      "  }\n",
      "]\n"
     ]
    }
   ],
   "source": [
    "from rdflib import URIRef, BNode, Literal\n",
    "from rdflib import Namespace\n",
    "from rdflib import Graph\n",
    "from rdflib.namespace import RDF, RDFS\n",
    "\n",
    "EDMA = Namespace(\"http://edma.org/challenge/\")\n",
    "ITSRDF = Namespace(\"http://www.w3.org/2005/11/its/rdf#\")\n",
    "NIF = Namespace(\"https://persistence.uni-leipzig.org/nlp2rdf/ontologies/nif-core#\")\n",
    "\n",
    "g = Graph()\n",
    "g.bind('edma', EDMA)\n",
    "g.bind('itsrdf', ITSRDF)\n",
    "g.bind('nif', NIF)\n",
    "text = git_repositories[-1]\n",
    "text_topics = topics[-1]\n",
    "\n",
    "def add_text_topics_to_graph(uri, c_id, text, topics, g):\n",
    "    context_element = URIRef(f\"{EDMA}{c_id}\")\n",
    "    text_element = Literal(text)\n",
    "    g.add((context_element, NIF.isString, text_element))\n",
    "    g.add((context_element, NIF.sourceURL, URIRef(uri)))\n",
    "    g.add((context_element, NIF.predominantLanguage, Literal('en')))\n",
    "    for topic, score in topics:\n",
    "        topic_label = '_'.join(str(topic).split(' '))\n",
    "        topic_element = URIRef(f\"{EDMA}{topic_label}\")\n",
    "        g.add((topic_element, RDF.type, NIF.annotation))\n",
    "        g.add((topic_element, NIF.confidence, Literal(topic.score)))\n",
    "        for lang, val in topic.labels.items():\n",
    "            g.add((topic_element, RDFS.label, Literal(val, lang=lang)))\n",
    "        for uri in topic.uris:\n",
    "            g.add((topic_element, ITSRDF.taIdentRef, URIRef(uri)))\n",
    "        g.add((context_element, NIF.topic, topic_element))\n",
    "    return context_element\n",
    "\n",
    "\n",
    "add_text_topics_to_graph('https://github.com/pauldevos/BasketballAnalytics', '223627473',\n",
    "                         text, text_topics, g)\n",
    "print(g.serialize(format=\"turtle\").decode(\"utf-8\"))"
   ]
  },
  {
   "cell_type": "markdown",
   "metadata": {},
   "source": [
    "## Saving results\n",
    "Finally, we are going to save the complete pipeline for further use with new data:"
   ]
  },
  {
   "cell_type": "code",
   "execution_count": null,
   "metadata": {},
   "outputs": [],
   "source": [
    "from herc_common.utils import save_object\n",
    "\n",
    "save_object(final_pipe, os.path.join(NOTEBOOK_6_RESULTS_DIR, 'final_pipe.pkl'))"
   ]
  }
 ],
 "metadata": {
  "kernelspec": {
   "display_name": "Python 3",
   "language": "python",
   "name": "python3"
  },
  "language_info": {
   "codemirror_mode": {
    "name": "ipython",
    "version": 3
   },
   "file_extension": ".py",
   "mimetype": "text/x-python",
   "name": "python",
   "nbconvert_exporter": "python",
   "pygments_lexer": "ipython3",
   "version": "3.7.8"
  }
 },
 "nbformat": 4,
 "nbformat_minor": 4
}
