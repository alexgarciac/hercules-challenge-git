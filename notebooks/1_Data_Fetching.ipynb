{
 "cells": [
  {
   "cell_type": "markdown",
   "metadata": {},
   "source": [
    "# 1. Data fetching and cleaning\n",
    "In this notebook we are going to fetch and perform an initial exploration of the dataset for the Git track of the Hércules Challenge. This dataset consists of 50 GitHub repositories."
   ]
  },
  {
   "cell_type": "markdown",
   "metadata": {},
   "source": [
    "## Setup\n",
    "As always, we will begin the notebook by starting the logging system and importing some constants defined in the \"\\_\\_init\\_\\_.py\" file:"
   ]
  },
  {
   "cell_type": "code",
   "execution_count": 1,
   "metadata": {},
   "outputs": [
    {
     "name": "stderr",
     "output_type": "stream",
     "text": [
      "INFO:root:Starting logger\n"
     ]
    }
   ],
   "source": [
    "%run __init__.py"
   ]
  },
  {
   "cell_type": "markdown",
   "metadata": {},
   "source": [
    "We will also define an auxiliary function to print the empty columns of the dataframes:"
   ]
  },
  {
   "cell_type": "code",
   "execution_count": 2,
   "metadata": {},
   "outputs": [],
   "source": [
    "def print_empty_cols(df):\n",
    "    for col in df.columns:\n",
    "        print(col)\n",
    "        print('-' * len(col))\n",
    "        res = df[df[col] == ''].index\n",
    "        print(f\"{len(res)} articles have no value for column {col}\")\n",
    "        print(res)\n",
    "        print('\\n')\n"
   ]
  },
  {
   "cell_type": "markdown",
   "metadata": {},
   "source": [
    "Finally, we will impor the bokeh library to show the charts in the notebook, and we will import the BokehHistogram class from the _herc\\_common_ library to show our results:"
   ]
  },
  {
   "cell_type": "code",
   "execution_count": 3,
   "metadata": {},
   "outputs": [
    {
     "data": {
      "text/html": [
       "\n",
       "    <div class=\"bk-root\">\n",
       "        <a href=\"https://bokeh.org\" target=\"_blank\" class=\"bk-logo bk-logo-small bk-logo-notebook\"></a>\n",
       "        <span id=\"1001\">Loading BokehJS ...</span>\n",
       "    </div>"
      ]
     },
     "metadata": {},
     "output_type": "display_data"
    },
    {
     "data": {
      "application/javascript": [
       "\n",
       "(function(root) {\n",
       "  function now() {\n",
       "    return new Date();\n",
       "  }\n",
       "\n",
       "  var force = true;\n",
       "\n",
       "  if (typeof root._bokeh_onload_callbacks === \"undefined\" || force === true) {\n",
       "    root._bokeh_onload_callbacks = [];\n",
       "    root._bokeh_is_loading = undefined;\n",
       "  }\n",
       "\n",
       "  var JS_MIME_TYPE = 'application/javascript';\n",
       "  var HTML_MIME_TYPE = 'text/html';\n",
       "  var EXEC_MIME_TYPE = 'application/vnd.bokehjs_exec.v0+json';\n",
       "  var CLASS_NAME = 'output_bokeh rendered_html';\n",
       "\n",
       "  /**\n",
       "   * Render data to the DOM node\n",
       "   */\n",
       "  function render(props, node) {\n",
       "    var script = document.createElement(\"script\");\n",
       "    node.appendChild(script);\n",
       "  }\n",
       "\n",
       "  /**\n",
       "   * Handle when an output is cleared or removed\n",
       "   */\n",
       "  function handleClearOutput(event, handle) {\n",
       "    var cell = handle.cell;\n",
       "\n",
       "    var id = cell.output_area._bokeh_element_id;\n",
       "    var server_id = cell.output_area._bokeh_server_id;\n",
       "    // Clean up Bokeh references\n",
       "    if (id != null && id in Bokeh.index) {\n",
       "      Bokeh.index[id].model.document.clear();\n",
       "      delete Bokeh.index[id];\n",
       "    }\n",
       "\n",
       "    if (server_id !== undefined) {\n",
       "      // Clean up Bokeh references\n",
       "      var cmd = \"from bokeh.io.state import curstate; print(curstate().uuid_to_server['\" + server_id + \"'].get_sessions()[0].document.roots[0]._id)\";\n",
       "      cell.notebook.kernel.execute(cmd, {\n",
       "        iopub: {\n",
       "          output: function(msg) {\n",
       "            var id = msg.content.text.trim();\n",
       "            if (id in Bokeh.index) {\n",
       "              Bokeh.index[id].model.document.clear();\n",
       "              delete Bokeh.index[id];\n",
       "            }\n",
       "          }\n",
       "        }\n",
       "      });\n",
       "      // Destroy server and session\n",
       "      var cmd = \"import bokeh.io.notebook as ion; ion.destroy_server('\" + server_id + \"')\";\n",
       "      cell.notebook.kernel.execute(cmd);\n",
       "    }\n",
       "  }\n",
       "\n",
       "  /**\n",
       "   * Handle when a new output is added\n",
       "   */\n",
       "  function handleAddOutput(event, handle) {\n",
       "    var output_area = handle.output_area;\n",
       "    var output = handle.output;\n",
       "\n",
       "    // limit handleAddOutput to display_data with EXEC_MIME_TYPE content only\n",
       "    if ((output.output_type != \"display_data\") || (!output.data.hasOwnProperty(EXEC_MIME_TYPE))) {\n",
       "      return\n",
       "    }\n",
       "\n",
       "    var toinsert = output_area.element.find(\".\" + CLASS_NAME.split(' ')[0]);\n",
       "\n",
       "    if (output.metadata[EXEC_MIME_TYPE][\"id\"] !== undefined) {\n",
       "      toinsert[toinsert.length - 1].firstChild.textContent = output.data[JS_MIME_TYPE];\n",
       "      // store reference to embed id on output_area\n",
       "      output_area._bokeh_element_id = output.metadata[EXEC_MIME_TYPE][\"id\"];\n",
       "    }\n",
       "    if (output.metadata[EXEC_MIME_TYPE][\"server_id\"] !== undefined) {\n",
       "      var bk_div = document.createElement(\"div\");\n",
       "      bk_div.innerHTML = output.data[HTML_MIME_TYPE];\n",
       "      var script_attrs = bk_div.children[0].attributes;\n",
       "      for (var i = 0; i < script_attrs.length; i++) {\n",
       "        toinsert[toinsert.length - 1].firstChild.setAttribute(script_attrs[i].name, script_attrs[i].value);\n",
       "        toinsert[toinsert.length - 1].firstChild.textContent = bk_div.children[0].textContent\n",
       "      }\n",
       "      // store reference to server id on output_area\n",
       "      output_area._bokeh_server_id = output.metadata[EXEC_MIME_TYPE][\"server_id\"];\n",
       "    }\n",
       "  }\n",
       "\n",
       "  function register_renderer(events, OutputArea) {\n",
       "\n",
       "    function append_mime(data, metadata, element) {\n",
       "      // create a DOM node to render to\n",
       "      var toinsert = this.create_output_subarea(\n",
       "        metadata,\n",
       "        CLASS_NAME,\n",
       "        EXEC_MIME_TYPE\n",
       "      );\n",
       "      this.keyboard_manager.register_events(toinsert);\n",
       "      // Render to node\n",
       "      var props = {data: data, metadata: metadata[EXEC_MIME_TYPE]};\n",
       "      render(props, toinsert[toinsert.length - 1]);\n",
       "      element.append(toinsert);\n",
       "      return toinsert\n",
       "    }\n",
       "\n",
       "    /* Handle when an output is cleared or removed */\n",
       "    events.on('clear_output.CodeCell', handleClearOutput);\n",
       "    events.on('delete.Cell', handleClearOutput);\n",
       "\n",
       "    /* Handle when a new output is added */\n",
       "    events.on('output_added.OutputArea', handleAddOutput);\n",
       "\n",
       "    /**\n",
       "     * Register the mime type and append_mime function with output_area\n",
       "     */\n",
       "    OutputArea.prototype.register_mime_type(EXEC_MIME_TYPE, append_mime, {\n",
       "      /* Is output safe? */\n",
       "      safe: true,\n",
       "      /* Index of renderer in `output_area.display_order` */\n",
       "      index: 0\n",
       "    });\n",
       "  }\n",
       "\n",
       "  // register the mime type if in Jupyter Notebook environment and previously unregistered\n",
       "  if (root.Jupyter !== undefined) {\n",
       "    var events = require('base/js/events');\n",
       "    var OutputArea = require('notebook/js/outputarea').OutputArea;\n",
       "\n",
       "    if (OutputArea.prototype.mime_types().indexOf(EXEC_MIME_TYPE) == -1) {\n",
       "      register_renderer(events, OutputArea);\n",
       "    }\n",
       "  }\n",
       "\n",
       "  \n",
       "  if (typeof (root._bokeh_timeout) === \"undefined\" || force === true) {\n",
       "    root._bokeh_timeout = Date.now() + 5000;\n",
       "    root._bokeh_failed_load = false;\n",
       "  }\n",
       "\n",
       "  var NB_LOAD_WARNING = {'data': {'text/html':\n",
       "     \"<div style='background-color: #fdd'>\\n\"+\n",
       "     \"<p>\\n\"+\n",
       "     \"BokehJS does not appear to have successfully loaded. If loading BokehJS from CDN, this \\n\"+\n",
       "     \"may be due to a slow or bad network connection. Possible fixes:\\n\"+\n",
       "     \"</p>\\n\"+\n",
       "     \"<ul>\\n\"+\n",
       "     \"<li>re-rerun `output_notebook()` to attempt to load from CDN again, or</li>\\n\"+\n",
       "     \"<li>use INLINE resources instead, as so:</li>\\n\"+\n",
       "     \"</ul>\\n\"+\n",
       "     \"<code>\\n\"+\n",
       "     \"from bokeh.resources import INLINE\\n\"+\n",
       "     \"output_notebook(resources=INLINE)\\n\"+\n",
       "     \"</code>\\n\"+\n",
       "     \"</div>\"}};\n",
       "\n",
       "  function display_loaded() {\n",
       "    var el = document.getElementById(\"1001\");\n",
       "    if (el != null) {\n",
       "      el.textContent = \"BokehJS is loading...\";\n",
       "    }\n",
       "    if (root.Bokeh !== undefined) {\n",
       "      if (el != null) {\n",
       "        el.textContent = \"BokehJS \" + root.Bokeh.version + \" successfully loaded.\";\n",
       "      }\n",
       "    } else if (Date.now() < root._bokeh_timeout) {\n",
       "      setTimeout(display_loaded, 100)\n",
       "    }\n",
       "  }\n",
       "\n",
       "\n",
       "  function run_callbacks() {\n",
       "    try {\n",
       "      root._bokeh_onload_callbacks.forEach(function(callback) {\n",
       "        if (callback != null)\n",
       "          callback();\n",
       "      });\n",
       "    } finally {\n",
       "      delete root._bokeh_onload_callbacks\n",
       "    }\n",
       "    console.debug(\"Bokeh: all callbacks have finished\");\n",
       "  }\n",
       "\n",
       "  function load_libs(css_urls, js_urls, callback) {\n",
       "    if (css_urls == null) css_urls = [];\n",
       "    if (js_urls == null) js_urls = [];\n",
       "\n",
       "    root._bokeh_onload_callbacks.push(callback);\n",
       "    if (root._bokeh_is_loading > 0) {\n",
       "      console.debug(\"Bokeh: BokehJS is being loaded, scheduling callback at\", now());\n",
       "      return null;\n",
       "    }\n",
       "    if (js_urls == null || js_urls.length === 0) {\n",
       "      run_callbacks();\n",
       "      return null;\n",
       "    }\n",
       "    console.debug(\"Bokeh: BokehJS not loaded, scheduling load and callback at\", now());\n",
       "    root._bokeh_is_loading = css_urls.length + js_urls.length;\n",
       "\n",
       "    function on_load() {\n",
       "      root._bokeh_is_loading--;\n",
       "      if (root._bokeh_is_loading === 0) {\n",
       "        console.debug(\"Bokeh: all BokehJS libraries/stylesheets loaded\");\n",
       "        run_callbacks()\n",
       "      }\n",
       "    }\n",
       "\n",
       "    function on_error() {\n",
       "      console.error(\"failed to load \" + url);\n",
       "    }\n",
       "\n",
       "    for (var i = 0; i < css_urls.length; i++) {\n",
       "      var url = css_urls[i];\n",
       "      const element = document.createElement(\"link\");\n",
       "      element.onload = on_load;\n",
       "      element.onerror = on_error;\n",
       "      element.rel = \"stylesheet\";\n",
       "      element.type = \"text/css\";\n",
       "      element.href = url;\n",
       "      console.debug(\"Bokeh: injecting link tag for BokehJS stylesheet: \", url);\n",
       "      document.body.appendChild(element);\n",
       "    }\n",
       "\n",
       "    const hashes = {\"https://cdn.bokeh.org/bokeh/release/bokeh-2.1.1.min.js\": \"kLr4fYcqcSpbuI95brIH3vnnYCquzzSxHPU6XGQCIkQRGJwhg0StNbj1eegrHs12\", \"https://cdn.bokeh.org/bokeh/release/bokeh-widgets-2.1.1.min.js\": \"xIGPmVtaOm+z0BqfSOMn4lOR6ciex448GIKG4eE61LsAvmGj48XcMQZtKcE/UXZe\", \"https://cdn.bokeh.org/bokeh/release/bokeh-tables-2.1.1.min.js\": \"Dc9u1wF/0zApGIWoBbH77iWEHtdmkuYWG839Uzmv8y8yBLXebjO9ZnERsde5Ln/P\", \"https://cdn.bokeh.org/bokeh/release/bokeh-gl-2.1.1.min.js\": \"cT9JaBz7GiRXdENrJLZNSC6eMNF3nh3fa5fTF51Svp+ukxPdwcU5kGXGPBgDCa2j\"};\n",
       "\n",
       "    for (var i = 0; i < js_urls.length; i++) {\n",
       "      var url = js_urls[i];\n",
       "      var element = document.createElement('script');\n",
       "      element.onload = on_load;\n",
       "      element.onerror = on_error;\n",
       "      element.async = false;\n",
       "      element.src = url;\n",
       "      if (url in hashes) {\n",
       "        element.crossOrigin = \"anonymous\";\n",
       "        element.integrity = \"sha384-\" + hashes[url];\n",
       "      }\n",
       "      console.debug(\"Bokeh: injecting script tag for BokehJS library: \", url);\n",
       "      document.head.appendChild(element);\n",
       "    }\n",
       "  };\n",
       "\n",
       "  function inject_raw_css(css) {\n",
       "    const element = document.createElement(\"style\");\n",
       "    element.appendChild(document.createTextNode(css));\n",
       "    document.body.appendChild(element);\n",
       "  }\n",
       "\n",
       "  \n",
       "  var js_urls = [\"https://cdn.bokeh.org/bokeh/release/bokeh-2.1.1.min.js\", \"https://cdn.bokeh.org/bokeh/release/bokeh-widgets-2.1.1.min.js\", \"https://cdn.bokeh.org/bokeh/release/bokeh-tables-2.1.1.min.js\", \"https://cdn.bokeh.org/bokeh/release/bokeh-gl-2.1.1.min.js\"];\n",
       "  var css_urls = [];\n",
       "  \n",
       "\n",
       "  var inline_js = [\n",
       "    function(Bokeh) {\n",
       "      Bokeh.set_log_level(\"info\");\n",
       "    },\n",
       "    function(Bokeh) {\n",
       "    \n",
       "    \n",
       "    }\n",
       "  ];\n",
       "\n",
       "  function run_inline_js() {\n",
       "    \n",
       "    if (root.Bokeh !== undefined || force === true) {\n",
       "      \n",
       "    for (var i = 0; i < inline_js.length; i++) {\n",
       "      inline_js[i].call(root, root.Bokeh);\n",
       "    }\n",
       "    if (force === true) {\n",
       "        display_loaded();\n",
       "      }} else if (Date.now() < root._bokeh_timeout) {\n",
       "      setTimeout(run_inline_js, 100);\n",
       "    } else if (!root._bokeh_failed_load) {\n",
       "      console.log(\"Bokeh: BokehJS failed to load within specified timeout.\");\n",
       "      root._bokeh_failed_load = true;\n",
       "    } else if (force !== true) {\n",
       "      var cell = $(document.getElementById(\"1001\")).parents('.cell').data().cell;\n",
       "      cell.output_area.append_execute_result(NB_LOAD_WARNING)\n",
       "    }\n",
       "\n",
       "  }\n",
       "\n",
       "  if (root._bokeh_is_loading === 0) {\n",
       "    console.debug(\"Bokeh: BokehJS loaded, going straight to plotting\");\n",
       "    run_inline_js();\n",
       "  } else {\n",
       "    load_libs(css_urls, js_urls, function() {\n",
       "      console.debug(\"Bokeh: BokehJS plotting callback run at\", now());\n",
       "      run_inline_js();\n",
       "    });\n",
       "  }\n",
       "}(window));"
      ],
      "application/vnd.bokehjs_load.v0+json": "\n(function(root) {\n  function now() {\n    return new Date();\n  }\n\n  var force = true;\n\n  if (typeof root._bokeh_onload_callbacks === \"undefined\" || force === true) {\n    root._bokeh_onload_callbacks = [];\n    root._bokeh_is_loading = undefined;\n  }\n\n  \n\n  \n  if (typeof (root._bokeh_timeout) === \"undefined\" || force === true) {\n    root._bokeh_timeout = Date.now() + 5000;\n    root._bokeh_failed_load = false;\n  }\n\n  var NB_LOAD_WARNING = {'data': {'text/html':\n     \"<div style='background-color: #fdd'>\\n\"+\n     \"<p>\\n\"+\n     \"BokehJS does not appear to have successfully loaded. If loading BokehJS from CDN, this \\n\"+\n     \"may be due to a slow or bad network connection. Possible fixes:\\n\"+\n     \"</p>\\n\"+\n     \"<ul>\\n\"+\n     \"<li>re-rerun `output_notebook()` to attempt to load from CDN again, or</li>\\n\"+\n     \"<li>use INLINE resources instead, as so:</li>\\n\"+\n     \"</ul>\\n\"+\n     \"<code>\\n\"+\n     \"from bokeh.resources import INLINE\\n\"+\n     \"output_notebook(resources=INLINE)\\n\"+\n     \"</code>\\n\"+\n     \"</div>\"}};\n\n  function display_loaded() {\n    var el = document.getElementById(\"1001\");\n    if (el != null) {\n      el.textContent = \"BokehJS is loading...\";\n    }\n    if (root.Bokeh !== undefined) {\n      if (el != null) {\n        el.textContent = \"BokehJS \" + root.Bokeh.version + \" successfully loaded.\";\n      }\n    } else if (Date.now() < root._bokeh_timeout) {\n      setTimeout(display_loaded, 100)\n    }\n  }\n\n\n  function run_callbacks() {\n    try {\n      root._bokeh_onload_callbacks.forEach(function(callback) {\n        if (callback != null)\n          callback();\n      });\n    } finally {\n      delete root._bokeh_onload_callbacks\n    }\n    console.debug(\"Bokeh: all callbacks have finished\");\n  }\n\n  function load_libs(css_urls, js_urls, callback) {\n    if (css_urls == null) css_urls = [];\n    if (js_urls == null) js_urls = [];\n\n    root._bokeh_onload_callbacks.push(callback);\n    if (root._bokeh_is_loading > 0) {\n      console.debug(\"Bokeh: BokehJS is being loaded, scheduling callback at\", now());\n      return null;\n    }\n    if (js_urls == null || js_urls.length === 0) {\n      run_callbacks();\n      return null;\n    }\n    console.debug(\"Bokeh: BokehJS not loaded, scheduling load and callback at\", now());\n    root._bokeh_is_loading = css_urls.length + js_urls.length;\n\n    function on_load() {\n      root._bokeh_is_loading--;\n      if (root._bokeh_is_loading === 0) {\n        console.debug(\"Bokeh: all BokehJS libraries/stylesheets loaded\");\n        run_callbacks()\n      }\n    }\n\n    function on_error() {\n      console.error(\"failed to load \" + url);\n    }\n\n    for (var i = 0; i < css_urls.length; i++) {\n      var url = css_urls[i];\n      const element = document.createElement(\"link\");\n      element.onload = on_load;\n      element.onerror = on_error;\n      element.rel = \"stylesheet\";\n      element.type = \"text/css\";\n      element.href = url;\n      console.debug(\"Bokeh: injecting link tag for BokehJS stylesheet: \", url);\n      document.body.appendChild(element);\n    }\n\n    const hashes = {\"https://cdn.bokeh.org/bokeh/release/bokeh-2.1.1.min.js\": \"kLr4fYcqcSpbuI95brIH3vnnYCquzzSxHPU6XGQCIkQRGJwhg0StNbj1eegrHs12\", \"https://cdn.bokeh.org/bokeh/release/bokeh-widgets-2.1.1.min.js\": \"xIGPmVtaOm+z0BqfSOMn4lOR6ciex448GIKG4eE61LsAvmGj48XcMQZtKcE/UXZe\", \"https://cdn.bokeh.org/bokeh/release/bokeh-tables-2.1.1.min.js\": \"Dc9u1wF/0zApGIWoBbH77iWEHtdmkuYWG839Uzmv8y8yBLXebjO9ZnERsde5Ln/P\", \"https://cdn.bokeh.org/bokeh/release/bokeh-gl-2.1.1.min.js\": \"cT9JaBz7GiRXdENrJLZNSC6eMNF3nh3fa5fTF51Svp+ukxPdwcU5kGXGPBgDCa2j\"};\n\n    for (var i = 0; i < js_urls.length; i++) {\n      var url = js_urls[i];\n      var element = document.createElement('script');\n      element.onload = on_load;\n      element.onerror = on_error;\n      element.async = false;\n      element.src = url;\n      if (url in hashes) {\n        element.crossOrigin = \"anonymous\";\n        element.integrity = \"sha384-\" + hashes[url];\n      }\n      console.debug(\"Bokeh: injecting script tag for BokehJS library: \", url);\n      document.head.appendChild(element);\n    }\n  };\n\n  function inject_raw_css(css) {\n    const element = document.createElement(\"style\");\n    element.appendChild(document.createTextNode(css));\n    document.body.appendChild(element);\n  }\n\n  \n  var js_urls = [\"https://cdn.bokeh.org/bokeh/release/bokeh-2.1.1.min.js\", \"https://cdn.bokeh.org/bokeh/release/bokeh-widgets-2.1.1.min.js\", \"https://cdn.bokeh.org/bokeh/release/bokeh-tables-2.1.1.min.js\", \"https://cdn.bokeh.org/bokeh/release/bokeh-gl-2.1.1.min.js\"];\n  var css_urls = [];\n  \n\n  var inline_js = [\n    function(Bokeh) {\n      Bokeh.set_log_level(\"info\");\n    },\n    function(Bokeh) {\n    \n    \n    }\n  ];\n\n  function run_inline_js() {\n    \n    if (root.Bokeh !== undefined || force === true) {\n      \n    for (var i = 0; i < inline_js.length; i++) {\n      inline_js[i].call(root, root.Bokeh);\n    }\n    if (force === true) {\n        display_loaded();\n      }} else if (Date.now() < root._bokeh_timeout) {\n      setTimeout(run_inline_js, 100);\n    } else if (!root._bokeh_failed_load) {\n      console.log(\"Bokeh: BokehJS failed to load within specified timeout.\");\n      root._bokeh_failed_load = true;\n    } else if (force !== true) {\n      var cell = $(document.getElementById(\"1001\")).parents('.cell').data().cell;\n      cell.output_area.append_execute_result(NB_LOAD_WARNING)\n    }\n\n  }\n\n  if (root._bokeh_is_loading === 0) {\n    console.debug(\"Bokeh: BokehJS loaded, going straight to plotting\");\n    run_inline_js();\n  } else {\n    load_libs(css_urls, js_urls, function() {\n      console.debug(\"Bokeh: BokehJS plotting callback run at\", now());\n      run_inline_js();\n    });\n  }\n}(window));"
     },
     "metadata": {},
     "output_type": "display_data"
    }
   ],
   "source": [
    "from bokeh.io import output_notebook\n",
    "\n",
    "output_notebook()"
   ]
  },
  {
   "cell_type": "code",
   "execution_count": 4,
   "metadata": {},
   "outputs": [],
   "source": [
    "from herc_common import BokehHistogram\n",
    "\n",
    "hist = BokehHistogram(color_fill=\"mediumslateblue\", color_hover=\"slateblue\", bins=25)"
   ]
  },
  {
   "cell_type": "markdown",
   "metadata": {},
   "source": [
    "## Getting the repository URLs\n"
   ]
  },
  {
   "cell_type": "markdown",
   "metadata": {},
   "source": [
    "The URL for every repository of the Git dataset is stored in the '_data/repo\\_urls.txt_' file. First of all, we will be loading all the urls from that file into a list:"
   ]
  },
  {
   "cell_type": "code",
   "execution_count": 5,
   "metadata": {},
   "outputs": [
    {
     "data": {
      "text/plain": [
       "50"
      ]
     },
     "execution_count": 5,
     "metadata": {},
     "output_type": "execute_result"
    }
   ],
   "source": [
    "REPO_URLS_FILE = 'repo_urls.txt'\n",
    "\n",
    "with open(os.path.join(DATA_DIR, REPO_URLS_FILE), 'r') as f:\n",
    "    repo_urls = [line.rstrip('\\n') for line in f]\n",
    "\n",
    "len(repo_urls)"
   ]
  },
  {
   "cell_type": "code",
   "execution_count": 6,
   "metadata": {},
   "outputs": [
    {
     "data": {
      "text/plain": [
       "'https://github.com/cmungall/LIRICAL/'"
      ]
     },
     "execution_count": 6,
     "metadata": {},
     "output_type": "execute_result"
    }
   ],
   "source": [
    "repo_urls[0]"
   ]
  },
  {
   "cell_type": "markdown",
   "metadata": {},
   "source": [
    "## Parsing the data"
   ]
  },
  {
   "cell_type": "markdown",
   "metadata": {},
   "source": [
    "Now that the URLs of every repository have been saved, we can start calling the [GitHub API](https://developer.github.com/v3/) to obtain information about each repo. Since the API has a limit of 50 requests per hour for non-authorized requests, and we will be making about 200 requests to fetch all the information, we will need to make use of a personal token to make calls to the API. More information about what a personal token is, and how to create one, can be accessed through the [following link](https://help.github.com/en/github/authenticating-to-github/creating-a-personal-access-token). In the next cell we will be asking for the token:"
   ]
  },
  {
   "cell_type": "code",
   "execution_count": 7,
   "metadata": {},
   "outputs": [],
   "source": [
    "import getpass\n",
    "\n",
    "\n",
    "try:\n",
    "    from secret import GITHUB_TOKEN\n",
    "except ModuleNotFoundError:\n",
    "    GITHUB_TOKEN = getpass.getpass(\"Introduce your personal access token to acces the GitHub API: \")\n"
   ]
  },
  {
   "cell_type": "markdown",
   "metadata": {},
   "source": [
    "We will now import a series of classes and functions that will be used to fetch information about a given repo and convert it to an instance of the _GitHubRepoData_ class. More information about these functions and classes can be accessed at the _src_ package:"
   ]
  },
  {
   "cell_type": "code",
   "execution_count": 8,
   "metadata": {},
   "outputs": [],
   "source": [
    "from src import GitHubIssue, GitHubRepoData, parse_repo_url"
   ]
  },
  {
   "cell_type": "markdown",
   "metadata": {},
   "source": [
    "Finally, we will be creating a list of GitHubRepoData instances with information about every repository from the dataset:"
   ]
  },
  {
   "cell_type": "code",
   "execution_count": 152,
   "metadata": {},
   "outputs": [
    {
     "name": "stderr",
     "output_type": "stream",
     "text": [
      "Processing repository: https://github.com/pauldevos/Basketball_Analytics: 100%|██████████| 50/50 [01:34<00:00,  1.89s/it]                 \n"
     ]
    }
   ],
   "source": [
    "from tqdm import tqdm\n",
    "\n",
    "git_dataset = []\n",
    "pbar = tqdm(repo_urls)\n",
    "for url in pbar:\n",
    "    pbar.set_description(f\"Processing repository: {url}\")\n",
    "    git_dataset.append(parse_repo_url(url, GITHUB_TOKEN))\n"
   ]
  },
  {
   "cell_type": "markdown",
   "metadata": {},
   "source": [
    "## Creating a dataframe"
   ]
  },
  {
   "cell_type": "markdown",
   "metadata": {},
   "source": [
    "The instances created before provide a _to\\_dict_ method that can be used to convert the class to a Python dict. This dict can be used to easily create a pandas DataFrame. This DataFrame will be used from now on to explore and interact with the dataset:"
   ]
  },
  {
   "cell_type": "code",
   "execution_count": 153,
   "metadata": {},
   "outputs": [
    {
     "data": {
      "text/html": [
       "<div>\n",
       "<style scoped>\n",
       "    .dataframe tbody tr th:only-of-type {\n",
       "        vertical-align: middle;\n",
       "    }\n",
       "\n",
       "    .dataframe tbody tr th {\n",
       "        vertical-align: top;\n",
       "    }\n",
       "\n",
       "    .dataframe thead th {\n",
       "        text-align: right;\n",
       "    }\n",
       "</style>\n",
       "<table border=\"1\" class=\"dataframe\">\n",
       "  <thead>\n",
       "    <tr style=\"text-align: right;\">\n",
       "      <th></th>\n",
       "      <th>gh_id</th>\n",
       "      <th>name</th>\n",
       "      <th>description</th>\n",
       "      <th>owner_name</th>\n",
       "      <th>languages</th>\n",
       "      <th>readme_text</th>\n",
       "      <th>issues_text</th>\n",
       "    </tr>\n",
       "  </thead>\n",
       "  <tbody>\n",
       "    <tr>\n",
       "      <th>0</th>\n",
       "      <td>216602979</td>\n",
       "      <td>LIRICAL</td>\n",
       "      <td>LIkelihood Ratio Interpretation of Clinical Ab...</td>\n",
       "      <td>cmungall</td>\n",
       "      <td>{'Java': 492423, 'FreeMarker': 13149, 'Python'...</td>\n",
       "      <td>LIRICAL\\n\\nLIkelihood Ratio Interpretation of ...</td>\n",
       "      <td></td>\n",
       "    </tr>\n",
       "    <tr>\n",
       "      <th>1</th>\n",
       "      <td>199330464</td>\n",
       "      <td>wikidata_ontomatcher</td>\n",
       "      <td>Matches ontology classes against wikidata</td>\n",
       "      <td>cmungall</td>\n",
       "      <td>{'Prolog': 14691, 'Makefile': 1472, 'Dockerfil...</td>\n",
       "      <td>Match an ontology to Wikidata\\nThis applicatio...</td>\n",
       "      <td>Will help with #1 and with https://github.com/...</td>\n",
       "    </tr>\n",
       "    <tr>\n",
       "      <th>2</th>\n",
       "      <td>253207181</td>\n",
       "      <td>ro-crate-ruby</td>\n",
       "      <td>A Ruby gem for creating, manipulating and read...</td>\n",
       "      <td>markwilkinson</td>\n",
       "      <td>{'Ruby': 52724, 'HTML': 1319}</td>\n",
       "      <td>ro-crate-ruby\\nThis is a WIP gem for creating,...</td>\n",
       "      <td></td>\n",
       "    </tr>\n",
       "    <tr>\n",
       "      <th>3</th>\n",
       "      <td>212556220</td>\n",
       "      <td>Misc_Training_scripts</td>\n",
       "      <td>A place for me to keep various miscellanelous ...</td>\n",
       "      <td>markwilkinson</td>\n",
       "      <td>{'Shell': 15815, 'Ruby': 9445}</td>\n",
       "      <td>Misc_Training_scripts\\nA place for me to keep ...</td>\n",
       "      <td></td>\n",
       "    </tr>\n",
       "    <tr>\n",
       "      <th>4</th>\n",
       "      <td>155879756</td>\n",
       "      <td>FAIRifier</td>\n",
       "      <td>A tool to make data FAIR</td>\n",
       "      <td>mikel-egana-aranguren</td>\n",
       "      <td>{'Java': 3514431, 'JavaScript': 967765, 'HTML'...</td>\n",
       "      <td>Dependencies:\\n\\nJava 8\\nApache Ant\\n\\nBuildin...</td>\n",
       "      <td></td>\n",
       "    </tr>\n",
       "  </tbody>\n",
       "</table>\n",
       "</div>"
      ],
      "text/plain": [
       "       gh_id                   name  \\\n",
       "0  216602979                LIRICAL   \n",
       "1  199330464   wikidata_ontomatcher   \n",
       "2  253207181          ro-crate-ruby   \n",
       "3  212556220  Misc_Training_scripts   \n",
       "4  155879756              FAIRifier   \n",
       "\n",
       "                                         description             owner_name  \\\n",
       "0  LIkelihood Ratio Interpretation of Clinical Ab...               cmungall   \n",
       "1          Matches ontology classes against wikidata               cmungall   \n",
       "2  A Ruby gem for creating, manipulating and read...          markwilkinson   \n",
       "3  A place for me to keep various miscellanelous ...          markwilkinson   \n",
       "4                           A tool to make data FAIR  mikel-egana-aranguren   \n",
       "\n",
       "                                           languages  \\\n",
       "0  {'Java': 492423, 'FreeMarker': 13149, 'Python'...   \n",
       "1  {'Prolog': 14691, 'Makefile': 1472, 'Dockerfil...   \n",
       "2                      {'Ruby': 52724, 'HTML': 1319}   \n",
       "3                     {'Shell': 15815, 'Ruby': 9445}   \n",
       "4  {'Java': 3514431, 'JavaScript': 967765, 'HTML'...   \n",
       "\n",
       "                                         readme_text  \\\n",
       "0  LIRICAL\\n\\nLIkelihood Ratio Interpretation of ...   \n",
       "1  Match an ontology to Wikidata\\nThis applicatio...   \n",
       "2  ro-crate-ruby\\nThis is a WIP gem for creating,...   \n",
       "3  Misc_Training_scripts\\nA place for me to keep ...   \n",
       "4  Dependencies:\\n\\nJava 8\\nApache Ant\\n\\nBuildin...   \n",
       "\n",
       "                                         issues_text  \n",
       "0                                                     \n",
       "1  Will help with #1 and with https://github.com/...  \n",
       "2                                                     \n",
       "3                                                     \n",
       "4                                                     "
      ]
     },
     "execution_count": 153,
     "metadata": {},
     "output_type": "execute_result"
    }
   ],
   "source": [
    "import pandas as pd\n",
    "\n",
    "df = pd.DataFrame([repo.to_dict() for repo in git_dataset])\n",
    "df.head()"
   ]
  },
  {
   "cell_type": "markdown",
   "metadata": {},
   "source": [
    "## Data cleaning and feature engineering"
   ]
  },
  {
   "cell_type": "markdown",
   "metadata": {},
   "source": [
    "First of all, we will be taking an initial look to the values from the dataset:"
   ]
  },
  {
   "cell_type": "code",
   "execution_count": 154,
   "metadata": {},
   "outputs": [
    {
     "data": {
      "text/html": [
       "<div>\n",
       "<style scoped>\n",
       "    .dataframe tbody tr th:only-of-type {\n",
       "        vertical-align: middle;\n",
       "    }\n",
       "\n",
       "    .dataframe tbody tr th {\n",
       "        vertical-align: top;\n",
       "    }\n",
       "\n",
       "    .dataframe thead th {\n",
       "        text-align: right;\n",
       "    }\n",
       "</style>\n",
       "<table border=\"1\" class=\"dataframe\">\n",
       "  <thead>\n",
       "    <tr style=\"text-align: right;\">\n",
       "      <th></th>\n",
       "      <th>name</th>\n",
       "      <th>description</th>\n",
       "      <th>owner_name</th>\n",
       "      <th>languages</th>\n",
       "      <th>readme_text</th>\n",
       "      <th>issues_text</th>\n",
       "    </tr>\n",
       "  </thead>\n",
       "  <tbody>\n",
       "    <tr>\n",
       "      <th>count</th>\n",
       "      <td>50</td>\n",
       "      <td>43</td>\n",
       "      <td>50</td>\n",
       "      <td>50</td>\n",
       "      <td>50</td>\n",
       "      <td>50</td>\n",
       "    </tr>\n",
       "    <tr>\n",
       "      <th>unique</th>\n",
       "      <td>50</td>\n",
       "      <td>43</td>\n",
       "      <td>27</td>\n",
       "      <td>50</td>\n",
       "      <td>48</td>\n",
       "      <td>6</td>\n",
       "    </tr>\n",
       "    <tr>\n",
       "      <th>top</th>\n",
       "      <td>mmtf-cpp</td>\n",
       "      <td>LIkelihood Ratio Interpretation of Clinical Ab...</td>\n",
       "      <td>SciBiteLabs</td>\n",
       "      <td>{'C#': 15985, 'CSS': 649, 'JavaScript': 34}</td>\n",
       "      <td></td>\n",
       "      <td></td>\n",
       "    </tr>\n",
       "    <tr>\n",
       "      <th>freq</th>\n",
       "      <td>1</td>\n",
       "      <td>1</td>\n",
       "      <td>2</td>\n",
       "      <td>1</td>\n",
       "      <td>3</td>\n",
       "      <td>45</td>\n",
       "    </tr>\n",
       "  </tbody>\n",
       "</table>\n",
       "</div>"
      ],
      "text/plain": [
       "            name                                        description  \\\n",
       "count         50                                                 43   \n",
       "unique        50                                                 43   \n",
       "top     mmtf-cpp  LIkelihood Ratio Interpretation of Clinical Ab...   \n",
       "freq           1                                                  1   \n",
       "\n",
       "         owner_name                                    languages readme_text  \\\n",
       "count            50                                           50          50   \n",
       "unique           27                                           50          48   \n",
       "top     SciBiteLabs  {'C#': 15985, 'CSS': 649, 'JavaScript': 34}               \n",
       "freq              2                                            1           3   \n",
       "\n",
       "       issues_text  \n",
       "count           50  \n",
       "unique           6  \n",
       "top                 \n",
       "freq            45  "
      ]
     },
     "execution_count": 154,
     "metadata": {},
     "output_type": "execute_result"
    }
   ],
   "source": [
    "df.loc[:, df.columns != 'gh_id'].describe()"
   ]
  },
  {
   "cell_type": "markdown",
   "metadata": {},
   "source": [
    "As we can see above, altough all the repository names are unique, the other columns have some repeated values. Those repeated values could be empty or null values, so we are going to check if that is the case:"
   ]
  },
  {
   "cell_type": "code",
   "execution_count": 155,
   "metadata": {},
   "outputs": [
    {
     "data": {
      "text/html": [
       "<div>\n",
       "<style scoped>\n",
       "    .dataframe tbody tr th:only-of-type {\n",
       "        vertical-align: middle;\n",
       "    }\n",
       "\n",
       "    .dataframe tbody tr th {\n",
       "        vertical-align: top;\n",
       "    }\n",
       "\n",
       "    .dataframe thead th {\n",
       "        text-align: right;\n",
       "    }\n",
       "</style>\n",
       "<table border=\"1\" class=\"dataframe\">\n",
       "  <thead>\n",
       "    <tr style=\"text-align: right;\">\n",
       "      <th></th>\n",
       "      <th>gh_id</th>\n",
       "      <th>name</th>\n",
       "      <th>description</th>\n",
       "      <th>owner_name</th>\n",
       "      <th>languages</th>\n",
       "      <th>readme_text</th>\n",
       "      <th>issues_text</th>\n",
       "    </tr>\n",
       "  </thead>\n",
       "  <tbody>\n",
       "    <tr>\n",
       "      <th>11</th>\n",
       "      <td>57412597</td>\n",
       "      <td>hemodonacion</td>\n",
       "      <td>None</td>\n",
       "      <td>fanavarro</td>\n",
       "      <td>{'Perl': 97370, 'R': 36211}</td>\n",
       "      <td>Lost in Translation\\nStructure\\nThis repositor...</td>\n",
       "      <td></td>\n",
       "    </tr>\n",
       "    <tr>\n",
       "      <th>23</th>\n",
       "      <td>161862375</td>\n",
       "      <td>biohack18</td>\n",
       "      <td>None</td>\n",
       "      <td>leechuck</td>\n",
       "      <td>{'Groovy': 14573}</td>\n",
       "      <td>biohack18</td>\n",
       "      <td></td>\n",
       "    </tr>\n",
       "    <tr>\n",
       "      <th>24</th>\n",
       "      <td>171842501</td>\n",
       "      <td>biosample_jsonld</td>\n",
       "      <td>None</td>\n",
       "      <td>inutano</td>\n",
       "      <td>{'Ruby': 9183, 'Shell': 3153, 'Dockerfile': 244}</td>\n",
       "      <td>BioSample records in JSON-LD\\nBioSample is a d...</td>\n",
       "      <td></td>\n",
       "    </tr>\n",
       "    <tr>\n",
       "      <th>29</th>\n",
       "      <td>151696606</td>\n",
       "      <td>JavaTermiteStarter</td>\n",
       "      <td>None</td>\n",
       "      <td>SciBiteLabs</td>\n",
       "      <td>{'Java': 16959}</td>\n",
       "      <td>JavaTermiteStarter\\nSet of basic code to get y...</td>\n",
       "      <td></td>\n",
       "    </tr>\n",
       "    <tr>\n",
       "      <th>39</th>\n",
       "      <td>42526998</td>\n",
       "      <td>pythonontologysearch</td>\n",
       "      <td>None</td>\n",
       "      <td>jamesmalone</td>\n",
       "      <td>{'JavaScript': 194124, 'Python': 5748, 'HTML':...</td>\n",
       "      <td></td>\n",
       "      <td></td>\n",
       "    </tr>\n",
       "    <tr>\n",
       "      <th>40</th>\n",
       "      <td>238953196</td>\n",
       "      <td>my-react-form</td>\n",
       "      <td>None</td>\n",
       "      <td>twhetzel</td>\n",
       "      <td>{'JavaScript': 35896, 'CSS': 6855, 'HTML': 1271}</td>\n",
       "      <td>React Form Demos\\nDescription\\nDemo project to...</td>\n",
       "      <td></td>\n",
       "    </tr>\n",
       "    <tr>\n",
       "      <th>41</th>\n",
       "      <td>157134523</td>\n",
       "      <td>python-ecology-lesson-es-1</td>\n",
       "      <td>None</td>\n",
       "      <td>agbeltran</td>\n",
       "      <td>{'Jupyter Notebook': 4579723, 'HTML': 60649, '...</td>\n",
       "      <td>Canal de Slack en español\\nLección de Data Car...</td>\n",
       "      <td></td>\n",
       "    </tr>\n",
       "  </tbody>\n",
       "</table>\n",
       "</div>"
      ],
      "text/plain": [
       "        gh_id                        name description   owner_name  \\\n",
       "11   57412597                hemodonacion        None    fanavarro   \n",
       "23  161862375                   biohack18        None     leechuck   \n",
       "24  171842501            biosample_jsonld        None      inutano   \n",
       "29  151696606          JavaTermiteStarter        None  SciBiteLabs   \n",
       "39   42526998        pythonontologysearch        None  jamesmalone   \n",
       "40  238953196               my-react-form        None     twhetzel   \n",
       "41  157134523  python-ecology-lesson-es-1        None    agbeltran   \n",
       "\n",
       "                                            languages  \\\n",
       "11                        {'Perl': 97370, 'R': 36211}   \n",
       "23                                  {'Groovy': 14573}   \n",
       "24   {'Ruby': 9183, 'Shell': 3153, 'Dockerfile': 244}   \n",
       "29                                    {'Java': 16959}   \n",
       "39  {'JavaScript': 194124, 'Python': 5748, 'HTML':...   \n",
       "40   {'JavaScript': 35896, 'CSS': 6855, 'HTML': 1271}   \n",
       "41  {'Jupyter Notebook': 4579723, 'HTML': 60649, '...   \n",
       "\n",
       "                                          readme_text issues_text  \n",
       "11  Lost in Translation\\nStructure\\nThis repositor...              \n",
       "23                                          biohack18              \n",
       "24  BioSample records in JSON-LD\\nBioSample is a d...              \n",
       "29  JavaTermiteStarter\\nSet of basic code to get y...              \n",
       "39                                                                 \n",
       "40  React Form Demos\\nDescription\\nDemo project to...              \n",
       "41  Canal de Slack en español\\nLección de Data Car...              "
      ]
     },
     "execution_count": 155,
     "metadata": {},
     "output_type": "execute_result"
    }
   ],
   "source": [
    "df[df.isnull().any(axis=1)]"
   ]
  },
  {
   "cell_type": "markdown",
   "metadata": {},
   "source": [
    "We can see from the output above that there are 7 repositories which do not have a description. We are going to replace those null values by an empty string:"
   ]
  },
  {
   "cell_type": "code",
   "execution_count": 156,
   "metadata": {},
   "outputs": [],
   "source": [
    "df.fillna(value=\"\", inplace=True)"
   ]
  },
  {
   "cell_type": "markdown",
   "metadata": {},
   "source": [
    "Now, we are going to see know how many columns have an empty value:"
   ]
  },
  {
   "cell_type": "code",
   "execution_count": 157,
   "metadata": {},
   "outputs": [
    {
     "name": "stdout",
     "output_type": "stream",
     "text": [
      "gh_id\n",
      "-----\n",
      "0 articles have no value for column gh_id\n",
      "Int64Index([], dtype='int64')\n",
      "\n",
      "\n",
      "name\n",
      "----\n",
      "0 articles have no value for column name\n",
      "Int64Index([], dtype='int64')\n",
      "\n",
      "\n",
      "description\n",
      "-----------\n",
      "7 articles have no value for column description\n",
      "Int64Index([11, 23, 24, 29, 39, 40, 41], dtype='int64')\n",
      "\n",
      "\n",
      "owner_name\n",
      "----------\n",
      "0 articles have no value for column owner_name\n",
      "Int64Index([], dtype='int64')\n",
      "\n",
      "\n",
      "languages\n",
      "---------\n",
      "0 articles have no value for column languages\n",
      "Int64Index([], dtype='int64')\n",
      "\n",
      "\n",
      "readme_text\n",
      "-----------\n",
      "3 articles have no value for column readme_text\n",
      "Int64Index([8, 35, 39], dtype='int64')\n",
      "\n",
      "\n",
      "issues_text\n",
      "-----------\n",
      "45 articles have no value for column issues_text\n",
      "Int64Index([ 0,  2,  3,  4,  5,  6,  8, 10, 11, 12, 14, 15, 16, 17, 18, 19, 20,\n",
      "            21, 22, 23, 24, 25, 26, 27, 29, 30, 31, 32, 33, 34, 35, 36, 37, 38,\n",
      "            39, 40, 41, 42, 43, 44, 45, 46, 47, 48, 49],\n",
      "           dtype='int64')\n",
      "\n",
      "\n"
     ]
    },
    {
     "name": "stderr",
     "output_type": "stream",
     "text": [
      "/Users/laika/.envs/edma/lib/python3.7/site-packages/pandas/core/ops/array_ops.py:253: FutureWarning: elementwise comparison failed; returning scalar instead, but in the future will perform elementwise comparison\n",
      "  res_values = method(rvalues)\n"
     ]
    }
   ],
   "source": [
    "print_empty_cols(df)"
   ]
  },
  {
   "cell_type": "markdown",
   "metadata": {},
   "source": [
    "Most of the repositories (45 out of 50) don't have any issues, and 3 of them don't have a readme.\n",
    "\n",
    "Finally, we are going to join both the description and the readme of each repository into a new column, and remove all extra spaces from that column:"
   ]
  },
  {
   "cell_type": "code",
   "execution_count": 158,
   "metadata": {},
   "outputs": [
    {
     "data": {
      "text/plain": [
       "'LIkelihood Ratio Interpretation of Clinical AbnormaLities. LIRICAL LIkelihood Ratio Interpretation of Clinical AbnormaLities LIRICAL is designed to provide clincially interpretable computational analysis of phenotypic abnormalities (encoded using the Human Phenotype Ontology), optionally combined with an analysis of variants and genotypes if a VCF file is provided with the results of diagnostic gene panel, exome, or genome sequencing. Detailed documentation is available This is a useful website '"
      ]
     },
     "execution_count": 158,
     "metadata": {},
     "output_type": "execute_result"
    }
   ],
   "source": [
    "import re\n",
    "\n",
    "def clean(text):\n",
    "    return re.sub('\\s+', ' ', text).strip()\n",
    "\n",
    "df['full_text'] = df[\"description\"] + \". \" + df[\"readme_text\"]\n",
    "df['full_text_cleaned'] = df['full_text'].apply(lambda x: clean(x))\n",
    "df['full_text_cleaned'].loc[0][:500]"
   ]
  },
  {
   "cell_type": "markdown",
   "metadata": {},
   "source": [
    "## Initial exploration"
   ]
  },
  {
   "cell_type": "markdown",
   "metadata": {},
   "source": [
    "To finish with the contents of this notebook, we will make an initial exploration of the dataset."
   ]
  },
  {
   "cell_type": "markdown",
   "metadata": {},
   "source": [
    "### Text length"
   ]
  },
  {
   "cell_type": "markdown",
   "metadata": {},
   "source": [
    "We are going to add a new column to the DataFrame with the length in number of characters of each repo's full text:"
   ]
  },
  {
   "cell_type": "code",
   "execution_count": 159,
   "metadata": {},
   "outputs": [
    {
     "data": {
      "text/plain": [
       "count       50.000000\n",
       "mean      2471.080000\n",
       "std       3431.016806\n",
       "min          1.000000\n",
       "25%        374.000000\n",
       "50%       1770.500000\n",
       "75%       3026.750000\n",
       "max      20382.000000\n",
       "Name: num_chars_text, dtype: float64"
      ]
     },
     "execution_count": 159,
     "metadata": {},
     "output_type": "execute_result"
    }
   ],
   "source": [
    "df['num_chars_text'] = df['full_text_cleaned'].apply(lambda x: len(x))\n",
    "df['num_chars_text'].describe()"
   ]
  },
  {
   "cell_type": "markdown",
   "metadata": {},
   "source": [
    "We can see that the average number of characters in the readme + description is about 2471, and the maximum length is 20382 characters. However, 75% of the repositories have a number of characters lower than 3027.\n",
    "\n",
    "We are going to plot this distribution and save it to disk:"
   ]
  },
  {
   "cell_type": "code",
   "execution_count": 160,
   "metadata": {},
   "outputs": [
    {
     "data": {
      "text/html": [
       "\n",
       "\n",
       "\n",
       "\n",
       "\n",
       "\n",
       "  <div class=\"bk-root\" id=\"d65baca1-35a5-4a4d-aba4-6e06cb8bf82b\" data-root-id=\"10929\"></div>\n"
      ]
     },
     "metadata": {},
     "output_type": "display_data"
    },
    {
     "data": {
      "application/javascript": [
       "(function(root) {\n",
       "  function embed_document(root) {\n",
       "    \n",
       "  var docs_json = {\"a2dc7f24-ad17-496b-b74b-7ad58c16b17b\":{\"roots\":{\"references\":[{\"attributes\":{\"below\":[{\"id\":\"10940\"}],\"center\":[{\"id\":\"10943\"},{\"id\":\"10947\"}],\"left\":[{\"id\":\"10944\"}],\"renderers\":[{\"id\":\"10967\"}],\"title\":{\"id\":\"10930\"},\"toolbar\":{\"id\":\"10955\"},\"x_range\":{\"id\":\"10932\"},\"x_scale\":{\"id\":\"10936\"},\"y_range\":{\"id\":\"10934\"},\"y_scale\":{\"id\":\"10938\"}},\"id\":\"10929\",\"subtype\":\"Figure\",\"type\":\"Plot\"},{\"attributes\":{},\"id\":\"11277\",\"type\":\"BasicTickFormatter\"},{\"attributes\":{\"source\":{\"id\":\"10962\"}},\"id\":\"10968\",\"type\":\"CDSView\"},{\"attributes\":{},\"id\":\"10936\",\"type\":\"LinearScale\"},{\"attributes\":{\"active_drag\":\"auto\",\"active_inspect\":\"auto\",\"active_multi\":null,\"active_scroll\":\"auto\",\"active_tap\":\"auto\",\"tools\":[{\"id\":\"10948\"},{\"id\":\"10949\"},{\"id\":\"10950\"},{\"id\":\"10951\"},{\"id\":\"10952\"},{\"id\":\"10953\"},{\"id\":\"10969\"}]},\"id\":\"10955\",\"type\":\"Toolbar\"},{\"attributes\":{},\"id\":\"10934\",\"type\":\"DataRange1d\"},{\"attributes\":{},\"id\":\"10952\",\"type\":\"ResetTool\"},{\"attributes\":{},\"id\":\"10951\",\"type\":\"SaveTool\"},{\"attributes\":{},\"id\":\"10953\",\"type\":\"HelpTool\"},{\"attributes\":{\"bottom\":{\"value\":0},\"fill_color\":{\"value\":\"slateblue\"},\"left\":{\"field\":\"left\"},\"right\":{\"field\":\"right\"},\"top\":{\"field\":\"num_chars_text\"}},\"id\":\"10966\",\"type\":\"Quad\"},{\"attributes\":{\"text\":\"Readme + Description length distribution\"},\"id\":\"10930\",\"type\":\"Title\"},{\"attributes\":{},\"id\":\"10945\",\"type\":\"BasicTicker\"},{\"attributes\":{},\"id\":\"10948\",\"type\":\"PanTool\"},{\"attributes\":{\"axis_label\":\"Number of repositories\",\"formatter\":{\"id\":\"11277\"},\"ticker\":{\"id\":\"10945\"}},\"id\":\"10944\",\"type\":\"LinearAxis\"},{\"attributes\":{\"bottom\":{\"value\":0},\"fill_alpha\":{\"value\":0.1},\"fill_color\":{\"value\":\"mediumslateblue\"},\"left\":{\"field\":\"left\"},\"line_alpha\":{\"value\":0.1},\"right\":{\"field\":\"right\"},\"top\":{\"field\":\"num_chars_text\"}},\"id\":\"10965\",\"type\":\"Quad\"},{\"attributes\":{\"axis_label\":\"Readme and description length (# of characters)\",\"formatter\":{\"id\":\"11279\"},\"ticker\":{\"id\":\"10941\"}},\"id\":\"10940\",\"type\":\"LinearAxis\"},{\"attributes\":{},\"id\":\"11281\",\"type\":\"UnionRenderers\"},{\"attributes\":{\"bottom_units\":\"screen\",\"fill_alpha\":0.5,\"fill_color\":\"lightgrey\",\"left_units\":\"screen\",\"level\":\"overlay\",\"line_alpha\":1.0,\"line_color\":\"black\",\"line_dash\":[4,4],\"line_width\":2,\"right_units\":\"screen\",\"top_units\":\"screen\"},\"id\":\"10954\",\"type\":\"BoxAnnotation\"},{\"attributes\":{},\"id\":\"10932\",\"type\":\"DataRange1d\"},{\"attributes\":{},\"id\":\"10938\",\"type\":\"LinearScale\"},{\"attributes\":{\"overlay\":{\"id\":\"10954\"}},\"id\":\"10950\",\"type\":\"BoxZoomTool\"},{\"attributes\":{\"axis\":{\"id\":\"10940\"},\"ticker\":null},\"id\":\"10943\",\"type\":\"Grid\"},{\"attributes\":{},\"id\":\"10949\",\"type\":\"WheelZoomTool\"},{\"attributes\":{},\"id\":\"11282\",\"type\":\"Selection\"},{\"attributes\":{\"data_source\":{\"id\":\"10962\"},\"glyph\":{\"id\":\"10964\"},\"hover_glyph\":{\"id\":\"10966\"},\"muted_glyph\":null,\"nonselection_glyph\":{\"id\":\"10965\"},\"selection_glyph\":null,\"view\":{\"id\":\"10968\"}},\"id\":\"10967\",\"type\":\"GlyphRenderer\"},{\"attributes\":{},\"id\":\"11279\",\"type\":\"BasicTickFormatter\"},{\"attributes\":{},\"id\":\"10941\",\"type\":\"BasicTicker\"},{\"attributes\":{\"axis\":{\"id\":\"10944\"},\"dimension\":1,\"ticker\":null},\"id\":\"10947\",\"type\":\"Grid\"},{\"attributes\":{\"bottom\":{\"value\":0},\"fill_alpha\":{\"value\":0.7},\"fill_color\":{\"value\":\"mediumslateblue\"},\"left\":{\"field\":\"left\"},\"right\":{\"field\":\"right\"},\"top\":{\"field\":\"num_chars_text\"}},\"id\":\"10964\",\"type\":\"Quad\"},{\"attributes\":{\"data\":{\"index\":[0,1,2,3,4,5,6,7,8,9,10,11,12,13,14,15,16,17,18,19,20,21,22,23,24],\"interval\":[\"1 to 816\",\"816 to 1631\",\"1631 to 2446\",\"2446 to 3261\",\"3261 to 4077\",\"4077 to 4892\",\"4892 to 5707\",\"5707 to 6522\",\"6522 to 7338\",\"7338 to 8153\",\"8153 to 8968\",\"8968 to 9783\",\"9783 to 10599\",\"10599 to 11414\",\"11414 to 12229\",\"12229 to 13044\",\"13044 to 13860\",\"13860 to 14675\",\"14675 to 15490\",\"15490 to 16305\",\"16305 to 17121\",\"17121 to 17936\",\"17936 to 18751\",\"18751 to 19566\",\"19566 to 20382\"],\"left\":{\"__ndarray__\":\"AAAAAAAA8D9SuB6F64GJQFK4HoXrfZlAPgrXo3Ado0BSuB6F63upQGZmZmZm2q9APgrXo3Acs0BI4XoUrku2QFK4HoXrerlAXI/C9SiqvEBmZmZmZtm/QLgehetRhMFAPgrXo/Abw0DD9Shcj7PEQEjhehQuS8ZAzczMzMzix0BSuB6Fa3rJQNejcD0KEstAXI/C9aipzEDhehSuR0HOQGZmZmbm2M9A9ihcj0K40EC4HoXrEYTRQHsUrkfhT9JAPgrXo7Ab00A=\",\"dtype\":\"float64\",\"order\":\"little\",\"shape\":[25]},\"num_chars_text\":[21,3,10,4,4,2,1,1,0,1,1,1,0,0,0,0,0,0,0,0,0,0,0,0,1],\"right\":{\"__ndarray__\":\"UrgeheuBiUBSuB6F632ZQD4K16NwHaNAUrgehet7qUBmZmZmZtqvQD4K16NwHLNASOF6FK5LtkBSuB6F63q5QFyPwvUoqrxAZmZmZmbZv0C4HoXrUYTBQD4K16PwG8NAw/UoXI+zxEBI4XoULkvGQM3MzMzM4sdAUrgehWt6yUDXo3A9ChLLQFyPwvWoqcxA4XoUrkdBzkBmZmZm5tjPQPYoXI9CuNBAuB6F6xGE0UB7FK5H4U/SQD4K16OwG9NAAAAAAIDn00A=\",\"dtype\":\"float64\",\"order\":\"little\",\"shape\":[25]}},\"selected\":{\"id\":\"11282\"},\"selection_policy\":{\"id\":\"11281\"}},\"id\":\"10962\",\"type\":\"ColumnDataSource\"},{\"attributes\":{\"callback\":null,\"tooltips\":[[\"Interval\",\"@interval\"],[\"Count\",\"@num_chars_text\"]]},\"id\":\"10969\",\"type\":\"HoverTool\"}],\"root_ids\":[\"10929\"]},\"title\":\"Bokeh Application\",\"version\":\"2.1.1\"}};\n",
       "  var render_items = [{\"docid\":\"a2dc7f24-ad17-496b-b74b-7ad58c16b17b\",\"notebook_comms_target\":\"11283\",\"root_ids\":[\"10929\"],\"roots\":{\"10929\":\"d65baca1-35a5-4a4d-aba4-6e06cb8bf82b\"}}];\n",
       "  root.Bokeh.embed.embed_items_notebook(docs_json, render_items);\n",
       "\n",
       "  }\n",
       "  if (root.Bokeh !== undefined) {\n",
       "    embed_document(root);\n",
       "  } else {\n",
       "    var attempts = 0;\n",
       "    var timer = setInterval(function(root) {\n",
       "      if (root.Bokeh !== undefined) {\n",
       "        clearInterval(timer);\n",
       "        embed_document(root);\n",
       "      } else {\n",
       "        attempts++;\n",
       "        if (attempts > 100) {\n",
       "          clearInterval(timer);\n",
       "          console.log(\"Bokeh: ERROR: Unable to run BokehJS code because BokehJS library is missing\");\n",
       "        }\n",
       "      }\n",
       "    }, 10, root)\n",
       "  }\n",
       "})(window);"
      ],
      "application/vnd.bokehjs_exec.v0+json": ""
     },
     "metadata": {
      "application/vnd.bokehjs_exec.v0+json": {
       "id": "10929"
      }
     },
     "output_type": "display_data"
    }
   ],
   "source": [
    "GIT_HIST_COLUMN = \"num_chars_text\"\n",
    "GIT_HIST_TITLE = \"Readme + Description length distribution\"\n",
    "GIT_HIST_XLABEL = \"Readme and description length (# of characters)\"\n",
    "GIT_HIST_YLABEL = \"Number of repositories\"\n",
    "\n",
    "hist.load_plot(df, GIT_HIST_COLUMN, GIT_HIST_TITLE,\n",
    "          GIT_HIST_XLABEL, GIT_HIST_YLABEL, True)"
   ]
  },
  {
   "cell_type": "code",
   "execution_count": 161,
   "metadata": {},
   "outputs": [
    {
     "name": "stdout",
     "output_type": "stream",
     "text": [
      "There was an error exporting the plot. Please verify that both Selenium and Geckodriver are installed: Neither firefox and geckodriver nor a variant of chromium browser and chromedriver are available on system PATH. You can install the former with 'conda install -c conda-forge firefox geckodriver'.\n"
     ]
    }
   ],
   "source": [
    "hist.save_plot(os.path.join(RESULTS_DIR, '1_Repo_text_length.svg'))"
   ]
  },
  {
   "cell_type": "markdown",
   "metadata": {},
   "source": [
    "### Languages used"
   ]
  },
  {
   "cell_type": "markdown",
   "metadata": {},
   "source": [
    "Finally, we are going to also explore the most used programming languages for each repository.\n",
    "\n",
    "We will begin by creating an auxiliary function that will create an horizontal bar chart with the given data:"
   ]
  },
  {
   "cell_type": "code",
   "execution_count": 190,
   "metadata": {},
   "outputs": [],
   "source": [
    "from bokeh.io import show\n",
    "from bokeh.models import ColumnDataSource, HoverTool\n",
    "from bokeh.palettes import Category20b_20\n",
    "from bokeh.plotting import figure\n",
    "\n",
    "def plot_horizontal_bar_chart(x_data, y_data, title, tooltip_x, tooltip_y,\n",
    "                              sort=True, color_palette=Category20b_20):\n",
    "    sorted_y_data = sorted(y_data, key=lambda x: x_data[y_data.index(x)]) if sort else y_data\n",
    "    source = ColumnDataSource(data=dict(y_data=y_data, x_data=x_data, color=color_palette))\n",
    "    p = figure(y_range=sorted_y_data, x_range=(0, max(x_data) * 1.1), plot_height=750, title=title,\n",
    "               toolbar_location='right')\n",
    "    p.hbar(y='y_data', right='x_data', height=0.7, color='color', legend_field=\"y_data\",\n",
    "           fill_alpha=0.75, hover_fill_alpha=1.0, source=source)\n",
    "    p.ygrid.grid_line_color = None\n",
    "    p.legend.orientation = \"vertical\"\n",
    "    p.legend.location = \"bottom_right\"\n",
    "    p.add_tools(HoverTool(tooltips=[(tooltip_y, \"@y_data\"), (tooltip_x, \"@x_data\")],\n",
    "                          point_policy=\"follow_mouse\"))\n",
    "\n",
    "    show(p, notebook_handle=True)\n",
    "\n"
   ]
  },
  {
   "cell_type": "markdown",
   "metadata": {},
   "source": [
    "Now, we can create new dataframe with each different programming language used in the dataset and the number of bytes belonging to that language for each repo:"
   ]
  },
  {
   "cell_type": "code",
   "execution_count": 191,
   "metadata": {},
   "outputs": [
    {
     "data": {
      "text/html": [
       "<div>\n",
       "<style scoped>\n",
       "    .dataframe tbody tr th:only-of-type {\n",
       "        vertical-align: middle;\n",
       "    }\n",
       "\n",
       "    .dataframe tbody tr th {\n",
       "        vertical-align: top;\n",
       "    }\n",
       "\n",
       "    .dataframe thead th {\n",
       "        text-align: right;\n",
       "    }\n",
       "</style>\n",
       "<table border=\"1\" class=\"dataframe\">\n",
       "  <thead>\n",
       "    <tr style=\"text-align: right;\">\n",
       "      <th></th>\n",
       "      <th>Java</th>\n",
       "      <th>FreeMarker</th>\n",
       "      <th>Python</th>\n",
       "      <th>Prolog</th>\n",
       "      <th>Makefile</th>\n",
       "      <th>Dockerfile</th>\n",
       "      <th>Shell</th>\n",
       "      <th>Ruby</th>\n",
       "      <th>HTML</th>\n",
       "      <th>JavaScript</th>\n",
       "      <th>...</th>\n",
       "      <th>Raku</th>\n",
       "      <th>TSQL</th>\n",
       "      <th>PowerShell</th>\n",
       "      <th>Web Ontology Language</th>\n",
       "      <th>PLpgSQL</th>\n",
       "      <th>Game Maker Language</th>\n",
       "      <th>Gherkin</th>\n",
       "      <th>Common Lisp</th>\n",
       "      <th>ActionScript</th>\n",
       "      <th>C#</th>\n",
       "    </tr>\n",
       "  </thead>\n",
       "  <tbody>\n",
       "    <tr>\n",
       "      <th>0</th>\n",
       "      <td>492423.0</td>\n",
       "      <td>13149.0</td>\n",
       "      <td>849.0</td>\n",
       "      <td>0.0</td>\n",
       "      <td>0.0</td>\n",
       "      <td>0.0</td>\n",
       "      <td>0.0</td>\n",
       "      <td>0.0</td>\n",
       "      <td>0.0</td>\n",
       "      <td>0.0</td>\n",
       "      <td>...</td>\n",
       "      <td>0.0</td>\n",
       "      <td>0.0</td>\n",
       "      <td>0.0</td>\n",
       "      <td>0.0</td>\n",
       "      <td>0.0</td>\n",
       "      <td>0.0</td>\n",
       "      <td>0.0</td>\n",
       "      <td>0.0</td>\n",
       "      <td>0.0</td>\n",
       "      <td>0.0</td>\n",
       "    </tr>\n",
       "    <tr>\n",
       "      <th>1</th>\n",
       "      <td>0.0</td>\n",
       "      <td>0.0</td>\n",
       "      <td>0.0</td>\n",
       "      <td>14691.0</td>\n",
       "      <td>1472.0</td>\n",
       "      <td>700.0</td>\n",
       "      <td>278.0</td>\n",
       "      <td>0.0</td>\n",
       "      <td>0.0</td>\n",
       "      <td>0.0</td>\n",
       "      <td>...</td>\n",
       "      <td>0.0</td>\n",
       "      <td>0.0</td>\n",
       "      <td>0.0</td>\n",
       "      <td>0.0</td>\n",
       "      <td>0.0</td>\n",
       "      <td>0.0</td>\n",
       "      <td>0.0</td>\n",
       "      <td>0.0</td>\n",
       "      <td>0.0</td>\n",
       "      <td>0.0</td>\n",
       "    </tr>\n",
       "    <tr>\n",
       "      <th>2</th>\n",
       "      <td>0.0</td>\n",
       "      <td>0.0</td>\n",
       "      <td>0.0</td>\n",
       "      <td>0.0</td>\n",
       "      <td>0.0</td>\n",
       "      <td>0.0</td>\n",
       "      <td>0.0</td>\n",
       "      <td>52724.0</td>\n",
       "      <td>1319.0</td>\n",
       "      <td>0.0</td>\n",
       "      <td>...</td>\n",
       "      <td>0.0</td>\n",
       "      <td>0.0</td>\n",
       "      <td>0.0</td>\n",
       "      <td>0.0</td>\n",
       "      <td>0.0</td>\n",
       "      <td>0.0</td>\n",
       "      <td>0.0</td>\n",
       "      <td>0.0</td>\n",
       "      <td>0.0</td>\n",
       "      <td>0.0</td>\n",
       "    </tr>\n",
       "    <tr>\n",
       "      <th>3</th>\n",
       "      <td>0.0</td>\n",
       "      <td>0.0</td>\n",
       "      <td>0.0</td>\n",
       "      <td>0.0</td>\n",
       "      <td>0.0</td>\n",
       "      <td>0.0</td>\n",
       "      <td>15815.0</td>\n",
       "      <td>9445.0</td>\n",
       "      <td>0.0</td>\n",
       "      <td>0.0</td>\n",
       "      <td>...</td>\n",
       "      <td>0.0</td>\n",
       "      <td>0.0</td>\n",
       "      <td>0.0</td>\n",
       "      <td>0.0</td>\n",
       "      <td>0.0</td>\n",
       "      <td>0.0</td>\n",
       "      <td>0.0</td>\n",
       "      <td>0.0</td>\n",
       "      <td>0.0</td>\n",
       "      <td>0.0</td>\n",
       "    </tr>\n",
       "    <tr>\n",
       "      <th>4</th>\n",
       "      <td>3514431.0</td>\n",
       "      <td>0.0</td>\n",
       "      <td>0.0</td>\n",
       "      <td>0.0</td>\n",
       "      <td>0.0</td>\n",
       "      <td>0.0</td>\n",
       "      <td>28836.0</td>\n",
       "      <td>2559.0</td>\n",
       "      <td>333450.0</td>\n",
       "      <td>967765.0</td>\n",
       "      <td>...</td>\n",
       "      <td>0.0</td>\n",
       "      <td>0.0</td>\n",
       "      <td>0.0</td>\n",
       "      <td>0.0</td>\n",
       "      <td>0.0</td>\n",
       "      <td>0.0</td>\n",
       "      <td>0.0</td>\n",
       "      <td>0.0</td>\n",
       "      <td>0.0</td>\n",
       "      <td>0.0</td>\n",
       "    </tr>\n",
       "  </tbody>\n",
       "</table>\n",
       "<p>5 rows × 43 columns</p>\n",
       "</div>"
      ],
      "text/plain": [
       "        Java  FreeMarker  Python   Prolog  Makefile  Dockerfile    Shell  \\\n",
       "0   492423.0     13149.0   849.0      0.0       0.0         0.0      0.0   \n",
       "1        0.0         0.0     0.0  14691.0    1472.0       700.0    278.0   \n",
       "2        0.0         0.0     0.0      0.0       0.0         0.0      0.0   \n",
       "3        0.0         0.0     0.0      0.0       0.0         0.0  15815.0   \n",
       "4  3514431.0         0.0     0.0      0.0       0.0         0.0  28836.0   \n",
       "\n",
       "      Ruby      HTML  JavaScript  ...  Raku  TSQL  PowerShell  \\\n",
       "0      0.0       0.0         0.0  ...   0.0   0.0         0.0   \n",
       "1      0.0       0.0         0.0  ...   0.0   0.0         0.0   \n",
       "2  52724.0    1319.0         0.0  ...   0.0   0.0         0.0   \n",
       "3   9445.0       0.0         0.0  ...   0.0   0.0         0.0   \n",
       "4   2559.0  333450.0    967765.0  ...   0.0   0.0         0.0   \n",
       "\n",
       "   Web Ontology Language  PLpgSQL  Game Maker Language  Gherkin  Common Lisp  \\\n",
       "0                    0.0      0.0                  0.0      0.0          0.0   \n",
       "1                    0.0      0.0                  0.0      0.0          0.0   \n",
       "2                    0.0      0.0                  0.0      0.0          0.0   \n",
       "3                    0.0      0.0                  0.0      0.0          0.0   \n",
       "4                    0.0      0.0                  0.0      0.0          0.0   \n",
       "\n",
       "   ActionScript   C#  \n",
       "0           0.0  0.0  \n",
       "1           0.0  0.0  \n",
       "2           0.0  0.0  \n",
       "3           0.0  0.0  \n",
       "4           0.0  0.0  \n",
       "\n",
       "[5 rows x 43 columns]"
      ]
     },
     "execution_count": 191,
     "metadata": {},
     "output_type": "execute_result"
    }
   ],
   "source": [
    "languages_df = pd.DataFrame(df['languages'].values.tolist()).fillna(value=0, inplace=False)\n",
    "languages_df.head()"
   ]
  },
  {
   "cell_type": "markdown",
   "metadata": {},
   "source": [
    "By making use of the previously defined function and the new DataFrame we can plot the top 15 languages with the most number of bytes written in each repository:"
   ]
  },
  {
   "cell_type": "code",
   "execution_count": 192,
   "metadata": {},
   "outputs": [
    {
     "data": {
      "text/html": [
       "\n",
       "\n",
       "\n",
       "\n",
       "\n",
       "\n",
       "  <div class=\"bk-root\" id=\"fb555a22-ee19-47e5-8af2-9d53c1ad97cb\" data-root-id=\"17006\"></div>\n"
      ]
     },
     "metadata": {},
     "output_type": "display_data"
    },
    {
     "data": {
      "application/javascript": [
       "(function(root) {\n",
       "  function embed_document(root) {\n",
       "    \n",
       "  var docs_json = {\"a1ab9965-d24c-4b9b-b491-e4b794c2c5bf\":{\"roots\":{\"references\":[{\"attributes\":{\"below\":[{\"id\":\"17017\"}],\"center\":[{\"id\":\"17020\"},{\"id\":\"17023\"},{\"id\":\"17052\"}],\"left\":[{\"id\":\"17021\"}],\"plot_height\":750,\"renderers\":[{\"id\":\"17042\"}],\"title\":{\"id\":\"17007\"},\"toolbar\":{\"id\":\"17031\"},\"x_range\":{\"id\":\"17009\"},\"x_scale\":{\"id\":\"17013\"},\"y_range\":{\"id\":\"17011\"},\"y_scale\":{\"id\":\"17015\"}},\"id\":\"17006\",\"subtype\":\"Figure\",\"type\":\"Plot\"},{\"attributes\":{\"formatter\":{\"id\":\"17046\"},\"ticker\":{\"id\":\"17022\"}},\"id\":\"17021\",\"type\":\"CategoricalAxis\"},{\"attributes\":{\"formatter\":{\"id\":\"17048\"},\"ticker\":{\"id\":\"17018\"}},\"id\":\"17017\",\"type\":\"LinearAxis\"},{\"attributes\":{},\"id\":\"17018\",\"type\":\"BasicTicker\"},{\"attributes\":{\"data_source\":{\"id\":\"17005\"},\"glyph\":{\"id\":\"17039\"},\"hover_glyph\":{\"id\":\"17041\"},\"muted_glyph\":null,\"nonselection_glyph\":{\"id\":\"17040\"},\"selection_glyph\":null,\"view\":{\"id\":\"17043\"}},\"id\":\"17042\",\"type\":\"GlyphRenderer\"},{\"attributes\":{},\"id\":\"17027\",\"type\":\"SaveTool\"},{\"attributes\":{\"axis\":{\"id\":\"17017\"},\"ticker\":null},\"id\":\"17020\",\"type\":\"Grid\"},{\"attributes\":{\"factors\":[\"Vim script\",\"CSS\",\"C++\",\"Game Maker Language\",\"PHP\",\"XSLT\",\"Go\",\"HTML\",\"Ruby\",\"Python\",\"Coq\",\"PostScript\",\"Java\",\"JavaScript\",\"Jupyter Notebook\"]},\"id\":\"17011\",\"type\":\"FactorRange\"},{\"attributes\":{\"overlay\":{\"id\":\"17030\"}},\"id\":\"17026\",\"type\":\"BoxZoomTool\"},{\"attributes\":{\"items\":[{\"id\":\"17053\"}],\"location\":\"bottom_right\"},\"id\":\"17052\",\"type\":\"Legend\"},{\"attributes\":{\"source\":{\"id\":\"17005\"}},\"id\":\"17043\",\"type\":\"CDSView\"},{\"attributes\":{},\"id\":\"17048\",\"type\":\"BasicTickFormatter\"},{\"attributes\":{},\"id\":\"17025\",\"type\":\"WheelZoomTool\"},{\"attributes\":{},\"id\":\"17046\",\"type\":\"CategoricalTickFormatter\"},{\"attributes\":{\"fill_alpha\":{\"value\":0.75},\"fill_color\":{\"field\":\"color\"},\"height\":{\"value\":0.7},\"line_color\":{\"field\":\"color\"},\"right\":{\"field\":\"x_data\"},\"y\":{\"field\":\"y_data\"}},\"id\":\"17039\",\"type\":\"HBar\"},{\"attributes\":{\"callback\":null,\"point_policy\":\"follow_mouse\",\"tooltips\":[[\"Language\",\"@y_data\"],[\"Number of bytes\",\"@x_data\"]]},\"id\":\"17054\",\"type\":\"HoverTool\"},{\"attributes\":{},\"id\":\"17051\",\"type\":\"Selection\"},{\"attributes\":{\"data\":{\"color\":[\"#1f77b4\",\"#aec7e8\",\"#ff7f0e\",\"#ffbb78\",\"#2ca02c\",\"#98df8a\",\"#d62728\",\"#ff9896\",\"#9467bd\",\"#c5b0d5\",\"#8c564b\",\"#c49c94\",\"#e377c2\",\"#f7b6d2\",\"#7f7f7f\"],\"x_data\":[43360784.0,36100093.0,24041579.0,20338860.0,7736194.0,4984187.0,3476871.0,2349685.0,2297972.0,1479237.0,1228949.0,1100389.0,989242.0,734741.0,694233.0],\"y_data\":[\"Jupyter Notebook\",\"JavaScript\",\"Java\",\"PostScript\",\"Coq\",\"Python\",\"Ruby\",\"HTML\",\"Go\",\"XSLT\",\"PHP\",\"Game Maker Language\",\"C++\",\"CSS\",\"Vim script\"]},\"selected\":{\"id\":\"17051\"},\"selection_policy\":{\"id\":\"17050\"}},\"id\":\"17005\",\"type\":\"ColumnDataSource\"},{\"attributes\":{},\"id\":\"17015\",\"type\":\"CategoricalScale\"},{\"attributes\":{\"bottom_units\":\"screen\",\"fill_alpha\":0.5,\"fill_color\":\"lightgrey\",\"left_units\":\"screen\",\"level\":\"overlay\",\"line_alpha\":1.0,\"line_color\":\"black\",\"line_dash\":[4,4],\"line_width\":2,\"right_units\":\"screen\",\"top_units\":\"screen\"},\"id\":\"17030\",\"type\":\"BoxAnnotation\"},{\"attributes\":{\"active_drag\":\"auto\",\"active_inspect\":\"auto\",\"active_multi\":null,\"active_scroll\":\"auto\",\"active_tap\":\"auto\",\"tools\":[{\"id\":\"17024\"},{\"id\":\"17025\"},{\"id\":\"17026\"},{\"id\":\"17027\"},{\"id\":\"17028\"},{\"id\":\"17029\"},{\"id\":\"17054\"}]},\"id\":\"17031\",\"type\":\"Toolbar\"},{\"attributes\":{},\"id\":\"17024\",\"type\":\"PanTool\"},{\"attributes\":{\"fill_color\":{\"field\":\"color\"},\"height\":{\"value\":0.7},\"line_color\":{\"field\":\"color\"},\"right\":{\"field\":\"x_data\"},\"y\":{\"field\":\"y_data\"}},\"id\":\"17041\",\"type\":\"HBar\"},{\"attributes\":{},\"id\":\"17013\",\"type\":\"LinearScale\"},{\"attributes\":{\"fill_alpha\":{\"value\":0.1},\"fill_color\":{\"field\":\"color\"},\"height\":{\"value\":0.7},\"line_alpha\":{\"value\":0.1},\"line_color\":{\"field\":\"color\"},\"right\":{\"field\":\"x_data\"},\"y\":{\"field\":\"y_data\"}},\"id\":\"17040\",\"type\":\"HBar\"},{\"attributes\":{},\"id\":\"17028\",\"type\":\"ResetTool\"},{\"attributes\":{\"text\":\"Languages with the most number of bytes\"},\"id\":\"17007\",\"type\":\"Title\"},{\"attributes\":{},\"id\":\"17029\",\"type\":\"HelpTool\"},{\"attributes\":{\"label\":{\"field\":\"y_data\"},\"renderers\":[{\"id\":\"17042\"}]},\"id\":\"17053\",\"type\":\"LegendItem\"},{\"attributes\":{\"axis\":{\"id\":\"17021\"},\"dimension\":1,\"grid_line_color\":null,\"ticker\":null},\"id\":\"17023\",\"type\":\"Grid\"},{\"attributes\":{},\"id\":\"17022\",\"type\":\"CategoricalTicker\"},{\"attributes\":{\"end\":47696862.400000006},\"id\":\"17009\",\"type\":\"Range1d\"},{\"attributes\":{},\"id\":\"17050\",\"type\":\"UnionRenderers\"}],\"root_ids\":[\"17006\"]},\"title\":\"Bokeh Application\",\"version\":\"2.1.1\"}};\n",
       "  var render_items = [{\"docid\":\"a1ab9965-d24c-4b9b-b491-e4b794c2c5bf\",\"notebook_comms_target\":\"17472\",\"root_ids\":[\"17006\"],\"roots\":{\"17006\":\"fb555a22-ee19-47e5-8af2-9d53c1ad97cb\"}}];\n",
       "  root.Bokeh.embed.embed_items_notebook(docs_json, render_items);\n",
       "\n",
       "  }\n",
       "  if (root.Bokeh !== undefined) {\n",
       "    embed_document(root);\n",
       "  } else {\n",
       "    var attempts = 0;\n",
       "    var timer = setInterval(function(root) {\n",
       "      if (root.Bokeh !== undefined) {\n",
       "        clearInterval(timer);\n",
       "        embed_document(root);\n",
       "      } else {\n",
       "        attempts++;\n",
       "        if (attempts > 100) {\n",
       "          clearInterval(timer);\n",
       "          console.log(\"Bokeh: ERROR: Unable to run BokehJS code because BokehJS library is missing\");\n",
       "        }\n",
       "      }\n",
       "    }, 10, root)\n",
       "  }\n",
       "})(window);"
      ],
      "application/vnd.bokehjs_exec.v0+json": ""
     },
     "metadata": {
      "application/vnd.bokehjs_exec.v0+json": {
       "id": "17006"
      }
     },
     "output_type": "display_data"
    }
   ],
   "source": [
    "from bokeh.palettes import Category20_15\n",
    "\n",
    "NUM_LANGUAGES = 15\n",
    "\n",
    "languages_sum = languages_df.sum().sort_values(ascending=False)\n",
    "num_bytes = languages_df.sum()[:NUM_LANGUAGES]\n",
    "\n",
    "plot_horizontal_bar_chart(list(languages_sum)[:NUM_LANGUAGES],\n",
    "                          list(languages_sum.keys())[:NUM_LANGUAGES],\n",
    "                          \"Languages with the most number of bytes\",\n",
    "                          \"Number of bytes\", \"Language\",\n",
    "                          color_palette=Category20_15)"
   ]
  },
  {
   "cell_type": "markdown",
   "metadata": {},
   "source": [
    "We can see that most repositories have code written in Jupyter Notebooks, JavaScript and Java.\n",
    "\n",
    "Although the number of bytes is an interesting measure, some languages tend to have a bigger repository size by nature. In the following cell we are going to select the most prominent language for each repository and plot the most used languages in the dataset:"
   ]
  },
  {
   "cell_type": "code",
   "execution_count": 194,
   "metadata": {},
   "outputs": [
    {
     "data": {
      "text/html": [
       "\n",
       "\n",
       "\n",
       "\n",
       "\n",
       "\n",
       "  <div class=\"bk-root\" id=\"97636ede-bc39-4415-9546-2c23fa6587e8\" data-root-id=\"17522\"></div>\n"
      ]
     },
     "metadata": {},
     "output_type": "display_data"
    },
    {
     "data": {
      "application/javascript": [
       "(function(root) {\n",
       "  function embed_document(root) {\n",
       "    \n",
       "  var docs_json = {\"343f616d-38e4-47f5-895c-8b6495b8244f\":{\"roots\":{\"references\":[{\"attributes\":{\"below\":[{\"id\":\"17533\"}],\"center\":[{\"id\":\"17536\"},{\"id\":\"17539\"},{\"id\":\"17568\"}],\"left\":[{\"id\":\"17537\"}],\"plot_height\":750,\"renderers\":[{\"id\":\"17558\"}],\"title\":{\"id\":\"17523\"},\"toolbar\":{\"id\":\"17547\"},\"x_range\":{\"id\":\"17525\"},\"x_scale\":{\"id\":\"17529\"},\"y_range\":{\"id\":\"17527\"},\"y_scale\":{\"id\":\"17531\"}},\"id\":\"17522\",\"subtype\":\"Figure\",\"type\":\"Plot\"},{\"attributes\":{},\"id\":\"17567\",\"type\":\"Selection\"},{\"attributes\":{\"fill_color\":{\"field\":\"color\"},\"height\":{\"value\":0.7},\"line_color\":{\"field\":\"color\"},\"right\":{\"field\":\"x_data\"},\"y\":{\"field\":\"y_data\"}},\"id\":\"17557\",\"type\":\"HBar\"},{\"attributes\":{\"formatter\":{\"id\":\"17564\"},\"ticker\":{\"id\":\"17534\"}},\"id\":\"17533\",\"type\":\"LinearAxis\"},{\"attributes\":{\"fill_alpha\":{\"value\":0.1},\"fill_color\":{\"field\":\"color\"},\"height\":{\"value\":0.7},\"line_alpha\":{\"value\":0.1},\"line_color\":{\"field\":\"color\"},\"right\":{\"field\":\"x_data\"},\"y\":{\"field\":\"y_data\"}},\"id\":\"17556\",\"type\":\"HBar\"},{\"attributes\":{},\"id\":\"17541\",\"type\":\"WheelZoomTool\"},{\"attributes\":{},\"id\":\"17538\",\"type\":\"CategoricalTicker\"},{\"attributes\":{\"label\":{\"field\":\"y_data\"},\"renderers\":[{\"id\":\"17558\"}]},\"id\":\"17569\",\"type\":\"LegendItem\"},{\"attributes\":{},\"id\":\"17544\",\"type\":\"ResetTool\"},{\"attributes\":{\"data_source\":{\"id\":\"17521\"},\"glyph\":{\"id\":\"17555\"},\"hover_glyph\":{\"id\":\"17557\"},\"muted_glyph\":null,\"nonselection_glyph\":{\"id\":\"17556\"},\"selection_glyph\":null,\"view\":{\"id\":\"17559\"}},\"id\":\"17558\",\"type\":\"GlyphRenderer\"},{\"attributes\":{},\"id\":\"17543\",\"type\":\"SaveTool\"},{\"attributes\":{\"end\":9.9},\"id\":\"17525\",\"type\":\"Range1d\"},{\"attributes\":{\"data\":{\"color\":[\"#1f77b4\",\"#aec7e8\",\"#ff7f0e\",\"#ffbb78\",\"#2ca02c\",\"#98df8a\",\"#d62728\",\"#ff9896\",\"#9467bd\",\"#c5b0d5\"],\"x_data\":[9,6,6,5,4,3,2,1,1,1],\"y_data\":[\"Java\",\"Jupyter Notebook\",\"Python\",\"JavaScript\",\"Ruby\",\"C++\",\"C\",\"Shell\",\"R\",\"Game Maker Language\"]},\"selected\":{\"id\":\"17567\"},\"selection_policy\":{\"id\":\"17566\"}},\"id\":\"17521\",\"type\":\"ColumnDataSource\"},{\"attributes\":{\"bottom_units\":\"screen\",\"fill_alpha\":0.5,\"fill_color\":\"lightgrey\",\"left_units\":\"screen\",\"level\":\"overlay\",\"line_alpha\":1.0,\"line_color\":\"black\",\"line_dash\":[4,4],\"line_width\":2,\"right_units\":\"screen\",\"top_units\":\"screen\"},\"id\":\"17546\",\"type\":\"BoxAnnotation\"},{\"attributes\":{\"formatter\":{\"id\":\"17562\"},\"ticker\":{\"id\":\"17538\"}},\"id\":\"17537\",\"type\":\"CategoricalAxis\"},{\"attributes\":{\"items\":[{\"id\":\"17569\"}],\"location\":\"bottom_right\"},\"id\":\"17568\",\"type\":\"Legend\"},{\"attributes\":{},\"id\":\"17540\",\"type\":\"PanTool\"},{\"attributes\":{},\"id\":\"17545\",\"type\":\"HelpTool\"},{\"attributes\":{\"callback\":null,\"point_policy\":\"follow_mouse\",\"tooltips\":[[\"Language\",\"@y_data\"],[\"Number of repositories\",\"@x_data\"]]},\"id\":\"17570\",\"type\":\"HoverTool\"},{\"attributes\":{\"fill_alpha\":{\"value\":0.75},\"fill_color\":{\"field\":\"color\"},\"height\":{\"value\":0.7},\"line_color\":{\"field\":\"color\"},\"right\":{\"field\":\"x_data\"},\"y\":{\"field\":\"y_data\"}},\"id\":\"17555\",\"type\":\"HBar\"},{\"attributes\":{},\"id\":\"17529\",\"type\":\"LinearScale\"},{\"attributes\":{\"source\":{\"id\":\"17521\"}},\"id\":\"17559\",\"type\":\"CDSView\"},{\"attributes\":{\"axis\":{\"id\":\"17533\"},\"ticker\":null},\"id\":\"17536\",\"type\":\"Grid\"},{\"attributes\":{},\"id\":\"17564\",\"type\":\"BasicTickFormatter\"},{\"attributes\":{},\"id\":\"17562\",\"type\":\"CategoricalTickFormatter\"},{\"attributes\":{},\"id\":\"17534\",\"type\":\"BasicTicker\"},{\"attributes\":{\"active_drag\":\"auto\",\"active_inspect\":\"auto\",\"active_multi\":null,\"active_scroll\":\"auto\",\"active_tap\":\"auto\",\"tools\":[{\"id\":\"17540\"},{\"id\":\"17541\"},{\"id\":\"17542\"},{\"id\":\"17543\"},{\"id\":\"17544\"},{\"id\":\"17545\"},{\"id\":\"17570\"}]},\"id\":\"17547\",\"type\":\"Toolbar\"},{\"attributes\":{\"text\":\"Top 10 most used languages\"},\"id\":\"17523\",\"type\":\"Title\"},{\"attributes\":{\"axis\":{\"id\":\"17537\"},\"dimension\":1,\"grid_line_color\":null,\"ticker\":null},\"id\":\"17539\",\"type\":\"Grid\"},{\"attributes\":{},\"id\":\"17531\",\"type\":\"CategoricalScale\"},{\"attributes\":{},\"id\":\"17566\",\"type\":\"UnionRenderers\"},{\"attributes\":{\"overlay\":{\"id\":\"17546\"}},\"id\":\"17542\",\"type\":\"BoxZoomTool\"},{\"attributes\":{\"factors\":[\"Shell\",\"R\",\"Game Maker Language\",\"C\",\"C++\",\"Ruby\",\"JavaScript\",\"Jupyter Notebook\",\"Python\",\"Java\"]},\"id\":\"17527\",\"type\":\"FactorRange\"}],\"root_ids\":[\"17522\"]},\"title\":\"Bokeh Application\",\"version\":\"2.1.1\"}};\n",
       "  var render_items = [{\"docid\":\"343f616d-38e4-47f5-895c-8b6495b8244f\",\"notebook_comms_target\":\"17996\",\"root_ids\":[\"17522\"],\"roots\":{\"17522\":\"97636ede-bc39-4415-9546-2c23fa6587e8\"}}];\n",
       "  root.Bokeh.embed.embed_items_notebook(docs_json, render_items);\n",
       "\n",
       "  }\n",
       "  if (root.Bokeh !== undefined) {\n",
       "    embed_document(root);\n",
       "  } else {\n",
       "    var attempts = 0;\n",
       "    var timer = setInterval(function(root) {\n",
       "      if (root.Bokeh !== undefined) {\n",
       "        clearInterval(timer);\n",
       "        embed_document(root);\n",
       "      } else {\n",
       "        attempts++;\n",
       "        if (attempts > 100) {\n",
       "          clearInterval(timer);\n",
       "          console.log(\"Bokeh: ERROR: Unable to run BokehJS code because BokehJS library is missing\");\n",
       "        }\n",
       "      }\n",
       "    }, 10, root)\n",
       "  }\n",
       "})(window);"
      ],
      "application/vnd.bokehjs_exec.v0+json": ""
     },
     "metadata": {
      "application/vnd.bokehjs_exec.v0+json": {
       "id": "17522"
      }
     },
     "output_type": "display_data"
    }
   ],
   "source": [
    "from bokeh.palettes import Category20_10\n",
    "\n",
    "most_used_languages = languages_df.idxmax(axis=1).value_counts()[:10]\n",
    "plot_horizontal_bar_chart(list(most_used_languages),\n",
    "                          list(most_used_languages.keys()),\n",
    "                          \"Top 10 most used languages\",\n",
    "                          \"Number of repositories\", \"Language\",\n",
    "                          color_palette=Category20_10)"
   ]
  },
  {
   "cell_type": "markdown",
   "metadata": {},
   "source": [
    "With this new measure the top order has changed a bit. Both JavaScript and Jupyter Notebooks remain in the top 5, but they have fallen some positions to both Java and Python."
   ]
  },
  {
   "cell_type": "markdown",
   "metadata": {},
   "source": [
    "## Saving the dataframe"
   ]
  },
  {
   "cell_type": "markdown",
   "metadata": {},
   "source": [
    "Finally, we are going to serialize the dataframe so we can load it later on in the following notebooks:"
   ]
  },
  {
   "cell_type": "code",
   "execution_count": 74,
   "metadata": {},
   "outputs": [],
   "source": [
    "GIT_DF_FILE_PATH = os.path.join(DATA_DIR, 'git_dataframe.pkl')\n",
    "\n",
    "df.to_pickle(GIT_DF_FILE_PATH)"
   ]
  }
 ],
 "metadata": {
  "kernelspec": {
   "display_name": "Python 3",
   "language": "python",
   "name": "python3"
  },
  "language_info": {
   "codemirror_mode": {
    "name": "ipython",
    "version": 3
   },
   "file_extension": ".py",
   "mimetype": "text/x-python",
   "name": "python",
   "nbconvert_exporter": "python",
   "pygments_lexer": "ipython3",
   "version": "3.7.7"
  }
 },
 "nbformat": 4,
 "nbformat_minor": 4
}
