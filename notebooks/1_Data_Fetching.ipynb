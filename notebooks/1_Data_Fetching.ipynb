{
 "cells": [
  {
   "cell_type": "markdown",
   "metadata": {},
   "source": [
    "# 1. Data fetching and cleaning\n",
    "In this notebook we are going to fetch and perform an initial exploration of the dataset for the Git track of the Hércules Challenge. This dataset consists of 50 GitHub repositories."
   ]
  },
  {
   "cell_type": "markdown",
   "metadata": {},
   "source": [
    "## Setup\n",
    "As always, we will begin the notebook by starting the logging system and importing some constants defined in the \"\\_\\_init\\_\\_.py\" file:"
   ]
  },
  {
   "cell_type": "code",
   "execution_count": 1,
   "metadata": {},
   "outputs": [],
   "source": [
    "%run __init__.py"
   ]
  },
  {
   "cell_type": "markdown",
   "metadata": {},
   "source": [
    "We will also define an auxiliary function to print the empty columns of the dataframes:"
   ]
  },
  {
   "cell_type": "code",
   "execution_count": 2,
   "metadata": {},
   "outputs": [],
   "source": [
    "def print_empty_cols(df):\n",
    "    for col in df.columns:\n",
    "        print(col)\n",
    "        print('-' * len(col))\n",
    "        res = df[df[col] == ''].index\n",
    "        print(f\"{len(res)} articles have no value for column {col}\")\n",
    "        print(res)\n",
    "        print('\\n')\n"
   ]
  },
  {
   "cell_type": "markdown",
   "metadata": {},
   "source": [
    "Finally, we will impor the bokeh library to show the charts in the notebook, and we will import the BokehHistogram class from the _herc\\_common_ library to show our results:"
   ]
  },
  {
   "cell_type": "code",
   "execution_count": 3,
   "metadata": {},
   "outputs": [
    {
     "name": "stderr",
     "output_type": "stream",
     "text": [
      "/home/alejandro/.envs/edma/lib/python3.7/site-packages/pandas/compat/__init__.py:117: UserWarning: Could not import the lzma module. Your installed Python is incomplete. Attempting to use lzma compression will result in a RuntimeError.\n",
      "  warnings.warn(msg)\n"
     ]
    },
    {
     "data": {
      "text/html": [
       "\n",
       "    <div class=\"bk-root\">\n",
       "        <a href=\"https://bokeh.org\" target=\"_blank\" class=\"bk-logo bk-logo-small bk-logo-notebook\"></a>\n",
       "        <span id=\"1001\">Loading BokehJS ...</span>\n",
       "    </div>"
      ]
     },
     "metadata": {},
     "output_type": "display_data"
    },
    {
     "data": {
      "application/javascript": [
       "\n",
       "(function(root) {\n",
       "  function now() {\n",
       "    return new Date();\n",
       "  }\n",
       "\n",
       "  var force = true;\n",
       "\n",
       "  if (typeof root._bokeh_onload_callbacks === \"undefined\" || force === true) {\n",
       "    root._bokeh_onload_callbacks = [];\n",
       "    root._bokeh_is_loading = undefined;\n",
       "  }\n",
       "\n",
       "  var JS_MIME_TYPE = 'application/javascript';\n",
       "  var HTML_MIME_TYPE = 'text/html';\n",
       "  var EXEC_MIME_TYPE = 'application/vnd.bokehjs_exec.v0+json';\n",
       "  var CLASS_NAME = 'output_bokeh rendered_html';\n",
       "\n",
       "  /**\n",
       "   * Render data to the DOM node\n",
       "   */\n",
       "  function render(props, node) {\n",
       "    var script = document.createElement(\"script\");\n",
       "    node.appendChild(script);\n",
       "  }\n",
       "\n",
       "  /**\n",
       "   * Handle when an output is cleared or removed\n",
       "   */\n",
       "  function handleClearOutput(event, handle) {\n",
       "    var cell = handle.cell;\n",
       "\n",
       "    var id = cell.output_area._bokeh_element_id;\n",
       "    var server_id = cell.output_area._bokeh_server_id;\n",
       "    // Clean up Bokeh references\n",
       "    if (id != null && id in Bokeh.index) {\n",
       "      Bokeh.index[id].model.document.clear();\n",
       "      delete Bokeh.index[id];\n",
       "    }\n",
       "\n",
       "    if (server_id !== undefined) {\n",
       "      // Clean up Bokeh references\n",
       "      var cmd = \"from bokeh.io.state import curstate; print(curstate().uuid_to_server['\" + server_id + \"'].get_sessions()[0].document.roots[0]._id)\";\n",
       "      cell.notebook.kernel.execute(cmd, {\n",
       "        iopub: {\n",
       "          output: function(msg) {\n",
       "            var id = msg.content.text.trim();\n",
       "            if (id in Bokeh.index) {\n",
       "              Bokeh.index[id].model.document.clear();\n",
       "              delete Bokeh.index[id];\n",
       "            }\n",
       "          }\n",
       "        }\n",
       "      });\n",
       "      // Destroy server and session\n",
       "      var cmd = \"import bokeh.io.notebook as ion; ion.destroy_server('\" + server_id + \"')\";\n",
       "      cell.notebook.kernel.execute(cmd);\n",
       "    }\n",
       "  }\n",
       "\n",
       "  /**\n",
       "   * Handle when a new output is added\n",
       "   */\n",
       "  function handleAddOutput(event, handle) {\n",
       "    var output_area = handle.output_area;\n",
       "    var output = handle.output;\n",
       "\n",
       "    // limit handleAddOutput to display_data with EXEC_MIME_TYPE content only\n",
       "    if ((output.output_type != \"display_data\") || (!output.data.hasOwnProperty(EXEC_MIME_TYPE))) {\n",
       "      return\n",
       "    }\n",
       "\n",
       "    var toinsert = output_area.element.find(\".\" + CLASS_NAME.split(' ')[0]);\n",
       "\n",
       "    if (output.metadata[EXEC_MIME_TYPE][\"id\"] !== undefined) {\n",
       "      toinsert[toinsert.length - 1].firstChild.textContent = output.data[JS_MIME_TYPE];\n",
       "      // store reference to embed id on output_area\n",
       "      output_area._bokeh_element_id = output.metadata[EXEC_MIME_TYPE][\"id\"];\n",
       "    }\n",
       "    if (output.metadata[EXEC_MIME_TYPE][\"server_id\"] !== undefined) {\n",
       "      var bk_div = document.createElement(\"div\");\n",
       "      bk_div.innerHTML = output.data[HTML_MIME_TYPE];\n",
       "      var script_attrs = bk_div.children[0].attributes;\n",
       "      for (var i = 0; i < script_attrs.length; i++) {\n",
       "        toinsert[toinsert.length - 1].firstChild.setAttribute(script_attrs[i].name, script_attrs[i].value);\n",
       "        toinsert[toinsert.length - 1].firstChild.textContent = bk_div.children[0].textContent\n",
       "      }\n",
       "      // store reference to server id on output_area\n",
       "      output_area._bokeh_server_id = output.metadata[EXEC_MIME_TYPE][\"server_id\"];\n",
       "    }\n",
       "  }\n",
       "\n",
       "  function register_renderer(events, OutputArea) {\n",
       "\n",
       "    function append_mime(data, metadata, element) {\n",
       "      // create a DOM node to render to\n",
       "      var toinsert = this.create_output_subarea(\n",
       "        metadata,\n",
       "        CLASS_NAME,\n",
       "        EXEC_MIME_TYPE\n",
       "      );\n",
       "      this.keyboard_manager.register_events(toinsert);\n",
       "      // Render to node\n",
       "      var props = {data: data, metadata: metadata[EXEC_MIME_TYPE]};\n",
       "      render(props, toinsert[toinsert.length - 1]);\n",
       "      element.append(toinsert);\n",
       "      return toinsert\n",
       "    }\n",
       "\n",
       "    /* Handle when an output is cleared or removed */\n",
       "    events.on('clear_output.CodeCell', handleClearOutput);\n",
       "    events.on('delete.Cell', handleClearOutput);\n",
       "\n",
       "    /* Handle when a new output is added */\n",
       "    events.on('output_added.OutputArea', handleAddOutput);\n",
       "\n",
       "    /**\n",
       "     * Register the mime type and append_mime function with output_area\n",
       "     */\n",
       "    OutputArea.prototype.register_mime_type(EXEC_MIME_TYPE, append_mime, {\n",
       "      /* Is output safe? */\n",
       "      safe: true,\n",
       "      /* Index of renderer in `output_area.display_order` */\n",
       "      index: 0\n",
       "    });\n",
       "  }\n",
       "\n",
       "  // register the mime type if in Jupyter Notebook environment and previously unregistered\n",
       "  if (root.Jupyter !== undefined) {\n",
       "    var events = require('base/js/events');\n",
       "    var OutputArea = require('notebook/js/outputarea').OutputArea;\n",
       "\n",
       "    if (OutputArea.prototype.mime_types().indexOf(EXEC_MIME_TYPE) == -1) {\n",
       "      register_renderer(events, OutputArea);\n",
       "    }\n",
       "  }\n",
       "\n",
       "  \n",
       "  if (typeof (root._bokeh_timeout) === \"undefined\" || force === true) {\n",
       "    root._bokeh_timeout = Date.now() + 5000;\n",
       "    root._bokeh_failed_load = false;\n",
       "  }\n",
       "\n",
       "  var NB_LOAD_WARNING = {'data': {'text/html':\n",
       "     \"<div style='background-color: #fdd'>\\n\"+\n",
       "     \"<p>\\n\"+\n",
       "     \"BokehJS does not appear to have successfully loaded. If loading BokehJS from CDN, this \\n\"+\n",
       "     \"may be due to a slow or bad network connection. Possible fixes:\\n\"+\n",
       "     \"</p>\\n\"+\n",
       "     \"<ul>\\n\"+\n",
       "     \"<li>re-rerun `output_notebook()` to attempt to load from CDN again, or</li>\\n\"+\n",
       "     \"<li>use INLINE resources instead, as so:</li>\\n\"+\n",
       "     \"</ul>\\n\"+\n",
       "     \"<code>\\n\"+\n",
       "     \"from bokeh.resources import INLINE\\n\"+\n",
       "     \"output_notebook(resources=INLINE)\\n\"+\n",
       "     \"</code>\\n\"+\n",
       "     \"</div>\"}};\n",
       "\n",
       "  function display_loaded() {\n",
       "    var el = document.getElementById(\"1001\");\n",
       "    if (el != null) {\n",
       "      el.textContent = \"BokehJS is loading...\";\n",
       "    }\n",
       "    if (root.Bokeh !== undefined) {\n",
       "      if (el != null) {\n",
       "        el.textContent = \"BokehJS \" + root.Bokeh.version + \" successfully loaded.\";\n",
       "      }\n",
       "    } else if (Date.now() < root._bokeh_timeout) {\n",
       "      setTimeout(display_loaded, 100)\n",
       "    }\n",
       "  }\n",
       "\n",
       "\n",
       "  function run_callbacks() {\n",
       "    try {\n",
       "      root._bokeh_onload_callbacks.forEach(function(callback) {\n",
       "        if (callback != null)\n",
       "          callback();\n",
       "      });\n",
       "    } finally {\n",
       "      delete root._bokeh_onload_callbacks\n",
       "    }\n",
       "    console.debug(\"Bokeh: all callbacks have finished\");\n",
       "  }\n",
       "\n",
       "  function load_libs(css_urls, js_urls, callback) {\n",
       "    if (css_urls == null) css_urls = [];\n",
       "    if (js_urls == null) js_urls = [];\n",
       "\n",
       "    root._bokeh_onload_callbacks.push(callback);\n",
       "    if (root._bokeh_is_loading > 0) {\n",
       "      console.debug(\"Bokeh: BokehJS is being loaded, scheduling callback at\", now());\n",
       "      return null;\n",
       "    }\n",
       "    if (js_urls == null || js_urls.length === 0) {\n",
       "      run_callbacks();\n",
       "      return null;\n",
       "    }\n",
       "    console.debug(\"Bokeh: BokehJS not loaded, scheduling load and callback at\", now());\n",
       "    root._bokeh_is_loading = css_urls.length + js_urls.length;\n",
       "\n",
       "    function on_load() {\n",
       "      root._bokeh_is_loading--;\n",
       "      if (root._bokeh_is_loading === 0) {\n",
       "        console.debug(\"Bokeh: all BokehJS libraries/stylesheets loaded\");\n",
       "        run_callbacks()\n",
       "      }\n",
       "    }\n",
       "\n",
       "    function on_error() {\n",
       "      console.error(\"failed to load \" + url);\n",
       "    }\n",
       "\n",
       "    for (var i = 0; i < css_urls.length; i++) {\n",
       "      var url = css_urls[i];\n",
       "      const element = document.createElement(\"link\");\n",
       "      element.onload = on_load;\n",
       "      element.onerror = on_error;\n",
       "      element.rel = \"stylesheet\";\n",
       "      element.type = \"text/css\";\n",
       "      element.href = url;\n",
       "      console.debug(\"Bokeh: injecting link tag for BokehJS stylesheet: \", url);\n",
       "      document.body.appendChild(element);\n",
       "    }\n",
       "\n",
       "    const hashes = {\"https://cdn.bokeh.org/bokeh/release/bokeh-2.1.1.min.js\": \"kLr4fYcqcSpbuI95brIH3vnnYCquzzSxHPU6XGQCIkQRGJwhg0StNbj1eegrHs12\", \"https://cdn.bokeh.org/bokeh/release/bokeh-widgets-2.1.1.min.js\": \"xIGPmVtaOm+z0BqfSOMn4lOR6ciex448GIKG4eE61LsAvmGj48XcMQZtKcE/UXZe\", \"https://cdn.bokeh.org/bokeh/release/bokeh-tables-2.1.1.min.js\": \"Dc9u1wF/0zApGIWoBbH77iWEHtdmkuYWG839Uzmv8y8yBLXebjO9ZnERsde5Ln/P\", \"https://cdn.bokeh.org/bokeh/release/bokeh-gl-2.1.1.min.js\": \"cT9JaBz7GiRXdENrJLZNSC6eMNF3nh3fa5fTF51Svp+ukxPdwcU5kGXGPBgDCa2j\"};\n",
       "\n",
       "    for (var i = 0; i < js_urls.length; i++) {\n",
       "      var url = js_urls[i];\n",
       "      var element = document.createElement('script');\n",
       "      element.onload = on_load;\n",
       "      element.onerror = on_error;\n",
       "      element.async = false;\n",
       "      element.src = url;\n",
       "      if (url in hashes) {\n",
       "        element.crossOrigin = \"anonymous\";\n",
       "        element.integrity = \"sha384-\" + hashes[url];\n",
       "      }\n",
       "      console.debug(\"Bokeh: injecting script tag for BokehJS library: \", url);\n",
       "      document.head.appendChild(element);\n",
       "    }\n",
       "  };\n",
       "\n",
       "  function inject_raw_css(css) {\n",
       "    const element = document.createElement(\"style\");\n",
       "    element.appendChild(document.createTextNode(css));\n",
       "    document.body.appendChild(element);\n",
       "  }\n",
       "\n",
       "  \n",
       "  var js_urls = [\"https://cdn.bokeh.org/bokeh/release/bokeh-2.1.1.min.js\", \"https://cdn.bokeh.org/bokeh/release/bokeh-widgets-2.1.1.min.js\", \"https://cdn.bokeh.org/bokeh/release/bokeh-tables-2.1.1.min.js\", \"https://cdn.bokeh.org/bokeh/release/bokeh-gl-2.1.1.min.js\"];\n",
       "  var css_urls = [];\n",
       "  \n",
       "\n",
       "  var inline_js = [\n",
       "    function(Bokeh) {\n",
       "      Bokeh.set_log_level(\"info\");\n",
       "    },\n",
       "    function(Bokeh) {\n",
       "    \n",
       "    \n",
       "    }\n",
       "  ];\n",
       "\n",
       "  function run_inline_js() {\n",
       "    \n",
       "    if (root.Bokeh !== undefined || force === true) {\n",
       "      \n",
       "    for (var i = 0; i < inline_js.length; i++) {\n",
       "      inline_js[i].call(root, root.Bokeh);\n",
       "    }\n",
       "    if (force === true) {\n",
       "        display_loaded();\n",
       "      }} else if (Date.now() < root._bokeh_timeout) {\n",
       "      setTimeout(run_inline_js, 100);\n",
       "    } else if (!root._bokeh_failed_load) {\n",
       "      console.log(\"Bokeh: BokehJS failed to load within specified timeout.\");\n",
       "      root._bokeh_failed_load = true;\n",
       "    } else if (force !== true) {\n",
       "      var cell = $(document.getElementById(\"1001\")).parents('.cell').data().cell;\n",
       "      cell.output_area.append_execute_result(NB_LOAD_WARNING)\n",
       "    }\n",
       "\n",
       "  }\n",
       "\n",
       "  if (root._bokeh_is_loading === 0) {\n",
       "    console.debug(\"Bokeh: BokehJS loaded, going straight to plotting\");\n",
       "    run_inline_js();\n",
       "  } else {\n",
       "    load_libs(css_urls, js_urls, function() {\n",
       "      console.debug(\"Bokeh: BokehJS plotting callback run at\", now());\n",
       "      run_inline_js();\n",
       "    });\n",
       "  }\n",
       "}(window));"
      ],
      "application/vnd.bokehjs_load.v0+json": "\n(function(root) {\n  function now() {\n    return new Date();\n  }\n\n  var force = true;\n\n  if (typeof root._bokeh_onload_callbacks === \"undefined\" || force === true) {\n    root._bokeh_onload_callbacks = [];\n    root._bokeh_is_loading = undefined;\n  }\n\n  \n\n  \n  if (typeof (root._bokeh_timeout) === \"undefined\" || force === true) {\n    root._bokeh_timeout = Date.now() + 5000;\n    root._bokeh_failed_load = false;\n  }\n\n  var NB_LOAD_WARNING = {'data': {'text/html':\n     \"<div style='background-color: #fdd'>\\n\"+\n     \"<p>\\n\"+\n     \"BokehJS does not appear to have successfully loaded. If loading BokehJS from CDN, this \\n\"+\n     \"may be due to a slow or bad network connection. Possible fixes:\\n\"+\n     \"</p>\\n\"+\n     \"<ul>\\n\"+\n     \"<li>re-rerun `output_notebook()` to attempt to load from CDN again, or</li>\\n\"+\n     \"<li>use INLINE resources instead, as so:</li>\\n\"+\n     \"</ul>\\n\"+\n     \"<code>\\n\"+\n     \"from bokeh.resources import INLINE\\n\"+\n     \"output_notebook(resources=INLINE)\\n\"+\n     \"</code>\\n\"+\n     \"</div>\"}};\n\n  function display_loaded() {\n    var el = document.getElementById(\"1001\");\n    if (el != null) {\n      el.textContent = \"BokehJS is loading...\";\n    }\n    if (root.Bokeh !== undefined) {\n      if (el != null) {\n        el.textContent = \"BokehJS \" + root.Bokeh.version + \" successfully loaded.\";\n      }\n    } else if (Date.now() < root._bokeh_timeout) {\n      setTimeout(display_loaded, 100)\n    }\n  }\n\n\n  function run_callbacks() {\n    try {\n      root._bokeh_onload_callbacks.forEach(function(callback) {\n        if (callback != null)\n          callback();\n      });\n    } finally {\n      delete root._bokeh_onload_callbacks\n    }\n    console.debug(\"Bokeh: all callbacks have finished\");\n  }\n\n  function load_libs(css_urls, js_urls, callback) {\n    if (css_urls == null) css_urls = [];\n    if (js_urls == null) js_urls = [];\n\n    root._bokeh_onload_callbacks.push(callback);\n    if (root._bokeh_is_loading > 0) {\n      console.debug(\"Bokeh: BokehJS is being loaded, scheduling callback at\", now());\n      return null;\n    }\n    if (js_urls == null || js_urls.length === 0) {\n      run_callbacks();\n      return null;\n    }\n    console.debug(\"Bokeh: BokehJS not loaded, scheduling load and callback at\", now());\n    root._bokeh_is_loading = css_urls.length + js_urls.length;\n\n    function on_load() {\n      root._bokeh_is_loading--;\n      if (root._bokeh_is_loading === 0) {\n        console.debug(\"Bokeh: all BokehJS libraries/stylesheets loaded\");\n        run_callbacks()\n      }\n    }\n\n    function on_error() {\n      console.error(\"failed to load \" + url);\n    }\n\n    for (var i = 0; i < css_urls.length; i++) {\n      var url = css_urls[i];\n      const element = document.createElement(\"link\");\n      element.onload = on_load;\n      element.onerror = on_error;\n      element.rel = \"stylesheet\";\n      element.type = \"text/css\";\n      element.href = url;\n      console.debug(\"Bokeh: injecting link tag for BokehJS stylesheet: \", url);\n      document.body.appendChild(element);\n    }\n\n    const hashes = {\"https://cdn.bokeh.org/bokeh/release/bokeh-2.1.1.min.js\": \"kLr4fYcqcSpbuI95brIH3vnnYCquzzSxHPU6XGQCIkQRGJwhg0StNbj1eegrHs12\", \"https://cdn.bokeh.org/bokeh/release/bokeh-widgets-2.1.1.min.js\": \"xIGPmVtaOm+z0BqfSOMn4lOR6ciex448GIKG4eE61LsAvmGj48XcMQZtKcE/UXZe\", \"https://cdn.bokeh.org/bokeh/release/bokeh-tables-2.1.1.min.js\": \"Dc9u1wF/0zApGIWoBbH77iWEHtdmkuYWG839Uzmv8y8yBLXebjO9ZnERsde5Ln/P\", \"https://cdn.bokeh.org/bokeh/release/bokeh-gl-2.1.1.min.js\": \"cT9JaBz7GiRXdENrJLZNSC6eMNF3nh3fa5fTF51Svp+ukxPdwcU5kGXGPBgDCa2j\"};\n\n    for (var i = 0; i < js_urls.length; i++) {\n      var url = js_urls[i];\n      var element = document.createElement('script');\n      element.onload = on_load;\n      element.onerror = on_error;\n      element.async = false;\n      element.src = url;\n      if (url in hashes) {\n        element.crossOrigin = \"anonymous\";\n        element.integrity = \"sha384-\" + hashes[url];\n      }\n      console.debug(\"Bokeh: injecting script tag for BokehJS library: \", url);\n      document.head.appendChild(element);\n    }\n  };\n\n  function inject_raw_css(css) {\n    const element = document.createElement(\"style\");\n    element.appendChild(document.createTextNode(css));\n    document.body.appendChild(element);\n  }\n\n  \n  var js_urls = [\"https://cdn.bokeh.org/bokeh/release/bokeh-2.1.1.min.js\", \"https://cdn.bokeh.org/bokeh/release/bokeh-widgets-2.1.1.min.js\", \"https://cdn.bokeh.org/bokeh/release/bokeh-tables-2.1.1.min.js\", \"https://cdn.bokeh.org/bokeh/release/bokeh-gl-2.1.1.min.js\"];\n  var css_urls = [];\n  \n\n  var inline_js = [\n    function(Bokeh) {\n      Bokeh.set_log_level(\"info\");\n    },\n    function(Bokeh) {\n    \n    \n    }\n  ];\n\n  function run_inline_js() {\n    \n    if (root.Bokeh !== undefined || force === true) {\n      \n    for (var i = 0; i < inline_js.length; i++) {\n      inline_js[i].call(root, root.Bokeh);\n    }\n    if (force === true) {\n        display_loaded();\n      }} else if (Date.now() < root._bokeh_timeout) {\n      setTimeout(run_inline_js, 100);\n    } else if (!root._bokeh_failed_load) {\n      console.log(\"Bokeh: BokehJS failed to load within specified timeout.\");\n      root._bokeh_failed_load = true;\n    } else if (force !== true) {\n      var cell = $(document.getElementById(\"1001\")).parents('.cell').data().cell;\n      cell.output_area.append_execute_result(NB_LOAD_WARNING)\n    }\n\n  }\n\n  if (root._bokeh_is_loading === 0) {\n    console.debug(\"Bokeh: BokehJS loaded, going straight to plotting\");\n    run_inline_js();\n  } else {\n    load_libs(css_urls, js_urls, function() {\n      console.debug(\"Bokeh: BokehJS plotting callback run at\", now());\n      run_inline_js();\n    });\n  }\n}(window));"
     },
     "metadata": {},
     "output_type": "display_data"
    }
   ],
   "source": [
    "from bokeh.io import output_notebook\n",
    "\n",
    "output_notebook()"
   ]
  },
  {
   "cell_type": "code",
   "execution_count": 4,
   "metadata": {},
   "outputs": [],
   "source": [
    "from herc_common import BokehHistogram\n",
    "\n",
    "hist = BokehHistogram(color_fill=\"mediumslateblue\", color_hover=\"slateblue\", bins=25)"
   ]
  },
  {
   "cell_type": "markdown",
   "metadata": {},
   "source": [
    "## Getting the repository URLs"
   ]
  },
  {
   "cell_type": "markdown",
   "metadata": {},
   "source": [
    "The URL for every repository of the Git dataset is stored in the '_data/repo\\_urls.txt_' file. First of all, we will be loading all the urls from that file into a list:"
   ]
  },
  {
   "cell_type": "code",
   "execution_count": 5,
   "metadata": {},
   "outputs": [
    {
     "data": {
      "text/plain": [
       "50"
      ]
     },
     "execution_count": 5,
     "metadata": {},
     "output_type": "execute_result"
    }
   ],
   "source": [
    "REPO_URLS_FILE = 'repo_urls.txt'\n",
    "\n",
    "with open(os.path.join(DATA_DIR, REPO_URLS_FILE), 'r') as f:\n",
    "    repo_urls = [line.rstrip('\\n') for line in f]\n",
    "\n",
    "len(repo_urls)"
   ]
  },
  {
   "cell_type": "code",
   "execution_count": 6,
   "metadata": {},
   "outputs": [
    {
     "data": {
      "text/plain": [
       "'https://github.com/cmungall/LIRICAL/'"
      ]
     },
     "execution_count": 6,
     "metadata": {},
     "output_type": "execute_result"
    }
   ],
   "source": [
    "repo_urls[0]"
   ]
  },
  {
   "cell_type": "markdown",
   "metadata": {},
   "source": [
    "## Parsing the data"
   ]
  },
  {
   "cell_type": "markdown",
   "metadata": {},
   "source": [
    "Now that the URLs of every repository have been saved, we can start calling the [GitHub API](https://developer.github.com/v3/) to obtain information about each repo. Since the API has a limit of 50 requests per hour for non-authorized requests, and we will be making about 200 requests to fetch all the information, we will need to make use of a personal token to make calls to the API. More information about what a personal token is, and how to create one, can be accessed through the [following link](https://help.github.com/en/github/authenticating-to-github/creating-a-personal-access-token). In the next cell we will be asking for the token:"
   ]
  },
  {
   "cell_type": "code",
   "execution_count": 7,
   "metadata": {},
   "outputs": [],
   "source": [
    "import getpass\n",
    "\n",
    "\n",
    "try:\n",
    "    from secret import GITHUB_TOKEN\n",
    "except ModuleNotFoundError:\n",
    "    GITHUB_TOKEN = getpass.getpass(\"Introduce your personal access token to acces the GitHub API: \")\n"
   ]
  },
  {
   "cell_type": "markdown",
   "metadata": {},
   "source": [
    "We will now import a series of classes and functions that will be used to fetch information about a given repo and convert it to an instance of the _GitHubRepoData_ class. More information about these functions and classes can be accessed at the _src_ package:"
   ]
  },
  {
   "cell_type": "code",
   "execution_count": 8,
   "metadata": {},
   "outputs": [],
   "source": [
    "from src import GitHubIssue, GitHubRepoData, parse_repo_url"
   ]
  },
  {
   "cell_type": "markdown",
   "metadata": {},
   "source": [
    "Finally, we will be creating a list of GitHubRepoData instances with information about every repository from the dataset:"
   ]
  },
  {
   "cell_type": "code",
   "execution_count": 9,
   "metadata": {},
   "outputs": [
    {
     "name": "stderr",
     "output_type": "stream",
     "text": [
      "Processing repository: https://github.com/mikel-egana-aranguren/FAIRifier:   8%|▊         | 4/50 [00:37<07:58, 10.39s/it]    "
     ]
    },
    {
     "name": "stdout",
     "output_type": "stream",
     "text": [
      "mikel-egana-aranguren-FAIRifier-d69d6a4/extensions/fairifier-rdf-extension/scripts/externals/angular.min.js\n"
     ]
    },
    {
     "name": "stderr",
     "output_type": "stream",
     "text": [
      "Processing repository: https://github.com/mikel-egana-aranguren/elda:  10%|█         | 5/50 [02:07<25:41, 34.25s/it]     "
     ]
    },
    {
     "name": "stdout",
     "output_type": "stream",
     "text": [
      "mikel-egana-aranguren-elda-e9bd9d3/elda-assets/src/main/webapp/openlayers/proj4js-combined.js\n",
      "mikel-egana-aranguren-elda-e9bd9d3/elda-assets/src/main/webapp/velocity/js/vendor/proj4js-combined.js\n"
     ]
    },
    {
     "name": "stderr",
     "output_type": "stream",
     "text": [
      "Processing repository: https://github.com/pjotrp/genenetwork2:  34%|███▍      | 17/50 [05:38<06:46, 12.31s/it]                            "
     ]
    },
    {
     "name": "stdout",
     "output_type": "stream",
     "text": [
      "pjotrp-genenetwork2-86d885f/wqflask/wqflask/static/new/javascript/box.js\n"
     ]
    },
    {
     "name": "stderr",
     "output_type": "stream",
     "text": [
      "Processing repository: https://github.com/pauldevos/Basketball_Analytics: 100%|██████████| 50/50 [24:11<00:00, 29.03s/it]               \n"
     ]
    }
   ],
   "source": [
    "from tqdm import tqdm\n",
    "\n",
    "git_dataset = []\n",
    "pbar = tqdm(repo_urls)\n",
    "for url in pbar:\n",
    "    pbar.set_description(f\"Processing repository: {url}\")\n",
    "    git_dataset.append(parse_repo_url(url, GITHUB_TOKEN))\n"
   ]
  },
  {
   "cell_type": "markdown",
   "metadata": {},
   "source": [
    "## Creating a dataframe"
   ]
  },
  {
   "cell_type": "markdown",
   "metadata": {},
   "source": [
    "The instances created before provide a _to\\_dict_ method that can be used to convert the class to a Python dict. This dict can be used to easily create a pandas DataFrame. This DataFrame will be used from now on to explore and interact with the dataset:"
   ]
  },
  {
   "cell_type": "code",
   "execution_count": 15,
   "metadata": {},
   "outputs": [
    {
     "data": {
      "text/html": [
       "<div>\n",
       "<style scoped>\n",
       "    .dataframe tbody tr th:only-of-type {\n",
       "        vertical-align: middle;\n",
       "    }\n",
       "\n",
       "    .dataframe tbody tr th {\n",
       "        vertical-align: top;\n",
       "    }\n",
       "\n",
       "    .dataframe thead th {\n",
       "        text-align: right;\n",
       "    }\n",
       "</style>\n",
       "<table border=\"1\" class=\"dataframe\">\n",
       "  <thead>\n",
       "    <tr style=\"text-align: right;\">\n",
       "      <th></th>\n",
       "      <th>gh_id</th>\n",
       "      <th>name</th>\n",
       "      <th>description</th>\n",
       "      <th>owner_name</th>\n",
       "      <th>languages</th>\n",
       "      <th>readme_text</th>\n",
       "      <th>issues_text</th>\n",
       "      <th>commits_text</th>\n",
       "      <th>comments_text</th>\n",
       "    </tr>\n",
       "  </thead>\n",
       "  <tbody>\n",
       "    <tr>\n",
       "      <th>0</th>\n",
       "      <td>216602979</td>\n",
       "      <td>LIRICAL</td>\n",
       "      <td>LIkelihood Ratio Interpretation of Clinical Ab...</td>\n",
       "      <td>cmungall</td>\n",
       "      <td>{'Java': 492423, 'FreeMarker': 13149, 'Python'...</td>\n",
       "      <td>LIRICAL\\n\\nLIkelihood Ratio Interpretation of ...</td>\n",
       "      <td></td>\n",
       "      <td>Merge pull request #442 from TheJacksonLaborat...</td>\n",
       "      <td>note that the Jannovar dependency does not...</td>\n",
       "    </tr>\n",
       "    <tr>\n",
       "      <th>1</th>\n",
       "      <td>199330464</td>\n",
       "      <td>wikidata_ontomatcher</td>\n",
       "      <td>Matches ontology classes against wikidata</td>\n",
       "      <td>cmungall</td>\n",
       "      <td>{'Prolog': 14691, 'Makefile': 1472, 'Dockerfil...</td>\n",
       "      <td>Match an ontology to Wikidata\\nThis applicatio...</td>\n",
       "      <td>Will help with #1 and with https://github.com/...</td>\n",
       "      <td>Adding skos:altLabel\\n\\nhttps://github.com/cmu...</td>\n",
       "      <td></td>\n",
       "    </tr>\n",
       "    <tr>\n",
       "      <th>2</th>\n",
       "      <td>253207181</td>\n",
       "      <td>ro-crate-ruby</td>\n",
       "      <td>A Ruby gem for creating, manipulating and read...</td>\n",
       "      <td>markwilkinson</td>\n",
       "      <td>{'Ruby': 52724, 'HTML': 1319}</td>\n",
       "      <td>ro-crate-ruby\\nThis is a WIP gem for creating,...</td>\n",
       "      <td></td>\n",
       "      <td>Update LICENSE\\nBump version\\nTidy up and chec...</td>\n",
       "      <td>*\\n * Expands the tree to the target element a...</td>\n",
       "    </tr>\n",
       "    <tr>\n",
       "      <th>3</th>\n",
       "      <td>212556220</td>\n",
       "      <td>Misc_Training_scripts</td>\n",
       "      <td>A place for me to keep various miscellanelous ...</td>\n",
       "      <td>markwilkinson</td>\n",
       "      <td>{'Shell': 15815, 'Ruby': 9445}</td>\n",
       "      <td>Misc_Training_scripts\\nA place for me to keep ...</td>\n",
       "      <td></td>\n",
       "      <td>added new cool 3-federated query\\nfinished edi...</td>\n",
       "      <td></td>\n",
       "    </tr>\n",
       "    <tr>\n",
       "      <th>4</th>\n",
       "      <td>155879756</td>\n",
       "      <td>FAIRifier</td>\n",
       "      <td>A tool to make data FAIR</td>\n",
       "      <td>mikel-egana-aranguren</td>\n",
       "      <td>{'Java': 3514431, 'JavaScript': 967765, 'HTML'...</td>\n",
       "      <td>Dependencies:\\n\\nJava 8\\nApache Ant\\n\\nBuildin...</td>\n",
       "      <td></td>\n",
       "      <td>Merge pull request #16 from Shamanou/developme...</td>\n",
       "      <td>*\\n * This class contains all the code shared ...</td>\n",
       "    </tr>\n",
       "  </tbody>\n",
       "</table>\n",
       "</div>"
      ],
      "text/plain": [
       "       gh_id                   name  \\\n",
       "0  216602979                LIRICAL   \n",
       "1  199330464   wikidata_ontomatcher   \n",
       "2  253207181          ro-crate-ruby   \n",
       "3  212556220  Misc_Training_scripts   \n",
       "4  155879756              FAIRifier   \n",
       "\n",
       "                                         description             owner_name  \\\n",
       "0  LIkelihood Ratio Interpretation of Clinical Ab...               cmungall   \n",
       "1          Matches ontology classes against wikidata               cmungall   \n",
       "2  A Ruby gem for creating, manipulating and read...          markwilkinson   \n",
       "3  A place for me to keep various miscellanelous ...          markwilkinson   \n",
       "4                           A tool to make data FAIR  mikel-egana-aranguren   \n",
       "\n",
       "                                           languages  \\\n",
       "0  {'Java': 492423, 'FreeMarker': 13149, 'Python'...   \n",
       "1  {'Prolog': 14691, 'Makefile': 1472, 'Dockerfil...   \n",
       "2                      {'Ruby': 52724, 'HTML': 1319}   \n",
       "3                     {'Shell': 15815, 'Ruby': 9445}   \n",
       "4  {'Java': 3514431, 'JavaScript': 967765, 'HTML'...   \n",
       "\n",
       "                                         readme_text  \\\n",
       "0  LIRICAL\\n\\nLIkelihood Ratio Interpretation of ...   \n",
       "1  Match an ontology to Wikidata\\nThis applicatio...   \n",
       "2  ro-crate-ruby\\nThis is a WIP gem for creating,...   \n",
       "3  Misc_Training_scripts\\nA place for me to keep ...   \n",
       "4  Dependencies:\\n\\nJava 8\\nApache Ant\\n\\nBuildin...   \n",
       "\n",
       "                                         issues_text  \\\n",
       "0                                                      \n",
       "1  Will help with #1 and with https://github.com/...   \n",
       "2                                                      \n",
       "3                                                      \n",
       "4                                                      \n",
       "\n",
       "                                        commits_text  \\\n",
       "0  Merge pull request #442 from TheJacksonLaborat...   \n",
       "1  Adding skos:altLabel\\n\\nhttps://github.com/cmu...   \n",
       "2  Update LICENSE\\nBump version\\nTidy up and chec...   \n",
       "3  added new cool 3-federated query\\nfinished edi...   \n",
       "4  Merge pull request #16 from Shamanou/developme...   \n",
       "\n",
       "                                       comments_text  \n",
       "0      note that the Jannovar dependency does not...  \n",
       "1                                                     \n",
       "2  *\\n * Expands the tree to the target element a...  \n",
       "3                                                     \n",
       "4  *\\n * This class contains all the code shared ...  "
      ]
     },
     "execution_count": 15,
     "metadata": {},
     "output_type": "execute_result"
    }
   ],
   "source": [
    "import pandas as pd\n",
    "\n",
    "df = pd.DataFrame([repo.to_dict() for repo in git_dataset])\n",
    "df.head()"
   ]
  },
  {
   "cell_type": "markdown",
   "metadata": {},
   "source": [
    "## Data cleaning and feature engineering"
   ]
  },
  {
   "cell_type": "markdown",
   "metadata": {},
   "source": [
    "First of all, we will be taking an initial look to the values from the dataset:"
   ]
  },
  {
   "cell_type": "code",
   "execution_count": 16,
   "metadata": {},
   "outputs": [
    {
     "data": {
      "text/html": [
       "<div>\n",
       "<style scoped>\n",
       "    .dataframe tbody tr th:only-of-type {\n",
       "        vertical-align: middle;\n",
       "    }\n",
       "\n",
       "    .dataframe tbody tr th {\n",
       "        vertical-align: top;\n",
       "    }\n",
       "\n",
       "    .dataframe thead th {\n",
       "        text-align: right;\n",
       "    }\n",
       "</style>\n",
       "<table border=\"1\" class=\"dataframe\">\n",
       "  <thead>\n",
       "    <tr style=\"text-align: right;\">\n",
       "      <th></th>\n",
       "      <th>name</th>\n",
       "      <th>description</th>\n",
       "      <th>owner_name</th>\n",
       "      <th>languages</th>\n",
       "      <th>readme_text</th>\n",
       "      <th>issues_text</th>\n",
       "      <th>commits_text</th>\n",
       "      <th>comments_text</th>\n",
       "    </tr>\n",
       "  </thead>\n",
       "  <tbody>\n",
       "    <tr>\n",
       "      <th>count</th>\n",
       "      <td>50</td>\n",
       "      <td>43</td>\n",
       "      <td>50</td>\n",
       "      <td>50</td>\n",
       "      <td>50</td>\n",
       "      <td>50</td>\n",
       "      <td>50</td>\n",
       "      <td>50</td>\n",
       "    </tr>\n",
       "    <tr>\n",
       "      <th>unique</th>\n",
       "      <td>50</td>\n",
       "      <td>43</td>\n",
       "      <td>27</td>\n",
       "      <td>50</td>\n",
       "      <td>49</td>\n",
       "      <td>6</td>\n",
       "      <td>50</td>\n",
       "      <td>30</td>\n",
       "    </tr>\n",
       "    <tr>\n",
       "      <th>top</th>\n",
       "      <td>FAIRifier</td>\n",
       "      <td>A Deep Learning Case Study to Generate Music S...</td>\n",
       "      <td>mbdebian</td>\n",
       "      <td>{'C#': 15985, 'CSS': 649, 'JavaScript': 34}</td>\n",
       "      <td></td>\n",
       "      <td></td>\n",
       "      <td>chore: a remark on how to use a non-empty tbox...</td>\n",
       "      <td></td>\n",
       "    </tr>\n",
       "    <tr>\n",
       "      <th>freq</th>\n",
       "      <td>1</td>\n",
       "      <td>1</td>\n",
       "      <td>2</td>\n",
       "      <td>1</td>\n",
       "      <td>2</td>\n",
       "      <td>45</td>\n",
       "      <td>1</td>\n",
       "      <td>21</td>\n",
       "    </tr>\n",
       "  </tbody>\n",
       "</table>\n",
       "</div>"
      ],
      "text/plain": [
       "             name                                        description  \\\n",
       "count          50                                                 43   \n",
       "unique         50                                                 43   \n",
       "top     FAIRifier  A Deep Learning Case Study to Generate Music S...   \n",
       "freq            1                                                  1   \n",
       "\n",
       "       owner_name                                    languages readme_text  \\\n",
       "count          50                                           50          50   \n",
       "unique         27                                           50          49   \n",
       "top      mbdebian  {'C#': 15985, 'CSS': 649, 'JavaScript': 34}               \n",
       "freq            2                                            1           2   \n",
       "\n",
       "       issues_text                                       commits_text  \\\n",
       "count           50                                                 50   \n",
       "unique           6                                                 50   \n",
       "top                 chore: a remark on how to use a non-empty tbox...   \n",
       "freq            45                                                  1   \n",
       "\n",
       "       comments_text  \n",
       "count             50  \n",
       "unique            30  \n",
       "top                   \n",
       "freq              21  "
      ]
     },
     "execution_count": 16,
     "metadata": {},
     "output_type": "execute_result"
    }
   ],
   "source": [
    "df.loc[:, df.columns != 'gh_id'].describe()"
   ]
  },
  {
   "cell_type": "markdown",
   "metadata": {},
   "source": [
    "As we can see above, altough all the repository names are unique, the other columns have some repeated values. Those repeated values could be empty or null values, so we are going to check if that is the case:"
   ]
  },
  {
   "cell_type": "code",
   "execution_count": 17,
   "metadata": {},
   "outputs": [
    {
     "data": {
      "text/html": [
       "<div>\n",
       "<style scoped>\n",
       "    .dataframe tbody tr th:only-of-type {\n",
       "        vertical-align: middle;\n",
       "    }\n",
       "\n",
       "    .dataframe tbody tr th {\n",
       "        vertical-align: top;\n",
       "    }\n",
       "\n",
       "    .dataframe thead th {\n",
       "        text-align: right;\n",
       "    }\n",
       "</style>\n",
       "<table border=\"1\" class=\"dataframe\">\n",
       "  <thead>\n",
       "    <tr style=\"text-align: right;\">\n",
       "      <th></th>\n",
       "      <th>gh_id</th>\n",
       "      <th>name</th>\n",
       "      <th>description</th>\n",
       "      <th>owner_name</th>\n",
       "      <th>languages</th>\n",
       "      <th>readme_text</th>\n",
       "      <th>issues_text</th>\n",
       "      <th>commits_text</th>\n",
       "      <th>comments_text</th>\n",
       "    </tr>\n",
       "  </thead>\n",
       "  <tbody>\n",
       "    <tr>\n",
       "      <th>11</th>\n",
       "      <td>57412597</td>\n",
       "      <td>hemodonacion</td>\n",
       "      <td>None</td>\n",
       "      <td>fanavarro</td>\n",
       "      <td>{'Perl': 97370, 'R': 36211}</td>\n",
       "      <td>Lost in Translation\\nStructure\\nThis repositor...</td>\n",
       "      <td></td>\n",
       "      <td>delete files\\nnew execution\\nReadme updated\\nr...</td>\n",
       "      <td></td>\n",
       "    </tr>\n",
       "    <tr>\n",
       "      <th>23</th>\n",
       "      <td>161862375</td>\n",
       "      <td>biohack18</td>\n",
       "      <td>None</td>\n",
       "      <td>leechuck</td>\n",
       "      <td>{'Groovy': 14573}</td>\n",
       "      <td>biohack18</td>\n",
       "      <td></td>\n",
       "      <td>initial commit\\nInitial commit</td>\n",
       "      <td></td>\n",
       "    </tr>\n",
       "    <tr>\n",
       "      <th>24</th>\n",
       "      <td>171842501</td>\n",
       "      <td>biosample_jsonld</td>\n",
       "      <td>None</td>\n",
       "      <td>inutano</td>\n",
       "      <td>{'Ruby': 9183, 'Shell': 3171, 'Dockerfile': 226}</td>\n",
       "      <td>BioSample records in JSON-LD\\nBioSample is a d...</td>\n",
       "      <td></td>\n",
       "      <td>mkdir\\nremove postgres lib\\nremove comment whi...</td>\n",
       "      <td></td>\n",
       "    </tr>\n",
       "    <tr>\n",
       "      <th>29</th>\n",
       "      <td>151696606</td>\n",
       "      <td>JavaTermiteStarter</td>\n",
       "      <td>None</td>\n",
       "      <td>SciBiteLabs</td>\n",
       "      <td>{'Java': 16959}</td>\n",
       "      <td>JavaTermiteStarter\\nSet of basic code to get y...</td>\n",
       "      <td></td>\n",
       "      <td>Create README.md\\nRefactoring\\nRefactoring\\nMe...</td>\n",
       "      <td>*\\n * This class was created by simon on 03/09...</td>\n",
       "    </tr>\n",
       "    <tr>\n",
       "      <th>39</th>\n",
       "      <td>42526998</td>\n",
       "      <td>pythonontologysearch</td>\n",
       "      <td>None</td>\n",
       "      <td>jamesmalone</td>\n",
       "      <td>{'JavaScript': 194124, 'Python': 5748, 'HTML':...</td>\n",
       "      <td></td>\n",
       "      <td></td>\n",
       "      <td>remove test message\\nChange call to ontology_i...</td>\n",
       "      <td>****\\n****\\n****\\n****\\n****\\n****\\n****\\n****...</td>\n",
       "    </tr>\n",
       "    <tr>\n",
       "      <th>40</th>\n",
       "      <td>238953196</td>\n",
       "      <td>my-react-form</td>\n",
       "      <td>None</td>\n",
       "      <td>twhetzel</td>\n",
       "      <td>{'JavaScript': 35896, 'CSS': 6855, 'HTML': 1271}</td>\n",
       "      <td>React Form Demos\\nDescription\\nDemo project to...</td>\n",
       "      <td></td>\n",
       "      <td>remove file App.css\\nadd more example forms\\na...</td>\n",
       "      <td>\\n      manifest.json provides metadata used w...</td>\n",
       "    </tr>\n",
       "    <tr>\n",
       "      <th>41</th>\n",
       "      <td>157134523</td>\n",
       "      <td>python-ecology-lesson-es-1</td>\n",
       "      <td>None</td>\n",
       "      <td>agbeltran</td>\n",
       "      <td>{'Jupyter Notebook': 4579723, 'HTML': 60649, '...</td>\n",
       "      <td>Canal de Slack en español\\nLección de Data Car...</td>\n",
       "      <td></td>\n",
       "      <td>Update fechas-progreso.md\\nMerge pull request ...</td>\n",
       "      <td>\\n  &lt;div class=\"col-md-6\"&gt;\\n    &lt;h3 id=\"syllab...</td>\n",
       "    </tr>\n",
       "  </tbody>\n",
       "</table>\n",
       "</div>"
      ],
      "text/plain": [
       "        gh_id                        name description   owner_name  \\\n",
       "11   57412597                hemodonacion        None    fanavarro   \n",
       "23  161862375                   biohack18        None     leechuck   \n",
       "24  171842501            biosample_jsonld        None      inutano   \n",
       "29  151696606          JavaTermiteStarter        None  SciBiteLabs   \n",
       "39   42526998        pythonontologysearch        None  jamesmalone   \n",
       "40  238953196               my-react-form        None     twhetzel   \n",
       "41  157134523  python-ecology-lesson-es-1        None    agbeltran   \n",
       "\n",
       "                                            languages  \\\n",
       "11                        {'Perl': 97370, 'R': 36211}   \n",
       "23                                  {'Groovy': 14573}   \n",
       "24   {'Ruby': 9183, 'Shell': 3171, 'Dockerfile': 226}   \n",
       "29                                    {'Java': 16959}   \n",
       "39  {'JavaScript': 194124, 'Python': 5748, 'HTML':...   \n",
       "40   {'JavaScript': 35896, 'CSS': 6855, 'HTML': 1271}   \n",
       "41  {'Jupyter Notebook': 4579723, 'HTML': 60649, '...   \n",
       "\n",
       "                                          readme_text issues_text  \\\n",
       "11  Lost in Translation\\nStructure\\nThis repositor...               \n",
       "23                                          biohack18               \n",
       "24  BioSample records in JSON-LD\\nBioSample is a d...               \n",
       "29  JavaTermiteStarter\\nSet of basic code to get y...               \n",
       "39                                                                  \n",
       "40  React Form Demos\\nDescription\\nDemo project to...               \n",
       "41  Canal de Slack en español\\nLección de Data Car...               \n",
       "\n",
       "                                         commits_text  \\\n",
       "11  delete files\\nnew execution\\nReadme updated\\nr...   \n",
       "23                     initial commit\\nInitial commit   \n",
       "24  mkdir\\nremove postgres lib\\nremove comment whi...   \n",
       "29  Create README.md\\nRefactoring\\nRefactoring\\nMe...   \n",
       "39  remove test message\\nChange call to ontology_i...   \n",
       "40  remove file App.css\\nadd more example forms\\na...   \n",
       "41  Update fechas-progreso.md\\nMerge pull request ...   \n",
       "\n",
       "                                        comments_text  \n",
       "11                                                     \n",
       "23                                                     \n",
       "24                                                     \n",
       "29  *\\n * This class was created by simon on 03/09...  \n",
       "39  ****\\n****\\n****\\n****\\n****\\n****\\n****\\n****...  \n",
       "40  \\n      manifest.json provides metadata used w...  \n",
       "41  \\n  <div class=\"col-md-6\">\\n    <h3 id=\"syllab...  "
      ]
     },
     "execution_count": 17,
     "metadata": {},
     "output_type": "execute_result"
    }
   ],
   "source": [
    "df[df.isnull().any(axis=1)]"
   ]
  },
  {
   "cell_type": "markdown",
   "metadata": {},
   "source": [
    "We can see from the output above that there are 7 repositories which do not have a description. We are going to replace those null values by an empty string:"
   ]
  },
  {
   "cell_type": "code",
   "execution_count": 18,
   "metadata": {},
   "outputs": [],
   "source": [
    "df.fillna(value=\"\", inplace=True)"
   ]
  },
  {
   "cell_type": "markdown",
   "metadata": {},
   "source": [
    "Now, we are going to see know how many columns have an empty value:"
   ]
  },
  {
   "cell_type": "code",
   "execution_count": 19,
   "metadata": {},
   "outputs": [
    {
     "name": "stdout",
     "output_type": "stream",
     "text": [
      "gh_id\n",
      "-----\n",
      "0 articles have no value for column gh_id\n",
      "Int64Index([], dtype='int64')\n",
      "\n",
      "\n",
      "name\n",
      "----\n",
      "0 articles have no value for column name\n",
      "Int64Index([], dtype='int64')\n",
      "\n",
      "\n",
      "description\n",
      "-----------\n",
      "7 articles have no value for column description\n",
      "Int64Index([11, 23, 24, 29, 39, 40, 41], dtype='int64')\n",
      "\n",
      "\n",
      "owner_name\n",
      "----------\n",
      "0 articles have no value for column owner_name\n",
      "Int64Index([], dtype='int64')\n",
      "\n",
      "\n",
      "languages\n",
      "---------\n",
      "0 articles have no value for column languages\n",
      "Int64Index([], dtype='int64')\n",
      "\n",
      "\n",
      "readme_text\n",
      "-----------\n",
      "2 articles have no value for column readme_text\n",
      "Int64Index([8, 39], dtype='int64')\n",
      "\n",
      "\n",
      "issues_text\n",
      "-----------\n",
      "45 articles have no value for column issues_text\n",
      "Int64Index([ 0,  2,  3,  4,  5,  6,  8, 10, 11, 12, 14, 15, 16, 17, 18, 19, 20,\n",
      "            21, 22, 23, 24, 25, 26, 27, 29, 30, 31, 32, 33, 34, 35, 36, 37, 38,\n",
      "            39, 40, 41, 42, 43, 44, 45, 46, 47, 48, 49],\n",
      "           dtype='int64')\n",
      "\n",
      "\n",
      "commits_text\n",
      "------------\n",
      "0 articles have no value for column commits_text\n",
      "Int64Index([], dtype='int64')\n",
      "\n",
      "\n",
      "comments_text\n",
      "-------------\n",
      "21 articles have no value for column comments_text\n",
      "Int64Index([1, 3, 6, 7, 9, 10, 11, 13, 20, 22, 23, 24, 25, 28, 31, 33, 34, 36,\n",
      "            47, 48, 49],\n",
      "           dtype='int64')\n",
      "\n",
      "\n"
     ]
    },
    {
     "name": "stderr",
     "output_type": "stream",
     "text": [
      "/home/alejandro/.envs/edma/lib/python3.7/site-packages/pandas/core/ops/array_ops.py:253: FutureWarning: elementwise comparison failed; returning scalar instead, but in the future will perform elementwise comparison\n",
      "  res_values = method(rvalues)\n"
     ]
    }
   ],
   "source": [
    "print_empty_cols(df)"
   ]
  },
  {
   "cell_type": "markdown",
   "metadata": {},
   "source": [
    "Most of the repositories (45 out of 50) don't have any issues, and 3 of them don't have a readme.\n",
    "\n",
    "Finally, we are going to join both the description and the readme of each repository into a new column, and remove all extra spaces from that column:"
   ]
  },
  {
   "cell_type": "code",
   "execution_count": 20,
   "metadata": {},
   "outputs": [
    {
     "data": {
      "text/plain": [
       "'LIkelihood Ratio Interpretation of Clinical AbnormaLities. LIRICAL LIkelihood Ratio Interpretation of Clinical AbnormaLities LIRICAL is designed to provide clincially interpretable computational analysis of phenotypic abnormalities (encoded using the Human Phenotype Ontology), optionally combined with an analysis of variants and genotypes if a VCF file is provided with the results of diagnostic gene panel, exome, or genome sequencing. Detailed documentation is available This is a useful website '"
      ]
     },
     "execution_count": 20,
     "metadata": {},
     "output_type": "execute_result"
    }
   ],
   "source": [
    "import re\n",
    "\n",
    "def clean(text):\n",
    "    return re.sub('\\s+', ' ', text).strip()\n",
    "\n",
    "df['full_text'] = df[\"description\"] + \". \" + df[\"readme_text\"]\n",
    "            #\". \" + df[\"comments_text\"] + \\\n",
    "            #\". \" + df[\"commits_text\"]\n",
    "empty_idx = df[df['full_text'] == '. '].index\n",
    "df.loc[empty_idx, 'full_text'] = df.loc[empty_idx, 'commits_text']\n",
    "df['full_text_cleaned'] = df['full_text'].apply(lambda x: clean(x))\n",
    "df['full_text_cleaned'].loc[0][:500]"
   ]
  },
  {
   "cell_type": "markdown",
   "metadata": {},
   "source": [
    "## Initial exploration"
   ]
  },
  {
   "cell_type": "markdown",
   "metadata": {},
   "source": [
    "To finish with the contents of this notebook, we will make an initial exploration of the dataset."
   ]
  },
  {
   "cell_type": "markdown",
   "metadata": {},
   "source": [
    "### Text length"
   ]
  },
  {
   "cell_type": "markdown",
   "metadata": {},
   "source": [
    "We are going to add a new column to the DataFrame with the length in number of characters of each repo's full text:"
   ]
  },
  {
   "cell_type": "code",
   "execution_count": 21,
   "metadata": {},
   "outputs": [
    {
     "data": {
      "text/plain": [
       "count       50.000000\n",
       "mean      2490.040000\n",
       "std       3423.445233\n",
       "min         11.000000\n",
       "25%        374.000000\n",
       "50%       1770.500000\n",
       "75%       3026.750000\n",
       "max      20382.000000\n",
       "Name: num_chars_text, dtype: float64"
      ]
     },
     "execution_count": 21,
     "metadata": {},
     "output_type": "execute_result"
    }
   ],
   "source": [
    "df['num_chars_text'] = df['full_text_cleaned'].apply(lambda x: len(x))\n",
    "df['num_chars_text'].describe()"
   ]
  },
  {
   "cell_type": "markdown",
   "metadata": {},
   "source": [
    "We can see that the average number of characters in the readme + description is about 2471, and the maximum length is 20382 characters. However, 75% of the repositories have a number of characters lower than 3027.\n",
    "\n",
    "We are going to plot this distribution and save it to disk:"
   ]
  },
  {
   "cell_type": "code",
   "execution_count": 22,
   "metadata": {},
   "outputs": [
    {
     "data": {
      "text/html": [
       "\n",
       "\n",
       "\n",
       "\n",
       "\n",
       "\n",
       "  <div class=\"bk-root\" id=\"a82c1060-87c4-4e04-a079-5a188b5c470d\" data-root-id=\"1002\"></div>\n"
      ]
     },
     "metadata": {},
     "output_type": "display_data"
    },
    {
     "data": {
      "application/javascript": [
       "(function(root) {\n",
       "  function embed_document(root) {\n",
       "    \n",
       "  var docs_json = {\"82ea5e2a-e5f8-4235-95cd-f636c36c0457\":{\"roots\":{\"references\":[{\"attributes\":{\"below\":[{\"id\":\"1013\"}],\"center\":[{\"id\":\"1016\"},{\"id\":\"1020\"}],\"left\":[{\"id\":\"1017\"}],\"renderers\":[{\"id\":\"1040\"}],\"title\":{\"id\":\"1003\"},\"toolbar\":{\"id\":\"1028\"},\"x_range\":{\"id\":\"1005\"},\"x_scale\":{\"id\":\"1009\"},\"y_range\":{\"id\":\"1007\"},\"y_scale\":{\"id\":\"1011\"}},\"id\":\"1002\",\"subtype\":\"Figure\",\"type\":\"Plot\"},{\"attributes\":{\"bottom\":{\"value\":0},\"fill_alpha\":{\"value\":0.1},\"fill_color\":{\"value\":\"mediumslateblue\"},\"left\":{\"field\":\"left\"},\"line_alpha\":{\"value\":0.1},\"right\":{\"field\":\"right\"},\"top\":{\"field\":\"num_chars_text\"}},\"id\":\"1038\",\"type\":\"Quad\"},{\"attributes\":{},\"id\":\"1021\",\"type\":\"PanTool\"},{\"attributes\":{\"callback\":null,\"tooltips\":[[\"Interval\",\"@interval\"],[\"Count\",\"@num_chars_text\"]]},\"id\":\"1042\",\"type\":\"HoverTool\"},{\"attributes\":{},\"id\":\"1005\",\"type\":\"DataRange1d\"},{\"attributes\":{},\"id\":\"1007\",\"type\":\"DataRange1d\"},{\"attributes\":{},\"id\":\"1018\",\"type\":\"BasicTicker\"},{\"attributes\":{\"axis_label\":\"Readme and description length (# of characters)\",\"formatter\":{\"id\":\"1046\"},\"ticker\":{\"id\":\"1014\"}},\"id\":\"1013\",\"type\":\"LinearAxis\"},{\"attributes\":{\"overlay\":{\"id\":\"1027\"}},\"id\":\"1023\",\"type\":\"BoxZoomTool\"},{\"attributes\":{},\"id\":\"1050\",\"type\":\"Selection\"},{\"attributes\":{\"axis\":{\"id\":\"1013\"},\"ticker\":null},\"id\":\"1016\",\"type\":\"Grid\"},{\"attributes\":{},\"id\":\"1026\",\"type\":\"HelpTool\"},{\"attributes\":{},\"id\":\"1022\",\"type\":\"WheelZoomTool\"},{\"attributes\":{},\"id\":\"1049\",\"type\":\"UnionRenderers\"},{\"attributes\":{\"bottom_units\":\"screen\",\"fill_alpha\":0.5,\"fill_color\":\"lightgrey\",\"left_units\":\"screen\",\"level\":\"overlay\",\"line_alpha\":1.0,\"line_color\":\"black\",\"line_dash\":[4,4],\"line_width\":2,\"right_units\":\"screen\",\"top_units\":\"screen\"},\"id\":\"1027\",\"type\":\"BoxAnnotation\"},{\"attributes\":{},\"id\":\"1011\",\"type\":\"LinearScale\"},{\"attributes\":{\"bottom\":{\"value\":0},\"fill_alpha\":{\"value\":0.7},\"fill_color\":{\"value\":\"mediumslateblue\"},\"left\":{\"field\":\"left\"},\"right\":{\"field\":\"right\"},\"top\":{\"field\":\"num_chars_text\"}},\"id\":\"1037\",\"type\":\"Quad\"},{\"attributes\":{},\"id\":\"1046\",\"type\":\"BasicTickFormatter\"},{\"attributes\":{},\"id\":\"1014\",\"type\":\"BasicTicker\"},{\"attributes\":{\"data_source\":{\"id\":\"1035\"},\"glyph\":{\"id\":\"1037\"},\"hover_glyph\":{\"id\":\"1039\"},\"muted_glyph\":null,\"nonselection_glyph\":{\"id\":\"1038\"},\"selection_glyph\":null,\"view\":{\"id\":\"1041\"}},\"id\":\"1040\",\"type\":\"GlyphRenderer\"},{\"attributes\":{},\"id\":\"1009\",\"type\":\"LinearScale\"},{\"attributes\":{\"axis\":{\"id\":\"1017\"},\"dimension\":1,\"ticker\":null},\"id\":\"1020\",\"type\":\"Grid\"},{\"attributes\":{\"source\":{\"id\":\"1035\"}},\"id\":\"1041\",\"type\":\"CDSView\"},{\"attributes\":{\"data\":{\"index\":[0,1,2,3,4,5,6,7,8,9,10,11,12,13,14,15,16,17,18,19,20,21,22,23,24],\"interval\":[\"11 to 825\",\"825 to 1640\",\"1640 to 2455\",\"2455 to 3270\",\"3270 to 4085\",\"4085 to 4900\",\"4900 to 5714\",\"5714 to 6529\",\"6529 to 7344\",\"7344 to 8159\",\"8159 to 8974\",\"8974 to 9789\",\"9789 to 10603\",\"10603 to 11418\",\"11418 to 12233\",\"12233 to 13048\",\"13048 to 13863\",\"13863 to 14678\",\"14678 to 15492\",\"15492 to 16307\",\"16307 to 17122\",\"17122 to 17937\",\"17937 to 18752\",\"18752 to 19567\",\"19567 to 20382\"],\"left\":{\"__ndarray__\":\"AAAAAAAAJkAfhetRuM6JQB+F61G4oplA16NwPQovo0AfhetRuIypQGdmZmZm6q9A16NwPQoks0B7FK5H4VK2QB+F61G4gblAw/UoXI+wvEBnZmZmZt+/QIXrUbgeh8FA16NwPYoew0ApXI/C9bXEQHsUrkdhTcZAzczMzMzkx0AfhetROHzJQHE9CtejE8tAw/UoXA+rzEAVrkfhekLOQGdmZmbm2c9AXI/C9ai40ECF61G4XoTRQK5H4XoUUNJA16NwPcob00A=\",\"dtype\":\"float64\",\"order\":\"little\",\"shape\":[25]},\"num_chars_text\":[20,4,10,4,4,2,1,1,0,1,1,1,0,0,0,0,0,0,0,0,0,0,0,0,1],\"right\":{\"__ndarray__\":\"H4XrUbjOiUAfhetRuKKZQNejcD0KL6NAH4XrUbiMqUBnZmZmZuqvQNejcD0KJLNAexSuR+FStkAfhetRuIG5QMP1KFyPsLxAZ2ZmZmbfv0CF61G4HofBQNejcD2KHsNAKVyPwvW1xEB7FK5HYU3GQM3MzMzM5MdAH4XrUTh8yUBxPQrXoxPLQMP1KFwPq8xAFa5H4XpCzkBnZmZm5tnPQFyPwvWouNBAhetRuF6E0UCuR+F6FFDSQNejcD3KG9NAAAAAAIDn00A=\",\"dtype\":\"float64\",\"order\":\"little\",\"shape\":[25]}},\"selected\":{\"id\":\"1050\"},\"selection_policy\":{\"id\":\"1049\"}},\"id\":\"1035\",\"type\":\"ColumnDataSource\"},{\"attributes\":{\"bottom\":{\"value\":0},\"fill_color\":{\"value\":\"slateblue\"},\"left\":{\"field\":\"left\"},\"right\":{\"field\":\"right\"},\"top\":{\"field\":\"num_chars_text\"}},\"id\":\"1039\",\"type\":\"Quad\"},{\"attributes\":{\"text\":\"Readme + Description length distribution\"},\"id\":\"1003\",\"type\":\"Title\"},{\"attributes\":{},\"id\":\"1025\",\"type\":\"ResetTool\"},{\"attributes\":{},\"id\":\"1024\",\"type\":\"SaveTool\"},{\"attributes\":{\"active_drag\":\"auto\",\"active_inspect\":\"auto\",\"active_multi\":null,\"active_scroll\":\"auto\",\"active_tap\":\"auto\",\"tools\":[{\"id\":\"1021\"},{\"id\":\"1022\"},{\"id\":\"1023\"},{\"id\":\"1024\"},{\"id\":\"1025\"},{\"id\":\"1026\"},{\"id\":\"1042\"}]},\"id\":\"1028\",\"type\":\"Toolbar\"},{\"attributes\":{},\"id\":\"1048\",\"type\":\"BasicTickFormatter\"},{\"attributes\":{\"axis_label\":\"Number of repositories\",\"formatter\":{\"id\":\"1048\"},\"ticker\":{\"id\":\"1018\"}},\"id\":\"1017\",\"type\":\"LinearAxis\"}],\"root_ids\":[\"1002\"]},\"title\":\"Bokeh Application\",\"version\":\"2.1.1\"}};\n",
       "  var render_items = [{\"docid\":\"82ea5e2a-e5f8-4235-95cd-f636c36c0457\",\"notebook_comms_target\":\"1052\",\"root_ids\":[\"1002\"],\"roots\":{\"1002\":\"a82c1060-87c4-4e04-a079-5a188b5c470d\"}}];\n",
       "  root.Bokeh.embed.embed_items_notebook(docs_json, render_items);\n",
       "\n",
       "  }\n",
       "  if (root.Bokeh !== undefined) {\n",
       "    embed_document(root);\n",
       "  } else {\n",
       "    var attempts = 0;\n",
       "    var timer = setInterval(function(root) {\n",
       "      if (root.Bokeh !== undefined) {\n",
       "        clearInterval(timer);\n",
       "        embed_document(root);\n",
       "      } else {\n",
       "        attempts++;\n",
       "        if (attempts > 100) {\n",
       "          clearInterval(timer);\n",
       "          console.log(\"Bokeh: ERROR: Unable to run BokehJS code because BokehJS library is missing\");\n",
       "        }\n",
       "      }\n",
       "    }, 10, root)\n",
       "  }\n",
       "})(window);"
      ],
      "application/vnd.bokehjs_exec.v0+json": ""
     },
     "metadata": {
      "application/vnd.bokehjs_exec.v0+json": {
       "id": "1002"
      }
     },
     "output_type": "display_data"
    }
   ],
   "source": [
    "GIT_HIST_COLUMN = \"num_chars_text\"\n",
    "GIT_HIST_TITLE = \"Readme + Description length distribution\"\n",
    "GIT_HIST_XLABEL = \"Readme and description length (# of characters)\"\n",
    "GIT_HIST_YLABEL = \"Number of repositories\"\n",
    "\n",
    "hist.load_plot(df, GIT_HIST_COLUMN, GIT_HIST_TITLE,\n",
    "          GIT_HIST_XLABEL, GIT_HIST_YLABEL, True)"
   ]
  },
  {
   "cell_type": "code",
   "execution_count": 23,
   "metadata": {},
   "outputs": [],
   "source": [
    "hist.save_plot(os.path.join(NOTEBOOK_1_RESULTS_DIR, '1_Repo_text_length.svg'))"
   ]
  },
  {
   "cell_type": "markdown",
   "metadata": {},
   "source": [
    "### Languages used"
   ]
  },
  {
   "cell_type": "markdown",
   "metadata": {},
   "source": [
    "Finally, we are going to also explore the most used programming languages for each repository.\n",
    "\n",
    "We will begin by creating an auxiliary function that will create an horizontal bar chart with the given data:"
   ]
  },
  {
   "cell_type": "code",
   "execution_count": 24,
   "metadata": {},
   "outputs": [],
   "source": [
    "from bokeh.io import show\n",
    "from bokeh.models import ColumnDataSource, HoverTool\n",
    "from bokeh.palettes import Category20b_20\n",
    "from bokeh.plotting import figure\n",
    "\n",
    "def plot_horizontal_bar_chart(x_data, y_data, title, tooltip_x, tooltip_y,\n",
    "                              sort=True, color_palette=Category20b_20):\n",
    "    sorted_y_data = sorted(y_data, key=lambda x: x_data[y_data.index(x)]) if sort else y_data\n",
    "    source = ColumnDataSource(data=dict(y_data=y_data, x_data=x_data, color=color_palette))\n",
    "    p = figure(y_range=sorted_y_data, x_range=(0, max(x_data) * 1.1), plot_height=750, title=title,\n",
    "               toolbar_location='right')\n",
    "    p.hbar(y='y_data', right='x_data', height=0.7, color='color', legend_field=\"y_data\",\n",
    "           fill_alpha=0.75, hover_fill_alpha=1.0, source=source)\n",
    "    p.ygrid.grid_line_color = None\n",
    "    p.legend.orientation = \"vertical\"\n",
    "    p.legend.location = \"bottom_right\"\n",
    "    p.add_tools(HoverTool(tooltips=[(tooltip_y, \"@y_data\"), (tooltip_x, \"@x_data\")],\n",
    "                          point_policy=\"follow_mouse\"))\n",
    "\n",
    "    show(p, notebook_handle=True)\n",
    "\n"
   ]
  },
  {
   "cell_type": "markdown",
   "metadata": {},
   "source": [
    "Now, we can create new dataframe with each different programming language used in the dataset and the number of bytes belonging to that language for each repo:"
   ]
  },
  {
   "cell_type": "code",
   "execution_count": 25,
   "metadata": {},
   "outputs": [
    {
     "data": {
      "text/html": [
       "<div>\n",
       "<style scoped>\n",
       "    .dataframe tbody tr th:only-of-type {\n",
       "        vertical-align: middle;\n",
       "    }\n",
       "\n",
       "    .dataframe tbody tr th {\n",
       "        vertical-align: top;\n",
       "    }\n",
       "\n",
       "    .dataframe thead th {\n",
       "        text-align: right;\n",
       "    }\n",
       "</style>\n",
       "<table border=\"1\" class=\"dataframe\">\n",
       "  <thead>\n",
       "    <tr style=\"text-align: right;\">\n",
       "      <th></th>\n",
       "      <th>Java</th>\n",
       "      <th>FreeMarker</th>\n",
       "      <th>Python</th>\n",
       "      <th>Prolog</th>\n",
       "      <th>Makefile</th>\n",
       "      <th>Dockerfile</th>\n",
       "      <th>Shell</th>\n",
       "      <th>Ruby</th>\n",
       "      <th>HTML</th>\n",
       "      <th>JavaScript</th>\n",
       "      <th>...</th>\n",
       "      <th>Raku</th>\n",
       "      <th>TSQL</th>\n",
       "      <th>PowerShell</th>\n",
       "      <th>Game Maker Language</th>\n",
       "      <th>Web Ontology Language</th>\n",
       "      <th>PLpgSQL</th>\n",
       "      <th>Gherkin</th>\n",
       "      <th>Common Lisp</th>\n",
       "      <th>ActionScript</th>\n",
       "      <th>C#</th>\n",
       "    </tr>\n",
       "  </thead>\n",
       "  <tbody>\n",
       "    <tr>\n",
       "      <th>0</th>\n",
       "      <td>492423.0</td>\n",
       "      <td>13149.0</td>\n",
       "      <td>849.0</td>\n",
       "      <td>0.0</td>\n",
       "      <td>0.0</td>\n",
       "      <td>0.0</td>\n",
       "      <td>0.0</td>\n",
       "      <td>0.0</td>\n",
       "      <td>0.0</td>\n",
       "      <td>0.0</td>\n",
       "      <td>...</td>\n",
       "      <td>0.0</td>\n",
       "      <td>0.0</td>\n",
       "      <td>0.0</td>\n",
       "      <td>0.0</td>\n",
       "      <td>0.0</td>\n",
       "      <td>0.0</td>\n",
       "      <td>0.0</td>\n",
       "      <td>0.0</td>\n",
       "      <td>0.0</td>\n",
       "      <td>0.0</td>\n",
       "    </tr>\n",
       "    <tr>\n",
       "      <th>1</th>\n",
       "      <td>0.0</td>\n",
       "      <td>0.0</td>\n",
       "      <td>0.0</td>\n",
       "      <td>14691.0</td>\n",
       "      <td>1472.0</td>\n",
       "      <td>700.0</td>\n",
       "      <td>278.0</td>\n",
       "      <td>0.0</td>\n",
       "      <td>0.0</td>\n",
       "      <td>0.0</td>\n",
       "      <td>...</td>\n",
       "      <td>0.0</td>\n",
       "      <td>0.0</td>\n",
       "      <td>0.0</td>\n",
       "      <td>0.0</td>\n",
       "      <td>0.0</td>\n",
       "      <td>0.0</td>\n",
       "      <td>0.0</td>\n",
       "      <td>0.0</td>\n",
       "      <td>0.0</td>\n",
       "      <td>0.0</td>\n",
       "    </tr>\n",
       "    <tr>\n",
       "      <th>2</th>\n",
       "      <td>0.0</td>\n",
       "      <td>0.0</td>\n",
       "      <td>0.0</td>\n",
       "      <td>0.0</td>\n",
       "      <td>0.0</td>\n",
       "      <td>0.0</td>\n",
       "      <td>0.0</td>\n",
       "      <td>52724.0</td>\n",
       "      <td>1319.0</td>\n",
       "      <td>0.0</td>\n",
       "      <td>...</td>\n",
       "      <td>0.0</td>\n",
       "      <td>0.0</td>\n",
       "      <td>0.0</td>\n",
       "      <td>0.0</td>\n",
       "      <td>0.0</td>\n",
       "      <td>0.0</td>\n",
       "      <td>0.0</td>\n",
       "      <td>0.0</td>\n",
       "      <td>0.0</td>\n",
       "      <td>0.0</td>\n",
       "    </tr>\n",
       "    <tr>\n",
       "      <th>3</th>\n",
       "      <td>0.0</td>\n",
       "      <td>0.0</td>\n",
       "      <td>0.0</td>\n",
       "      <td>0.0</td>\n",
       "      <td>0.0</td>\n",
       "      <td>0.0</td>\n",
       "      <td>15815.0</td>\n",
       "      <td>9445.0</td>\n",
       "      <td>0.0</td>\n",
       "      <td>0.0</td>\n",
       "      <td>...</td>\n",
       "      <td>0.0</td>\n",
       "      <td>0.0</td>\n",
       "      <td>0.0</td>\n",
       "      <td>0.0</td>\n",
       "      <td>0.0</td>\n",
       "      <td>0.0</td>\n",
       "      <td>0.0</td>\n",
       "      <td>0.0</td>\n",
       "      <td>0.0</td>\n",
       "      <td>0.0</td>\n",
       "    </tr>\n",
       "    <tr>\n",
       "      <th>4</th>\n",
       "      <td>3514431.0</td>\n",
       "      <td>0.0</td>\n",
       "      <td>0.0</td>\n",
       "      <td>0.0</td>\n",
       "      <td>0.0</td>\n",
       "      <td>0.0</td>\n",
       "      <td>28836.0</td>\n",
       "      <td>2559.0</td>\n",
       "      <td>333450.0</td>\n",
       "      <td>967765.0</td>\n",
       "      <td>...</td>\n",
       "      <td>0.0</td>\n",
       "      <td>0.0</td>\n",
       "      <td>0.0</td>\n",
       "      <td>0.0</td>\n",
       "      <td>0.0</td>\n",
       "      <td>0.0</td>\n",
       "      <td>0.0</td>\n",
       "      <td>0.0</td>\n",
       "      <td>0.0</td>\n",
       "      <td>0.0</td>\n",
       "    </tr>\n",
       "  </tbody>\n",
       "</table>\n",
       "<p>5 rows × 43 columns</p>\n",
       "</div>"
      ],
      "text/plain": [
       "        Java  FreeMarker  Python   Prolog  Makefile  Dockerfile    Shell  \\\n",
       "0   492423.0     13149.0   849.0      0.0       0.0         0.0      0.0   \n",
       "1        0.0         0.0     0.0  14691.0    1472.0       700.0    278.0   \n",
       "2        0.0         0.0     0.0      0.0       0.0         0.0      0.0   \n",
       "3        0.0         0.0     0.0      0.0       0.0         0.0  15815.0   \n",
       "4  3514431.0         0.0     0.0      0.0       0.0         0.0  28836.0   \n",
       "\n",
       "      Ruby      HTML  JavaScript  ...  Raku  TSQL  PowerShell  \\\n",
       "0      0.0       0.0         0.0  ...   0.0   0.0         0.0   \n",
       "1      0.0       0.0         0.0  ...   0.0   0.0         0.0   \n",
       "2  52724.0    1319.0         0.0  ...   0.0   0.0         0.0   \n",
       "3   9445.0       0.0         0.0  ...   0.0   0.0         0.0   \n",
       "4   2559.0  333450.0    967765.0  ...   0.0   0.0         0.0   \n",
       "\n",
       "   Game Maker Language  Web Ontology Language  PLpgSQL  Gherkin  Common Lisp  \\\n",
       "0                  0.0                    0.0      0.0      0.0          0.0   \n",
       "1                  0.0                    0.0      0.0      0.0          0.0   \n",
       "2                  0.0                    0.0      0.0      0.0          0.0   \n",
       "3                  0.0                    0.0      0.0      0.0          0.0   \n",
       "4                  0.0                    0.0      0.0      0.0          0.0   \n",
       "\n",
       "   ActionScript   C#  \n",
       "0           0.0  0.0  \n",
       "1           0.0  0.0  \n",
       "2           0.0  0.0  \n",
       "3           0.0  0.0  \n",
       "4           0.0  0.0  \n",
       "\n",
       "[5 rows x 43 columns]"
      ]
     },
     "execution_count": 25,
     "metadata": {},
     "output_type": "execute_result"
    }
   ],
   "source": [
    "languages_df = pd.DataFrame(df['languages'].values.tolist()).fillna(value=0, inplace=False)\n",
    "languages_df.head()"
   ]
  },
  {
   "cell_type": "markdown",
   "metadata": {},
   "source": [
    "By making use of the previously defined function and the new DataFrame we can plot the top 15 languages with the most number of bytes written in each repository:"
   ]
  },
  {
   "cell_type": "code",
   "execution_count": 26,
   "metadata": {},
   "outputs": [
    {
     "data": {
      "text/html": [
       "\n",
       "\n",
       "\n",
       "\n",
       "\n",
       "\n",
       "  <div class=\"bk-root\" id=\"0e3c45eb-f69c-4dea-a79f-4d2345bf3fba\" data-root-id=\"1207\"></div>\n"
      ]
     },
     "metadata": {},
     "output_type": "display_data"
    },
    {
     "data": {
      "application/javascript": [
       "(function(root) {\n",
       "  function embed_document(root) {\n",
       "    \n",
       "  var docs_json = {\"05d2a853-53e0-493d-8afd-6d92340ba30a\":{\"roots\":{\"references\":[{\"attributes\":{\"below\":[{\"id\":\"1218\"}],\"center\":[{\"id\":\"1221\"},{\"id\":\"1224\"},{\"id\":\"1253\"}],\"left\":[{\"id\":\"1222\"}],\"plot_height\":750,\"renderers\":[{\"id\":\"1243\"}],\"title\":{\"id\":\"1208\"},\"toolbar\":{\"id\":\"1232\"},\"x_range\":{\"id\":\"1210\"},\"x_scale\":{\"id\":\"1214\"},\"y_range\":{\"id\":\"1212\"},\"y_scale\":{\"id\":\"1216\"}},\"id\":\"1207\",\"subtype\":\"Figure\",\"type\":\"Plot\"},{\"attributes\":{},\"id\":\"1247\",\"type\":\"BasicTickFormatter\"},{\"attributes\":{},\"id\":\"1226\",\"type\":\"WheelZoomTool\"},{\"attributes\":{},\"id\":\"1219\",\"type\":\"BasicTicker\"},{\"attributes\":{\"text\":\"Languages with the most number of bytes\"},\"id\":\"1208\",\"type\":\"Title\"},{\"attributes\":{\"formatter\":{\"id\":\"1249\"},\"ticker\":{\"id\":\"1223\"}},\"id\":\"1222\",\"type\":\"CategoricalAxis\"},{\"attributes\":{\"bottom_units\":\"screen\",\"fill_alpha\":0.5,\"fill_color\":\"lightgrey\",\"left_units\":\"screen\",\"level\":\"overlay\",\"line_alpha\":1.0,\"line_color\":\"black\",\"line_dash\":[4,4],\"line_width\":2,\"right_units\":\"screen\",\"top_units\":\"screen\"},\"id\":\"1231\",\"type\":\"BoxAnnotation\"},{\"attributes\":{},\"id\":\"1230\",\"type\":\"HelpTool\"},{\"attributes\":{},\"id\":\"1229\",\"type\":\"ResetTool\"},{\"attributes\":{},\"id\":\"1225\",\"type\":\"PanTool\"},{\"attributes\":{\"active_drag\":\"auto\",\"active_inspect\":\"auto\",\"active_multi\":null,\"active_scroll\":\"auto\",\"active_tap\":\"auto\",\"tools\":[{\"id\":\"1225\"},{\"id\":\"1226\"},{\"id\":\"1227\"},{\"id\":\"1228\"},{\"id\":\"1229\"},{\"id\":\"1230\"},{\"id\":\"1255\"}]},\"id\":\"1232\",\"type\":\"Toolbar\"},{\"attributes\":{\"factors\":[\"Vim script\",\"CSS\",\"C++\",\"Game Maker Language\",\"PHP\",\"XSLT\",\"Go\",\"HTML\",\"Ruby\",\"Python\",\"Coq\",\"PostScript\",\"Java\",\"JavaScript\",\"Jupyter Notebook\"]},\"id\":\"1212\",\"type\":\"FactorRange\"},{\"attributes\":{\"overlay\":{\"id\":\"1231\"}},\"id\":\"1227\",\"type\":\"BoxZoomTool\"},{\"attributes\":{},\"id\":\"1251\",\"type\":\"Selection\"},{\"attributes\":{},\"id\":\"1223\",\"type\":\"CategoricalTicker\"},{\"attributes\":{\"fill_color\":{\"field\":\"color\"},\"height\":{\"value\":0.7},\"line_color\":{\"field\":\"color\"},\"right\":{\"field\":\"x_data\"},\"y\":{\"field\":\"y_data\"}},\"id\":\"1242\",\"type\":\"HBar\"},{\"attributes\":{\"data\":{\"color\":[\"#1f77b4\",\"#aec7e8\",\"#ff7f0e\",\"#ffbb78\",\"#2ca02c\",\"#98df8a\",\"#d62728\",\"#ff9896\",\"#9467bd\",\"#c5b0d5\",\"#8c564b\",\"#c49c94\",\"#e377c2\",\"#f7b6d2\",\"#7f7f7f\"],\"x_data\":[43415315.0,36100093.0,24041579.0,20338860.0,7736194.0,4990542.0,3476871.0,2349685.0,2297972.0,1479237.0,1231995.0,1100389.0,989242.0,734741.0,694233.0],\"y_data\":[\"Jupyter Notebook\",\"JavaScript\",\"Java\",\"PostScript\",\"Coq\",\"Python\",\"Ruby\",\"HTML\",\"Go\",\"XSLT\",\"PHP\",\"Game Maker Language\",\"C++\",\"CSS\",\"Vim script\"]},\"selected\":{\"id\":\"1251\"},\"selection_policy\":{\"id\":\"1250\"}},\"id\":\"1206\",\"type\":\"ColumnDataSource\"},{\"attributes\":{\"source\":{\"id\":\"1206\"}},\"id\":\"1244\",\"type\":\"CDSView\"},{\"attributes\":{},\"id\":\"1249\",\"type\":\"CategoricalTickFormatter\"},{\"attributes\":{\"formatter\":{\"id\":\"1247\"},\"ticker\":{\"id\":\"1219\"}},\"id\":\"1218\",\"type\":\"LinearAxis\"},{\"attributes\":{\"label\":{\"field\":\"y_data\"},\"renderers\":[{\"id\":\"1243\"}]},\"id\":\"1254\",\"type\":\"LegendItem\"},{\"attributes\":{},\"id\":\"1250\",\"type\":\"UnionRenderers\"},{\"attributes\":{\"fill_alpha\":{\"value\":0.1},\"fill_color\":{\"field\":\"color\"},\"height\":{\"value\":0.7},\"line_alpha\":{\"value\":0.1},\"line_color\":{\"field\":\"color\"},\"right\":{\"field\":\"x_data\"},\"y\":{\"field\":\"y_data\"}},\"id\":\"1241\",\"type\":\"HBar\"},{\"attributes\":{\"items\":[{\"id\":\"1254\"}],\"location\":\"bottom_right\"},\"id\":\"1253\",\"type\":\"Legend\"},{\"attributes\":{\"callback\":null,\"point_policy\":\"follow_mouse\",\"tooltips\":[[\"Language\",\"@y_data\"],[\"Number of bytes\",\"@x_data\"]]},\"id\":\"1255\",\"type\":\"HoverTool\"},{\"attributes\":{},\"id\":\"1228\",\"type\":\"SaveTool\"},{\"attributes\":{},\"id\":\"1214\",\"type\":\"LinearScale\"},{\"attributes\":{\"axis\":{\"id\":\"1222\"},\"dimension\":1,\"grid_line_color\":null,\"ticker\":null},\"id\":\"1224\",\"type\":\"Grid\"},{\"attributes\":{\"fill_alpha\":{\"value\":0.75},\"fill_color\":{\"field\":\"color\"},\"height\":{\"value\":0.7},\"line_color\":{\"field\":\"color\"},\"right\":{\"field\":\"x_data\"},\"y\":{\"field\":\"y_data\"}},\"id\":\"1240\",\"type\":\"HBar\"},{\"attributes\":{\"data_source\":{\"id\":\"1206\"},\"glyph\":{\"id\":\"1240\"},\"hover_glyph\":{\"id\":\"1242\"},\"muted_glyph\":null,\"nonselection_glyph\":{\"id\":\"1241\"},\"selection_glyph\":null,\"view\":{\"id\":\"1244\"}},\"id\":\"1243\",\"type\":\"GlyphRenderer\"},{\"attributes\":{\"end\":47756846.50000001},\"id\":\"1210\",\"type\":\"Range1d\"},{\"attributes\":{},\"id\":\"1216\",\"type\":\"CategoricalScale\"},{\"attributes\":{\"axis\":{\"id\":\"1218\"},\"ticker\":null},\"id\":\"1221\",\"type\":\"Grid\"}],\"root_ids\":[\"1207\"]},\"title\":\"Bokeh Application\",\"version\":\"2.1.1\"}};\n",
       "  var render_items = [{\"docid\":\"05d2a853-53e0-493d-8afd-6d92340ba30a\",\"notebook_comms_target\":\"1273\",\"root_ids\":[\"1207\"],\"roots\":{\"1207\":\"0e3c45eb-f69c-4dea-a79f-4d2345bf3fba\"}}];\n",
       "  root.Bokeh.embed.embed_items_notebook(docs_json, render_items);\n",
       "\n",
       "  }\n",
       "  if (root.Bokeh !== undefined) {\n",
       "    embed_document(root);\n",
       "  } else {\n",
       "    var attempts = 0;\n",
       "    var timer = setInterval(function(root) {\n",
       "      if (root.Bokeh !== undefined) {\n",
       "        clearInterval(timer);\n",
       "        embed_document(root);\n",
       "      } else {\n",
       "        attempts++;\n",
       "        if (attempts > 100) {\n",
       "          clearInterval(timer);\n",
       "          console.log(\"Bokeh: ERROR: Unable to run BokehJS code because BokehJS library is missing\");\n",
       "        }\n",
       "      }\n",
       "    }, 10, root)\n",
       "  }\n",
       "})(window);"
      ],
      "application/vnd.bokehjs_exec.v0+json": ""
     },
     "metadata": {
      "application/vnd.bokehjs_exec.v0+json": {
       "id": "1207"
      }
     },
     "output_type": "display_data"
    }
   ],
   "source": [
    "from bokeh.palettes import Category20_15\n",
    "\n",
    "NUM_LANGUAGES = 15\n",
    "\n",
    "languages_sum = languages_df.sum().sort_values(ascending=False)\n",
    "num_bytes = languages_df.sum()[:NUM_LANGUAGES]\n",
    "\n",
    "plot_horizontal_bar_chart(list(languages_sum)[:NUM_LANGUAGES],\n",
    "                          list(languages_sum.keys())[:NUM_LANGUAGES],\n",
    "                          \"Languages with the most number of bytes\",\n",
    "                          \"Number of bytes\", \"Language\",\n",
    "                          color_palette=Category20_15)"
   ]
  },
  {
   "cell_type": "markdown",
   "metadata": {},
   "source": [
    "We can see that most repositories have code written in Jupyter Notebooks, JavaScript and Java.\n",
    "\n",
    "Although the number of bytes is an interesting measure, some languages tend to have a bigger repository size by nature. In the following cell we are going to select the most prominent language for each repository and plot the most used languages in the dataset:"
   ]
  },
  {
   "cell_type": "code",
   "execution_count": 27,
   "metadata": {},
   "outputs": [
    {
     "data": {
      "text/html": [
       "\n",
       "\n",
       "\n",
       "\n",
       "\n",
       "\n",
       "  <div class=\"bk-root\" id=\"1e184490-7114-496c-8d75-8003b19de352\" data-root-id=\"1323\"></div>\n"
      ]
     },
     "metadata": {},
     "output_type": "display_data"
    },
    {
     "data": {
      "application/javascript": [
       "(function(root) {\n",
       "  function embed_document(root) {\n",
       "    \n",
       "  var docs_json = {\"883138ec-b97c-4de0-8b56-1d987cddd83d\":{\"roots\":{\"references\":[{\"attributes\":{\"below\":[{\"id\":\"1334\"}],\"center\":[{\"id\":\"1337\"},{\"id\":\"1340\"},{\"id\":\"1369\"}],\"left\":[{\"id\":\"1338\"}],\"plot_height\":750,\"renderers\":[{\"id\":\"1359\"}],\"title\":{\"id\":\"1324\"},\"toolbar\":{\"id\":\"1348\"},\"x_range\":{\"id\":\"1326\"},\"x_scale\":{\"id\":\"1330\"},\"y_range\":{\"id\":\"1328\"},\"y_scale\":{\"id\":\"1332\"}},\"id\":\"1323\",\"subtype\":\"Figure\",\"type\":\"Plot\"},{\"attributes\":{\"factors\":[\"TeX\",\"Coq\",\"C#\",\"C\",\"C++\",\"Ruby\",\"JavaScript\",\"Jupyter Notebook\",\"Python\",\"Java\"]},\"id\":\"1328\",\"type\":\"FactorRange\"},{\"attributes\":{\"label\":{\"field\":\"y_data\"},\"renderers\":[{\"id\":\"1359\"}]},\"id\":\"1370\",\"type\":\"LegendItem\"},{\"attributes\":{\"data_source\":{\"id\":\"1322\"},\"glyph\":{\"id\":\"1356\"},\"hover_glyph\":{\"id\":\"1358\"},\"muted_glyph\":null,\"nonselection_glyph\":{\"id\":\"1357\"},\"selection_glyph\":null,\"view\":{\"id\":\"1360\"}},\"id\":\"1359\",\"type\":\"GlyphRenderer\"},{\"attributes\":{\"fill_alpha\":{\"value\":0.1},\"fill_color\":{\"field\":\"color\"},\"height\":{\"value\":0.7},\"line_alpha\":{\"value\":0.1},\"line_color\":{\"field\":\"color\"},\"right\":{\"field\":\"x_data\"},\"y\":{\"field\":\"y_data\"}},\"id\":\"1357\",\"type\":\"HBar\"},{\"attributes\":{\"text\":\"Top 10 most used languages\"},\"id\":\"1324\",\"type\":\"Title\"},{\"attributes\":{\"formatter\":{\"id\":\"1365\"},\"ticker\":{\"id\":\"1339\"}},\"id\":\"1338\",\"type\":\"CategoricalAxis\"},{\"attributes\":{\"active_drag\":\"auto\",\"active_inspect\":\"auto\",\"active_multi\":null,\"active_scroll\":\"auto\",\"active_tap\":\"auto\",\"tools\":[{\"id\":\"1341\"},{\"id\":\"1342\"},{\"id\":\"1343\"},{\"id\":\"1344\"},{\"id\":\"1345\"},{\"id\":\"1346\"},{\"id\":\"1371\"}]},\"id\":\"1348\",\"type\":\"Toolbar\"},{\"attributes\":{\"formatter\":{\"id\":\"1363\"},\"ticker\":{\"id\":\"1335\"}},\"id\":\"1334\",\"type\":\"LinearAxis\"},{\"attributes\":{\"axis\":{\"id\":\"1338\"},\"dimension\":1,\"grid_line_color\":null,\"ticker\":null},\"id\":\"1340\",\"type\":\"Grid\"},{\"attributes\":{},\"id\":\"1345\",\"type\":\"ResetTool\"},{\"attributes\":{\"bottom_units\":\"screen\",\"fill_alpha\":0.5,\"fill_color\":\"lightgrey\",\"left_units\":\"screen\",\"level\":\"overlay\",\"line_alpha\":1.0,\"line_color\":\"black\",\"line_dash\":[4,4],\"line_width\":2,\"right_units\":\"screen\",\"top_units\":\"screen\"},\"id\":\"1347\",\"type\":\"BoxAnnotation\"},{\"attributes\":{\"end\":9.9},\"id\":\"1326\",\"type\":\"Range1d\"},{\"attributes\":{},\"id\":\"1363\",\"type\":\"BasicTickFormatter\"},{\"attributes\":{},\"id\":\"1341\",\"type\":\"PanTool\"},{\"attributes\":{},\"id\":\"1366\",\"type\":\"UnionRenderers\"},{\"attributes\":{},\"id\":\"1346\",\"type\":\"HelpTool\"},{\"attributes\":{},\"id\":\"1332\",\"type\":\"CategoricalScale\"},{\"attributes\":{\"source\":{\"id\":\"1322\"}},\"id\":\"1360\",\"type\":\"CDSView\"},{\"attributes\":{},\"id\":\"1330\",\"type\":\"LinearScale\"},{\"attributes\":{},\"id\":\"1344\",\"type\":\"SaveTool\"},{\"attributes\":{\"callback\":null,\"point_policy\":\"follow_mouse\",\"tooltips\":[[\"Language\",\"@y_data\"],[\"Number of repositories\",\"@x_data\"]]},\"id\":\"1371\",\"type\":\"HoverTool\"},{\"attributes\":{},\"id\":\"1335\",\"type\":\"BasicTicker\"},{\"attributes\":{\"items\":[{\"id\":\"1370\"}],\"location\":\"bottom_right\"},\"id\":\"1369\",\"type\":\"Legend\"},{\"attributes\":{\"overlay\":{\"id\":\"1347\"}},\"id\":\"1343\",\"type\":\"BoxZoomTool\"},{\"attributes\":{\"fill_alpha\":{\"value\":0.75},\"fill_color\":{\"field\":\"color\"},\"height\":{\"value\":0.7},\"line_color\":{\"field\":\"color\"},\"right\":{\"field\":\"x_data\"},\"y\":{\"field\":\"y_data\"}},\"id\":\"1356\",\"type\":\"HBar\"},{\"attributes\":{},\"id\":\"1342\",\"type\":\"WheelZoomTool\"},{\"attributes\":{},\"id\":\"1339\",\"type\":\"CategoricalTicker\"},{\"attributes\":{},\"id\":\"1367\",\"type\":\"Selection\"},{\"attributes\":{\"data\":{\"color\":[\"#1f77b4\",\"#aec7e8\",\"#ff7f0e\",\"#ffbb78\",\"#2ca02c\",\"#98df8a\",\"#d62728\",\"#ff9896\",\"#9467bd\",\"#c5b0d5\"],\"x_data\":[9,6,6,5,4,3,2,1,1,1],\"y_data\":[\"Java\",\"Jupyter Notebook\",\"Python\",\"JavaScript\",\"Ruby\",\"C++\",\"C\",\"TeX\",\"Coq\",\"C#\"]},\"selected\":{\"id\":\"1367\"},\"selection_policy\":{\"id\":\"1366\"}},\"id\":\"1322\",\"type\":\"ColumnDataSource\"},{\"attributes\":{},\"id\":\"1365\",\"type\":\"CategoricalTickFormatter\"},{\"attributes\":{\"axis\":{\"id\":\"1334\"},\"ticker\":null},\"id\":\"1337\",\"type\":\"Grid\"},{\"attributes\":{\"fill_color\":{\"field\":\"color\"},\"height\":{\"value\":0.7},\"line_color\":{\"field\":\"color\"},\"right\":{\"field\":\"x_data\"},\"y\":{\"field\":\"y_data\"}},\"id\":\"1358\",\"type\":\"HBar\"}],\"root_ids\":[\"1323\"]},\"title\":\"Bokeh Application\",\"version\":\"2.1.1\"}};\n",
       "  var render_items = [{\"docid\":\"883138ec-b97c-4de0-8b56-1d987cddd83d\",\"notebook_comms_target\":\"1397\",\"root_ids\":[\"1323\"],\"roots\":{\"1323\":\"1e184490-7114-496c-8d75-8003b19de352\"}}];\n",
       "  root.Bokeh.embed.embed_items_notebook(docs_json, render_items);\n",
       "\n",
       "  }\n",
       "  if (root.Bokeh !== undefined) {\n",
       "    embed_document(root);\n",
       "  } else {\n",
       "    var attempts = 0;\n",
       "    var timer = setInterval(function(root) {\n",
       "      if (root.Bokeh !== undefined) {\n",
       "        clearInterval(timer);\n",
       "        embed_document(root);\n",
       "      } else {\n",
       "        attempts++;\n",
       "        if (attempts > 100) {\n",
       "          clearInterval(timer);\n",
       "          console.log(\"Bokeh: ERROR: Unable to run BokehJS code because BokehJS library is missing\");\n",
       "        }\n",
       "      }\n",
       "    }, 10, root)\n",
       "  }\n",
       "})(window);"
      ],
      "application/vnd.bokehjs_exec.v0+json": ""
     },
     "metadata": {
      "application/vnd.bokehjs_exec.v0+json": {
       "id": "1323"
      }
     },
     "output_type": "display_data"
    }
   ],
   "source": [
    "from bokeh.palettes import Category20_10\n",
    "\n",
    "most_used_languages = languages_df.idxmax(axis=1).value_counts()[:10]\n",
    "plot_horizontal_bar_chart(list(most_used_languages),\n",
    "                          list(most_used_languages.keys()),\n",
    "                          \"Top 10 most used languages\",\n",
    "                          \"Number of repositories\", \"Language\",\n",
    "                          color_palette=Category20_10)"
   ]
  },
  {
   "cell_type": "markdown",
   "metadata": {},
   "source": [
    "With this new measure the top order has changed a bit. Both JavaScript and Jupyter Notebooks remain in the top 5, but they have fallen some positions to both Java and Python."
   ]
  },
  {
   "cell_type": "markdown",
   "metadata": {},
   "source": [
    "## Saving the dataframe"
   ]
  },
  {
   "cell_type": "markdown",
   "metadata": {},
   "source": [
    "Finally, we are going to serialize the dataframe so we can load it later on in the following notebooks:"
   ]
  },
  {
   "cell_type": "code",
   "execution_count": 28,
   "metadata": {},
   "outputs": [],
   "source": [
    "GIT_DF_FILE_PATH = os.path.join(NOTEBOOK_1_RESULTS_DIR, 'git_dataframe.pkl')\n",
    "\n",
    "df.to_pickle(GIT_DF_FILE_PATH)"
   ]
  }
 ],
 "metadata": {
  "kernelspec": {
   "display_name": "Python 3",
   "language": "python",
   "name": "python3"
  },
  "language_info": {
   "codemirror_mode": {
    "name": "ipython",
    "version": 3
   },
   "file_extension": ".py",
   "mimetype": "text/x-python",
   "name": "python",
   "nbconvert_exporter": "python",
   "pygments_lexer": "ipython3",
   "version": "3.7.0"
  }
 },
 "nbformat": 4,
 "nbformat_minor": 4
}
