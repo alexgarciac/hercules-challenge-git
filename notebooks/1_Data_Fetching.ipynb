{
 "cells": [
  {
   "cell_type": "markdown",
   "metadata": {},
   "source": [
    "# 1. Data fetching and cleaning"
   ]
  },
  {
   "cell_type": "code",
   "execution_count": 1,
   "metadata": {},
   "outputs": [
    {
     "name": "stderr",
     "output_type": "stream",
     "text": [
      "INFO:root:Starting logger\n"
     ]
    }
   ],
   "source": [
    "%run __init__.py"
   ]
  },
  {
   "cell_type": "code",
   "execution_count": null,
   "metadata": {},
   "outputs": [],
   "source": []
  },
  {
   "cell_type": "markdown",
   "metadata": {},
   "source": [
    "## Getting the repository URLs"
   ]
  },
  {
   "cell_type": "code",
   "execution_count": 2,
   "metadata": {},
   "outputs": [
    {
     "data": {
      "text/plain": [
       "50"
      ]
     },
     "execution_count": 2,
     "metadata": {},
     "output_type": "execute_result"
    }
   ],
   "source": [
    "REPO_URLS_FILE = 'repo_urls.txt'\n",
    "\n",
    "with open(os.path.join(DATA_DIR, REPO_URLS_FILE), 'r') as f:\n",
    "    repo_urls = [line.rstrip('\\n') for line in f]\n",
    "\n",
    "len(repo_urls)"
   ]
  },
  {
   "cell_type": "code",
   "execution_count": 3,
   "metadata": {},
   "outputs": [
    {
     "data": {
      "text/plain": [
       "'https://github.com/cmungall/LIRICAL/'"
      ]
     },
     "execution_count": 3,
     "metadata": {},
     "output_type": "execute_result"
    }
   ],
   "source": [
    "repo_urls[0]"
   ]
  },
  {
   "cell_type": "markdown",
   "metadata": {},
   "source": [
    "## Parsing the data"
   ]
  },
  {
   "cell_type": "code",
   "execution_count": 4,
   "metadata": {},
   "outputs": [],
   "source": [
    "import getpass\n",
    "\n",
    "\n",
    "try:\n",
    "    from secret import GITHUB_TOKEN\n",
    "except ModuleNotFoundError:\n",
    "    GITHUB_TOKEN = getpass.getpass()\n"
   ]
  },
  {
   "cell_type": "code",
   "execution_count": 10,
   "metadata": {},
   "outputs": [],
   "source": [
    "class GitHubIssue():\n",
    "    def __init__(self, title, body, comments):\n",
    "        self.title = title\n",
    "        self.body = body\n",
    "        self.comments = comments\n",
    "\n",
    "\n",
    "class GitHubRepoData():\n",
    "    def __init__(self, gh_id, name, description,\n",
    "                 owner_name, languages, \n",
    "                 readme_text, issues):\n",
    "        self.gh_id = gh_id\n",
    "        self.name = name\n",
    "        self.description = description\n",
    "        self.owner_name = owner_name\n",
    "        self.languages = languages\n",
    "        self.readme_text = readme_text\n",
    "        self.issues = issues\n",
    "    \n",
    "    def to_dict(self):\n",
    "        return {\n",
    "            'gh_id': self.gh_id,\n",
    "            'name': self.name,\n",
    "            'description': self.description,\n",
    "            'owner_name': self.owner_name,\n",
    "            'languages': '|'.join([f\"{language}: {num_bytes}\" \n",
    "                                   for language, num_bytes \n",
    "                                   in self.languages]),\n",
    "            'readme_text': self.readme_text,\n",
    "            'issues_text': '\\n'.join([issue.body for issue in self.issues])\n",
    "        }\n",
    "    \n",
    "    def __eq__(self, other):\n",
    "        if not isinstance(other, GitHubRepoData):\n",
    "            return False\n",
    "        return self.gh_id == other.gh_id\n",
    "\n",
    "    def __str__(self):\n",
    "        return f\"{self.gh_id} - {self.owner_name}: {self.name} - {self.description}\"\n"
   ]
  },
  {
   "cell_type": "code",
   "execution_count": 11,
   "metadata": {},
   "outputs": [],
   "source": [
    "import json\n",
    "import requests\n",
    "\n",
    "from requests.exceptions import HTTPError\n",
    "\n",
    "from bs4 import BeautifulSoup\n",
    "\n",
    "\n",
    "GITHUB_BASE_API = \"https://api.github.com\"\n",
    "\n",
    "def _get_repo_info(repo_url):\n",
    "    tokens = [token for token in repo_url.split('/')\n",
    "              if token != '']\n",
    "    return tokens[-2], tokens[-1]\n",
    "\n",
    "def _make_github_request(url):\n",
    "    response = requests.get(url, headers={'Authorization': f\"token {GITHUB_TOKEN}\"})\n",
    "    if response.status_code != 200:\n",
    "        raise HTTPError(\"There was an error retrieving data from GitHub: \" + str(response.content))\n",
    "    return response.content\n",
    "\n",
    "def get_issue_comments(comments_url):\n",
    "    comments = _make_github_request(comments_url)\n",
    "    comments_dict = json.loads(comments)\n",
    "    return [comment['body'] for comment in comments_dict]\n",
    "\n",
    "def get_repo_contents(author, repo):\n",
    "    response = _make_github_request(f\"{GITHUB_BASE_API}/repos/{author}/{repo}\")\n",
    "    return json.loads(response)\n",
    "\n",
    "def get_repo_languages(languages_url):\n",
    "    response = _make_github_request(languages_url)\n",
    "    response_dict = json.loads(response)\n",
    "    return [(language, num_bytes) \n",
    "            for language, num_bytes\n",
    "            in response_dict.items()]\n",
    "\n",
    "def get_repo_readme_text(author, repo):\n",
    "    try:\n",
    "        res = _make_github_request(f\"{GITHUB_BASE_API}/repos/{author}/{repo}/readme\")\n",
    "    except HTTPError as e:\n",
    "        if \"Not Found\" in str(e):\n",
    "            return \"\"\n",
    "        else:\n",
    "            raise(e)\n",
    "    html_url = json.loads(res)['html_url']\n",
    "    readme_html= requests.get(html_url).content\n",
    "    soup = BeautifulSoup(readme_html)\n",
    "    readme_element = soup.find('div', {'id': 'readme'})\n",
    "    if readme_element is None:\n",
    "        # readme.txt file\n",
    "        readme_element = soup.find('div', {'itemprop': 'text'})\n",
    "    return readme_element.text.strip()\n",
    "\n",
    "def get_repo_issues(author, repo):\n",
    "    issues = _make_github_request(f\"{GITHUB_BASE_API}/repos/{author}/{repo}/issues\")\n",
    "    issues_dict = json.loads(issues)\n",
    "    return [GitHubIssue(issue['title'], issue['body'],\n",
    "                        get_issue_comments(issue['comments_url']))\n",
    "            for issue in issues_dict]\n",
    "    \n",
    "\n",
    "def parse_repo_url(repo_url):\n",
    "    author, repo = _get_repo_info(repo_url)\n",
    "    repo_contents = get_repo_contents(author, repo)\n",
    "    issues = get_repo_issues(author, repo) if repo_contents['has_issues'] else []\n",
    "    languages = get_repo_languages(repo_contents['languages_url'])\n",
    "    readme_text = get_repo_readme_text(author, repo)\n",
    "    return GitHubRepoData(repo_contents['id'], repo_contents['name'],\n",
    "        repo_contents['description'], repo_contents['owner']['login'],\n",
    "        languages, readme_text, issues)\n"
   ]
  },
  {
   "cell_type": "code",
   "execution_count": 14,
   "metadata": {},
   "outputs": [
    {
     "data": {
      "text/plain": [
       "'Prolog: 14691|Makefile: 1472|Dockerfile: 700|Shell: 278'"
      ]
     },
     "execution_count": 14,
     "metadata": {},
     "output_type": "execute_result"
    }
   ],
   "source": [
    "parse_repo_url(\"https://github.com/cmungall/wikidata_ontomatcher\").to_dict()['languages']"
   ]
  },
  {
   "cell_type": "code",
   "execution_count": 15,
   "metadata": {},
   "outputs": [
    {
     "name": "stderr",
     "output_type": "stream",
     "text": [
      "Processing repository: https://github.com/pauldevos/Basketball_Analytics: 100%|██████████| 50/50 [02:12<00:00,  2.65s/it]                 \n"
     ]
    }
   ],
   "source": [
    "from tqdm import tqdm\n",
    "\n",
    "git_dataset = []\n",
    "pbar = tqdm(repo_urls)\n",
    "for url in pbar:\n",
    "    pbar.set_description(f\"Processing repository: {url}\")\n",
    "    git_dataset.append(parse_repo_url(url))\n"
   ]
  },
  {
   "cell_type": "markdown",
   "metadata": {},
   "source": [
    "## Creating a dataframe"
   ]
  },
  {
   "cell_type": "code",
   "execution_count": 16,
   "metadata": {},
   "outputs": [
    {
     "data": {
      "text/html": [
       "<div>\n",
       "<style scoped>\n",
       "    .dataframe tbody tr th:only-of-type {\n",
       "        vertical-align: middle;\n",
       "    }\n",
       "\n",
       "    .dataframe tbody tr th {\n",
       "        vertical-align: top;\n",
       "    }\n",
       "\n",
       "    .dataframe thead th {\n",
       "        text-align: right;\n",
       "    }\n",
       "</style>\n",
       "<table border=\"1\" class=\"dataframe\">\n",
       "  <thead>\n",
       "    <tr style=\"text-align: right;\">\n",
       "      <th></th>\n",
       "      <th>gh_id</th>\n",
       "      <th>name</th>\n",
       "      <th>description</th>\n",
       "      <th>owner_name</th>\n",
       "      <th>languages</th>\n",
       "      <th>readme_text</th>\n",
       "      <th>issues_text</th>\n",
       "    </tr>\n",
       "  </thead>\n",
       "  <tbody>\n",
       "    <tr>\n",
       "      <th>0</th>\n",
       "      <td>216602979</td>\n",
       "      <td>LIRICAL</td>\n",
       "      <td>LIkelihood Ratio Interpretation of Clinical Ab...</td>\n",
       "      <td>cmungall</td>\n",
       "      <td>Java: 492423|FreeMarker: 13149|Python: 849</td>\n",
       "      <td>LIRICAL\\n\\nLIkelihood Ratio Interpretation of ...</td>\n",
       "      <td></td>\n",
       "    </tr>\n",
       "    <tr>\n",
       "      <th>1</th>\n",
       "      <td>199330464</td>\n",
       "      <td>wikidata_ontomatcher</td>\n",
       "      <td>Matches ontology classes against wikidata</td>\n",
       "      <td>cmungall</td>\n",
       "      <td>Prolog: 14691|Makefile: 1472|Dockerfile: 700|S...</td>\n",
       "      <td>Match an ontology to Wikidata\\nThis applicatio...</td>\n",
       "      <td>Will help with #1 and with https://github.com/...</td>\n",
       "    </tr>\n",
       "    <tr>\n",
       "      <th>2</th>\n",
       "      <td>253207181</td>\n",
       "      <td>ro-crate-ruby</td>\n",
       "      <td>A Ruby gem for creating, manipulating and read...</td>\n",
       "      <td>markwilkinson</td>\n",
       "      <td>Ruby: 52724|HTML: 1319</td>\n",
       "      <td>ro-crate-ruby\\nThis is a WIP gem for creating,...</td>\n",
       "      <td></td>\n",
       "    </tr>\n",
       "    <tr>\n",
       "      <th>3</th>\n",
       "      <td>212556220</td>\n",
       "      <td>Misc_Training_scripts</td>\n",
       "      <td>A place for me to keep various miscellanelous ...</td>\n",
       "      <td>markwilkinson</td>\n",
       "      <td>Shell: 15815|Ruby: 9445</td>\n",
       "      <td>Misc_Training_scripts\\nA place for me to keep ...</td>\n",
       "      <td></td>\n",
       "    </tr>\n",
       "    <tr>\n",
       "      <th>4</th>\n",
       "      <td>155879756</td>\n",
       "      <td>FAIRifier</td>\n",
       "      <td>A tool to make data FAIR</td>\n",
       "      <td>mikel-egana-aranguren</td>\n",
       "      <td>Java: 3514431|JavaScript: 967765|HTML: 333450|...</td>\n",
       "      <td>Dependencies:\\n\\nJava 8\\nApache Ant\\n\\nBuildin...</td>\n",
       "      <td></td>\n",
       "    </tr>\n",
       "  </tbody>\n",
       "</table>\n",
       "</div>"
      ],
      "text/plain": [
       "       gh_id                   name  \\\n",
       "0  216602979                LIRICAL   \n",
       "1  199330464   wikidata_ontomatcher   \n",
       "2  253207181          ro-crate-ruby   \n",
       "3  212556220  Misc_Training_scripts   \n",
       "4  155879756              FAIRifier   \n",
       "\n",
       "                                         description             owner_name  \\\n",
       "0  LIkelihood Ratio Interpretation of Clinical Ab...               cmungall   \n",
       "1          Matches ontology classes against wikidata               cmungall   \n",
       "2  A Ruby gem for creating, manipulating and read...          markwilkinson   \n",
       "3  A place for me to keep various miscellanelous ...          markwilkinson   \n",
       "4                           A tool to make data FAIR  mikel-egana-aranguren   \n",
       "\n",
       "                                           languages  \\\n",
       "0         Java: 492423|FreeMarker: 13149|Python: 849   \n",
       "1  Prolog: 14691|Makefile: 1472|Dockerfile: 700|S...   \n",
       "2                             Ruby: 52724|HTML: 1319   \n",
       "3                            Shell: 15815|Ruby: 9445   \n",
       "4  Java: 3514431|JavaScript: 967765|HTML: 333450|...   \n",
       "\n",
       "                                         readme_text  \\\n",
       "0  LIRICAL\\n\\nLIkelihood Ratio Interpretation of ...   \n",
       "1  Match an ontology to Wikidata\\nThis applicatio...   \n",
       "2  ro-crate-ruby\\nThis is a WIP gem for creating,...   \n",
       "3  Misc_Training_scripts\\nA place for me to keep ...   \n",
       "4  Dependencies:\\n\\nJava 8\\nApache Ant\\n\\nBuildin...   \n",
       "\n",
       "                                         issues_text  \n",
       "0                                                     \n",
       "1  Will help with #1 and with https://github.com/...  \n",
       "2                                                     \n",
       "3                                                     \n",
       "4                                                     "
      ]
     },
     "execution_count": 16,
     "metadata": {},
     "output_type": "execute_result"
    }
   ],
   "source": [
    "import pandas as pd\n",
    "\n",
    "df = pd.DataFrame([repo.to_dict() for repo in git_dataset])\n",
    "df.head()"
   ]
  },
  {
   "cell_type": "code",
   "execution_count": null,
   "metadata": {},
   "outputs": [],
   "source": []
  },
  {
   "cell_type": "markdown",
   "metadata": {},
   "source": [
    "## Data cleaning and feature engineering"
   ]
  },
  {
   "cell_type": "code",
   "execution_count": null,
   "metadata": {},
   "outputs": [],
   "source": []
  },
  {
   "cell_type": "code",
   "execution_count": null,
   "metadata": {},
   "outputs": [],
   "source": []
  },
  {
   "cell_type": "markdown",
   "metadata": {},
   "source": [
    "## Initial exploration"
   ]
  },
  {
   "cell_type": "markdown",
   "metadata": {},
   "source": [
    "### Readme length"
   ]
  },
  {
   "cell_type": "code",
   "execution_count": null,
   "metadata": {},
   "outputs": [],
   "source": []
  },
  {
   "cell_type": "markdown",
   "metadata": {},
   "source": [
    "### Languages used"
   ]
  },
  {
   "cell_type": "code",
   "execution_count": null,
   "metadata": {},
   "outputs": [],
   "source": []
  },
  {
   "cell_type": "markdown",
   "metadata": {},
   "source": [
    "## Saving the dataframe"
   ]
  },
  {
   "cell_type": "code",
   "execution_count": null,
   "metadata": {},
   "outputs": [],
   "source": []
  }
 ],
 "metadata": {
  "kernelspec": {
   "display_name": "Python 3",
   "language": "python",
   "name": "python3"
  },
  "language_info": {
   "codemirror_mode": {
    "name": "ipython",
    "version": 3
   },
   "file_extension": ".py",
   "mimetype": "text/x-python",
   "name": "python",
   "nbconvert_exporter": "python",
   "pygments_lexer": "ipython3",
   "version": "3.7.0"
  }
 },
 "nbformat": 4,
 "nbformat_minor": 4
}
